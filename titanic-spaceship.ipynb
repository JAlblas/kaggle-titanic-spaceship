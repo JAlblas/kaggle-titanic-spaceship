{
 "cells": [
  {
   "cell_type": "code",
   "execution_count": 1,
   "id": "46f3953c",
   "metadata": {
    "_cell_guid": "b1076dfc-b9ad-4769-8c92-a6c4dae69d19",
    "_uuid": "8f2839f25d086af736a60e9eeb907d3b93b6e0e5",
    "execution": {
     "iopub.execute_input": "2022-05-17T08:31:57.814266Z",
     "iopub.status.busy": "2022-05-17T08:31:57.812930Z",
     "iopub.status.idle": "2022-05-17T08:31:59.044474Z",
     "shell.execute_reply": "2022-05-17T08:31:59.043860Z",
     "shell.execute_reply.started": "2022-05-17T08:24:40.517109Z"
    },
    "papermill": {
     "duration": 1.318585,
     "end_time": "2022-05-17T08:31:59.044642",
     "exception": false,
     "start_time": "2022-05-17T08:31:57.726057",
     "status": "completed"
    },
    "tags": []
   },
   "outputs": [],
   "source": [
    "import numpy as np\n",
    "import pandas as pd\n",
    "import matplotlib.pyplot as plt\n",
    "import seaborn as sns"
   ]
  },
  {
   "cell_type": "markdown",
   "id": "abfc7ca7",
   "metadata": {
    "papermill": {
     "duration": 0.081422,
     "end_time": "2022-05-17T08:31:59.208304",
     "exception": false,
     "start_time": "2022-05-17T08:31:59.126882",
     "status": "completed"
    },
    "tags": []
   },
   "source": [
    "# Loading data"
   ]
  },
  {
   "cell_type": "code",
   "execution_count": 2,
   "id": "478854d1",
   "metadata": {
    "execution": {
     "iopub.execute_input": "2022-05-17T08:31:59.380937Z",
     "iopub.status.busy": "2022-05-17T08:31:59.380269Z",
     "iopub.status.idle": "2022-05-17T08:31:59.464083Z",
     "shell.execute_reply": "2022-05-17T08:31:59.463565Z",
     "shell.execute_reply.started": "2022-05-17T08:24:40.528168Z"
    },
    "papermill": {
     "duration": 0.173025,
     "end_time": "2022-05-17T08:31:59.464205",
     "exception": false,
     "start_time": "2022-05-17T08:31:59.291180",
     "status": "completed"
    },
    "tags": []
   },
   "outputs": [],
   "source": [
    "df = pd.read_csv('/kaggle/input/spaceship-titanic/train.csv')\n",
    "df_validation = pd.read_csv('/kaggle/input/spaceship-titanic/test.csv')"
   ]
  },
  {
   "cell_type": "code",
   "execution_count": 3,
   "id": "9f5578b3",
   "metadata": {
    "execution": {
     "iopub.execute_input": "2022-05-17T08:31:59.646246Z",
     "iopub.status.busy": "2022-05-17T08:31:59.645682Z",
     "iopub.status.idle": "2022-05-17T08:31:59.679313Z",
     "shell.execute_reply": "2022-05-17T08:31:59.679765Z",
     "shell.execute_reply.started": "2022-05-17T08:24:40.598081Z"
    },
    "papermill": {
     "duration": 0.132802,
     "end_time": "2022-05-17T08:31:59.679913",
     "exception": false,
     "start_time": "2022-05-17T08:31:59.547111",
     "status": "completed"
    },
    "tags": []
   },
   "outputs": [
    {
     "data": {
      "text/html": [
       "<div>\n",
       "<style scoped>\n",
       "    .dataframe tbody tr th:only-of-type {\n",
       "        vertical-align: middle;\n",
       "    }\n",
       "\n",
       "    .dataframe tbody tr th {\n",
       "        vertical-align: top;\n",
       "    }\n",
       "\n",
       "    .dataframe thead th {\n",
       "        text-align: right;\n",
       "    }\n",
       "</style>\n",
       "<table border=\"1\" class=\"dataframe\">\n",
       "  <thead>\n",
       "    <tr style=\"text-align: right;\">\n",
       "      <th></th>\n",
       "      <th>PassengerId</th>\n",
       "      <th>HomePlanet</th>\n",
       "      <th>CryoSleep</th>\n",
       "      <th>Cabin</th>\n",
       "      <th>Destination</th>\n",
       "      <th>Age</th>\n",
       "      <th>VIP</th>\n",
       "      <th>RoomService</th>\n",
       "      <th>FoodCourt</th>\n",
       "      <th>ShoppingMall</th>\n",
       "      <th>Spa</th>\n",
       "      <th>VRDeck</th>\n",
       "      <th>Name</th>\n",
       "      <th>Transported</th>\n",
       "    </tr>\n",
       "  </thead>\n",
       "  <tbody>\n",
       "    <tr>\n",
       "      <th>0</th>\n",
       "      <td>0001_01</td>\n",
       "      <td>Europa</td>\n",
       "      <td>False</td>\n",
       "      <td>B/0/P</td>\n",
       "      <td>TRAPPIST-1e</td>\n",
       "      <td>39.0</td>\n",
       "      <td>False</td>\n",
       "      <td>0.0</td>\n",
       "      <td>0.0</td>\n",
       "      <td>0.0</td>\n",
       "      <td>0.0</td>\n",
       "      <td>0.0</td>\n",
       "      <td>Maham Ofracculy</td>\n",
       "      <td>False</td>\n",
       "    </tr>\n",
       "    <tr>\n",
       "      <th>1</th>\n",
       "      <td>0002_01</td>\n",
       "      <td>Earth</td>\n",
       "      <td>False</td>\n",
       "      <td>F/0/S</td>\n",
       "      <td>TRAPPIST-1e</td>\n",
       "      <td>24.0</td>\n",
       "      <td>False</td>\n",
       "      <td>109.0</td>\n",
       "      <td>9.0</td>\n",
       "      <td>25.0</td>\n",
       "      <td>549.0</td>\n",
       "      <td>44.0</td>\n",
       "      <td>Juanna Vines</td>\n",
       "      <td>True</td>\n",
       "    </tr>\n",
       "    <tr>\n",
       "      <th>2</th>\n",
       "      <td>0003_01</td>\n",
       "      <td>Europa</td>\n",
       "      <td>False</td>\n",
       "      <td>A/0/S</td>\n",
       "      <td>TRAPPIST-1e</td>\n",
       "      <td>58.0</td>\n",
       "      <td>True</td>\n",
       "      <td>43.0</td>\n",
       "      <td>3576.0</td>\n",
       "      <td>0.0</td>\n",
       "      <td>6715.0</td>\n",
       "      <td>49.0</td>\n",
       "      <td>Altark Susent</td>\n",
       "      <td>False</td>\n",
       "    </tr>\n",
       "    <tr>\n",
       "      <th>3</th>\n",
       "      <td>0003_02</td>\n",
       "      <td>Europa</td>\n",
       "      <td>False</td>\n",
       "      <td>A/0/S</td>\n",
       "      <td>TRAPPIST-1e</td>\n",
       "      <td>33.0</td>\n",
       "      <td>False</td>\n",
       "      <td>0.0</td>\n",
       "      <td>1283.0</td>\n",
       "      <td>371.0</td>\n",
       "      <td>3329.0</td>\n",
       "      <td>193.0</td>\n",
       "      <td>Solam Susent</td>\n",
       "      <td>False</td>\n",
       "    </tr>\n",
       "    <tr>\n",
       "      <th>4</th>\n",
       "      <td>0004_01</td>\n",
       "      <td>Earth</td>\n",
       "      <td>False</td>\n",
       "      <td>F/1/S</td>\n",
       "      <td>TRAPPIST-1e</td>\n",
       "      <td>16.0</td>\n",
       "      <td>False</td>\n",
       "      <td>303.0</td>\n",
       "      <td>70.0</td>\n",
       "      <td>151.0</td>\n",
       "      <td>565.0</td>\n",
       "      <td>2.0</td>\n",
       "      <td>Willy Santantines</td>\n",
       "      <td>True</td>\n",
       "    </tr>\n",
       "    <tr>\n",
       "      <th>...</th>\n",
       "      <td>...</td>\n",
       "      <td>...</td>\n",
       "      <td>...</td>\n",
       "      <td>...</td>\n",
       "      <td>...</td>\n",
       "      <td>...</td>\n",
       "      <td>...</td>\n",
       "      <td>...</td>\n",
       "      <td>...</td>\n",
       "      <td>...</td>\n",
       "      <td>...</td>\n",
       "      <td>...</td>\n",
       "      <td>...</td>\n",
       "      <td>...</td>\n",
       "    </tr>\n",
       "    <tr>\n",
       "      <th>8688</th>\n",
       "      <td>9276_01</td>\n",
       "      <td>Europa</td>\n",
       "      <td>False</td>\n",
       "      <td>A/98/P</td>\n",
       "      <td>55 Cancri e</td>\n",
       "      <td>41.0</td>\n",
       "      <td>True</td>\n",
       "      <td>0.0</td>\n",
       "      <td>6819.0</td>\n",
       "      <td>0.0</td>\n",
       "      <td>1643.0</td>\n",
       "      <td>74.0</td>\n",
       "      <td>Gravior Noxnuther</td>\n",
       "      <td>False</td>\n",
       "    </tr>\n",
       "    <tr>\n",
       "      <th>8689</th>\n",
       "      <td>9278_01</td>\n",
       "      <td>Earth</td>\n",
       "      <td>True</td>\n",
       "      <td>G/1499/S</td>\n",
       "      <td>PSO J318.5-22</td>\n",
       "      <td>18.0</td>\n",
       "      <td>False</td>\n",
       "      <td>0.0</td>\n",
       "      <td>0.0</td>\n",
       "      <td>0.0</td>\n",
       "      <td>0.0</td>\n",
       "      <td>0.0</td>\n",
       "      <td>Kurta Mondalley</td>\n",
       "      <td>False</td>\n",
       "    </tr>\n",
       "    <tr>\n",
       "      <th>8690</th>\n",
       "      <td>9279_01</td>\n",
       "      <td>Earth</td>\n",
       "      <td>False</td>\n",
       "      <td>G/1500/S</td>\n",
       "      <td>TRAPPIST-1e</td>\n",
       "      <td>26.0</td>\n",
       "      <td>False</td>\n",
       "      <td>0.0</td>\n",
       "      <td>0.0</td>\n",
       "      <td>1872.0</td>\n",
       "      <td>1.0</td>\n",
       "      <td>0.0</td>\n",
       "      <td>Fayey Connon</td>\n",
       "      <td>True</td>\n",
       "    </tr>\n",
       "    <tr>\n",
       "      <th>8691</th>\n",
       "      <td>9280_01</td>\n",
       "      <td>Europa</td>\n",
       "      <td>False</td>\n",
       "      <td>E/608/S</td>\n",
       "      <td>55 Cancri e</td>\n",
       "      <td>32.0</td>\n",
       "      <td>False</td>\n",
       "      <td>0.0</td>\n",
       "      <td>1049.0</td>\n",
       "      <td>0.0</td>\n",
       "      <td>353.0</td>\n",
       "      <td>3235.0</td>\n",
       "      <td>Celeon Hontichre</td>\n",
       "      <td>False</td>\n",
       "    </tr>\n",
       "    <tr>\n",
       "      <th>8692</th>\n",
       "      <td>9280_02</td>\n",
       "      <td>Europa</td>\n",
       "      <td>False</td>\n",
       "      <td>E/608/S</td>\n",
       "      <td>TRAPPIST-1e</td>\n",
       "      <td>44.0</td>\n",
       "      <td>False</td>\n",
       "      <td>126.0</td>\n",
       "      <td>4688.0</td>\n",
       "      <td>0.0</td>\n",
       "      <td>0.0</td>\n",
       "      <td>12.0</td>\n",
       "      <td>Propsh Hontichre</td>\n",
       "      <td>True</td>\n",
       "    </tr>\n",
       "  </tbody>\n",
       "</table>\n",
       "<p>8693 rows × 14 columns</p>\n",
       "</div>"
      ],
      "text/plain": [
       "     PassengerId HomePlanet CryoSleep     Cabin    Destination   Age    VIP  \\\n",
       "0        0001_01     Europa     False     B/0/P    TRAPPIST-1e  39.0  False   \n",
       "1        0002_01      Earth     False     F/0/S    TRAPPIST-1e  24.0  False   \n",
       "2        0003_01     Europa     False     A/0/S    TRAPPIST-1e  58.0   True   \n",
       "3        0003_02     Europa     False     A/0/S    TRAPPIST-1e  33.0  False   \n",
       "4        0004_01      Earth     False     F/1/S    TRAPPIST-1e  16.0  False   \n",
       "...          ...        ...       ...       ...            ...   ...    ...   \n",
       "8688     9276_01     Europa     False    A/98/P    55 Cancri e  41.0   True   \n",
       "8689     9278_01      Earth      True  G/1499/S  PSO J318.5-22  18.0  False   \n",
       "8690     9279_01      Earth     False  G/1500/S    TRAPPIST-1e  26.0  False   \n",
       "8691     9280_01     Europa     False   E/608/S    55 Cancri e  32.0  False   \n",
       "8692     9280_02     Europa     False   E/608/S    TRAPPIST-1e  44.0  False   \n",
       "\n",
       "      RoomService  FoodCourt  ShoppingMall     Spa  VRDeck               Name  \\\n",
       "0             0.0        0.0           0.0     0.0     0.0    Maham Ofracculy   \n",
       "1           109.0        9.0          25.0   549.0    44.0       Juanna Vines   \n",
       "2            43.0     3576.0           0.0  6715.0    49.0      Altark Susent   \n",
       "3             0.0     1283.0         371.0  3329.0   193.0       Solam Susent   \n",
       "4           303.0       70.0         151.0   565.0     2.0  Willy Santantines   \n",
       "...           ...        ...           ...     ...     ...                ...   \n",
       "8688          0.0     6819.0           0.0  1643.0    74.0  Gravior Noxnuther   \n",
       "8689          0.0        0.0           0.0     0.0     0.0    Kurta Mondalley   \n",
       "8690          0.0        0.0        1872.0     1.0     0.0       Fayey Connon   \n",
       "8691          0.0     1049.0           0.0   353.0  3235.0   Celeon Hontichre   \n",
       "8692        126.0     4688.0           0.0     0.0    12.0   Propsh Hontichre   \n",
       "\n",
       "      Transported  \n",
       "0           False  \n",
       "1            True  \n",
       "2           False  \n",
       "3           False  \n",
       "4            True  \n",
       "...           ...  \n",
       "8688        False  \n",
       "8689        False  \n",
       "8690         True  \n",
       "8691        False  \n",
       "8692         True  \n",
       "\n",
       "[8693 rows x 14 columns]"
      ]
     },
     "execution_count": 3,
     "metadata": {},
     "output_type": "execute_result"
    }
   ],
   "source": [
    "df"
   ]
  },
  {
   "cell_type": "code",
   "execution_count": 4,
   "id": "908eb682",
   "metadata": {
    "execution": {
     "iopub.execute_input": "2022-05-17T08:31:59.858105Z",
     "iopub.status.busy": "2022-05-17T08:31:59.857447Z",
     "iopub.status.idle": "2022-05-17T08:31:59.859751Z",
     "shell.execute_reply": "2022-05-17T08:31:59.859167Z",
     "shell.execute_reply.started": "2022-05-17T08:24:40.632132Z"
    },
    "papermill": {
     "duration": 0.095793,
     "end_time": "2022-05-17T08:31:59.859877",
     "exception": false,
     "start_time": "2022-05-17T08:31:59.764084",
     "status": "completed"
    },
    "tags": []
   },
   "outputs": [],
   "source": [
    "df.set_index('PassengerId', inplace=True)"
   ]
  },
  {
   "cell_type": "markdown",
   "id": "f657a3ea",
   "metadata": {
    "papermill": {
     "duration": 0.084213,
     "end_time": "2022-05-17T08:32:00.027889",
     "exception": false,
     "start_time": "2022-05-17T08:31:59.943676",
     "status": "completed"
    },
    "tags": []
   },
   "source": [
    "# Exploratory Data Analysis (EDA)"
   ]
  },
  {
   "cell_type": "code",
   "execution_count": 5,
   "id": "2ef748bf",
   "metadata": {
    "execution": {
     "iopub.execute_input": "2022-05-17T08:32:00.198247Z",
     "iopub.status.busy": "2022-05-17T08:32:00.197587Z",
     "iopub.status.idle": "2022-05-17T08:32:00.226842Z",
     "shell.execute_reply": "2022-05-17T08:32:00.227331Z",
     "shell.execute_reply.started": "2022-05-17T08:24:40.648512Z"
    },
    "papermill": {
     "duration": 0.115879,
     "end_time": "2022-05-17T08:32:00.227489",
     "exception": false,
     "start_time": "2022-05-17T08:32:00.111610",
     "status": "completed"
    },
    "tags": []
   },
   "outputs": [
    {
     "data": {
      "text/html": [
       "<div>\n",
       "<style scoped>\n",
       "    .dataframe tbody tr th:only-of-type {\n",
       "        vertical-align: middle;\n",
       "    }\n",
       "\n",
       "    .dataframe tbody tr th {\n",
       "        vertical-align: top;\n",
       "    }\n",
       "\n",
       "    .dataframe thead th {\n",
       "        text-align: right;\n",
       "    }\n",
       "</style>\n",
       "<table border=\"1\" class=\"dataframe\">\n",
       "  <thead>\n",
       "    <tr style=\"text-align: right;\">\n",
       "      <th></th>\n",
       "      <th>HomePlanet</th>\n",
       "      <th>CryoSleep</th>\n",
       "      <th>Cabin</th>\n",
       "      <th>Destination</th>\n",
       "      <th>Age</th>\n",
       "      <th>VIP</th>\n",
       "      <th>RoomService</th>\n",
       "      <th>FoodCourt</th>\n",
       "      <th>ShoppingMall</th>\n",
       "      <th>Spa</th>\n",
       "      <th>VRDeck</th>\n",
       "      <th>Name</th>\n",
       "      <th>Transported</th>\n",
       "    </tr>\n",
       "    <tr>\n",
       "      <th>PassengerId</th>\n",
       "      <th></th>\n",
       "      <th></th>\n",
       "      <th></th>\n",
       "      <th></th>\n",
       "      <th></th>\n",
       "      <th></th>\n",
       "      <th></th>\n",
       "      <th></th>\n",
       "      <th></th>\n",
       "      <th></th>\n",
       "      <th></th>\n",
       "      <th></th>\n",
       "      <th></th>\n",
       "    </tr>\n",
       "  </thead>\n",
       "  <tbody>\n",
       "    <tr>\n",
       "      <th>0001_01</th>\n",
       "      <td>Europa</td>\n",
       "      <td>False</td>\n",
       "      <td>B/0/P</td>\n",
       "      <td>TRAPPIST-1e</td>\n",
       "      <td>39.0</td>\n",
       "      <td>False</td>\n",
       "      <td>0.0</td>\n",
       "      <td>0.0</td>\n",
       "      <td>0.0</td>\n",
       "      <td>0.0</td>\n",
       "      <td>0.0</td>\n",
       "      <td>Maham Ofracculy</td>\n",
       "      <td>False</td>\n",
       "    </tr>\n",
       "    <tr>\n",
       "      <th>0002_01</th>\n",
       "      <td>Earth</td>\n",
       "      <td>False</td>\n",
       "      <td>F/0/S</td>\n",
       "      <td>TRAPPIST-1e</td>\n",
       "      <td>24.0</td>\n",
       "      <td>False</td>\n",
       "      <td>109.0</td>\n",
       "      <td>9.0</td>\n",
       "      <td>25.0</td>\n",
       "      <td>549.0</td>\n",
       "      <td>44.0</td>\n",
       "      <td>Juanna Vines</td>\n",
       "      <td>True</td>\n",
       "    </tr>\n",
       "    <tr>\n",
       "      <th>0003_01</th>\n",
       "      <td>Europa</td>\n",
       "      <td>False</td>\n",
       "      <td>A/0/S</td>\n",
       "      <td>TRAPPIST-1e</td>\n",
       "      <td>58.0</td>\n",
       "      <td>True</td>\n",
       "      <td>43.0</td>\n",
       "      <td>3576.0</td>\n",
       "      <td>0.0</td>\n",
       "      <td>6715.0</td>\n",
       "      <td>49.0</td>\n",
       "      <td>Altark Susent</td>\n",
       "      <td>False</td>\n",
       "    </tr>\n",
       "    <tr>\n",
       "      <th>0003_02</th>\n",
       "      <td>Europa</td>\n",
       "      <td>False</td>\n",
       "      <td>A/0/S</td>\n",
       "      <td>TRAPPIST-1e</td>\n",
       "      <td>33.0</td>\n",
       "      <td>False</td>\n",
       "      <td>0.0</td>\n",
       "      <td>1283.0</td>\n",
       "      <td>371.0</td>\n",
       "      <td>3329.0</td>\n",
       "      <td>193.0</td>\n",
       "      <td>Solam Susent</td>\n",
       "      <td>False</td>\n",
       "    </tr>\n",
       "    <tr>\n",
       "      <th>0004_01</th>\n",
       "      <td>Earth</td>\n",
       "      <td>False</td>\n",
       "      <td>F/1/S</td>\n",
       "      <td>TRAPPIST-1e</td>\n",
       "      <td>16.0</td>\n",
       "      <td>False</td>\n",
       "      <td>303.0</td>\n",
       "      <td>70.0</td>\n",
       "      <td>151.0</td>\n",
       "      <td>565.0</td>\n",
       "      <td>2.0</td>\n",
       "      <td>Willy Santantines</td>\n",
       "      <td>True</td>\n",
       "    </tr>\n",
       "    <tr>\n",
       "      <th>...</th>\n",
       "      <td>...</td>\n",
       "      <td>...</td>\n",
       "      <td>...</td>\n",
       "      <td>...</td>\n",
       "      <td>...</td>\n",
       "      <td>...</td>\n",
       "      <td>...</td>\n",
       "      <td>...</td>\n",
       "      <td>...</td>\n",
       "      <td>...</td>\n",
       "      <td>...</td>\n",
       "      <td>...</td>\n",
       "      <td>...</td>\n",
       "    </tr>\n",
       "    <tr>\n",
       "      <th>9276_01</th>\n",
       "      <td>Europa</td>\n",
       "      <td>False</td>\n",
       "      <td>A/98/P</td>\n",
       "      <td>55 Cancri e</td>\n",
       "      <td>41.0</td>\n",
       "      <td>True</td>\n",
       "      <td>0.0</td>\n",
       "      <td>6819.0</td>\n",
       "      <td>0.0</td>\n",
       "      <td>1643.0</td>\n",
       "      <td>74.0</td>\n",
       "      <td>Gravior Noxnuther</td>\n",
       "      <td>False</td>\n",
       "    </tr>\n",
       "    <tr>\n",
       "      <th>9278_01</th>\n",
       "      <td>Earth</td>\n",
       "      <td>True</td>\n",
       "      <td>G/1499/S</td>\n",
       "      <td>PSO J318.5-22</td>\n",
       "      <td>18.0</td>\n",
       "      <td>False</td>\n",
       "      <td>0.0</td>\n",
       "      <td>0.0</td>\n",
       "      <td>0.0</td>\n",
       "      <td>0.0</td>\n",
       "      <td>0.0</td>\n",
       "      <td>Kurta Mondalley</td>\n",
       "      <td>False</td>\n",
       "    </tr>\n",
       "    <tr>\n",
       "      <th>9279_01</th>\n",
       "      <td>Earth</td>\n",
       "      <td>False</td>\n",
       "      <td>G/1500/S</td>\n",
       "      <td>TRAPPIST-1e</td>\n",
       "      <td>26.0</td>\n",
       "      <td>False</td>\n",
       "      <td>0.0</td>\n",
       "      <td>0.0</td>\n",
       "      <td>1872.0</td>\n",
       "      <td>1.0</td>\n",
       "      <td>0.0</td>\n",
       "      <td>Fayey Connon</td>\n",
       "      <td>True</td>\n",
       "    </tr>\n",
       "    <tr>\n",
       "      <th>9280_01</th>\n",
       "      <td>Europa</td>\n",
       "      <td>False</td>\n",
       "      <td>E/608/S</td>\n",
       "      <td>55 Cancri e</td>\n",
       "      <td>32.0</td>\n",
       "      <td>False</td>\n",
       "      <td>0.0</td>\n",
       "      <td>1049.0</td>\n",
       "      <td>0.0</td>\n",
       "      <td>353.0</td>\n",
       "      <td>3235.0</td>\n",
       "      <td>Celeon Hontichre</td>\n",
       "      <td>False</td>\n",
       "    </tr>\n",
       "    <tr>\n",
       "      <th>9280_02</th>\n",
       "      <td>Europa</td>\n",
       "      <td>False</td>\n",
       "      <td>E/608/S</td>\n",
       "      <td>TRAPPIST-1e</td>\n",
       "      <td>44.0</td>\n",
       "      <td>False</td>\n",
       "      <td>126.0</td>\n",
       "      <td>4688.0</td>\n",
       "      <td>0.0</td>\n",
       "      <td>0.0</td>\n",
       "      <td>12.0</td>\n",
       "      <td>Propsh Hontichre</td>\n",
       "      <td>True</td>\n",
       "    </tr>\n",
       "  </tbody>\n",
       "</table>\n",
       "<p>8693 rows × 13 columns</p>\n",
       "</div>"
      ],
      "text/plain": [
       "            HomePlanet CryoSleep     Cabin    Destination   Age    VIP  \\\n",
       "PassengerId                                                              \n",
       "0001_01         Europa     False     B/0/P    TRAPPIST-1e  39.0  False   \n",
       "0002_01          Earth     False     F/0/S    TRAPPIST-1e  24.0  False   \n",
       "0003_01         Europa     False     A/0/S    TRAPPIST-1e  58.0   True   \n",
       "0003_02         Europa     False     A/0/S    TRAPPIST-1e  33.0  False   \n",
       "0004_01          Earth     False     F/1/S    TRAPPIST-1e  16.0  False   \n",
       "...                ...       ...       ...            ...   ...    ...   \n",
       "9276_01         Europa     False    A/98/P    55 Cancri e  41.0   True   \n",
       "9278_01          Earth      True  G/1499/S  PSO J318.5-22  18.0  False   \n",
       "9279_01          Earth     False  G/1500/S    TRAPPIST-1e  26.0  False   \n",
       "9280_01         Europa     False   E/608/S    55 Cancri e  32.0  False   \n",
       "9280_02         Europa     False   E/608/S    TRAPPIST-1e  44.0  False   \n",
       "\n",
       "             RoomService  FoodCourt  ShoppingMall     Spa  VRDeck  \\\n",
       "PassengerId                                                         \n",
       "0001_01              0.0        0.0           0.0     0.0     0.0   \n",
       "0002_01            109.0        9.0          25.0   549.0    44.0   \n",
       "0003_01             43.0     3576.0           0.0  6715.0    49.0   \n",
       "0003_02              0.0     1283.0         371.0  3329.0   193.0   \n",
       "0004_01            303.0       70.0         151.0   565.0     2.0   \n",
       "...                  ...        ...           ...     ...     ...   \n",
       "9276_01              0.0     6819.0           0.0  1643.0    74.0   \n",
       "9278_01              0.0        0.0           0.0     0.0     0.0   \n",
       "9279_01              0.0        0.0        1872.0     1.0     0.0   \n",
       "9280_01              0.0     1049.0           0.0   353.0  3235.0   \n",
       "9280_02            126.0     4688.0           0.0     0.0    12.0   \n",
       "\n",
       "                          Name  Transported  \n",
       "PassengerId                                  \n",
       "0001_01        Maham Ofracculy        False  \n",
       "0002_01           Juanna Vines         True  \n",
       "0003_01          Altark Susent        False  \n",
       "0003_02           Solam Susent        False  \n",
       "0004_01      Willy Santantines         True  \n",
       "...                        ...          ...  \n",
       "9276_01      Gravior Noxnuther        False  \n",
       "9278_01        Kurta Mondalley        False  \n",
       "9279_01           Fayey Connon         True  \n",
       "9280_01       Celeon Hontichre        False  \n",
       "9280_02       Propsh Hontichre         True  \n",
       "\n",
       "[8693 rows x 13 columns]"
      ]
     },
     "execution_count": 5,
     "metadata": {},
     "output_type": "execute_result"
    }
   ],
   "source": [
    "df"
   ]
  },
  {
   "cell_type": "code",
   "execution_count": 6,
   "id": "423b2dd8",
   "metadata": {
    "execution": {
     "iopub.execute_input": "2022-05-17T08:32:00.398557Z",
     "iopub.status.busy": "2022-05-17T08:32:00.397919Z",
     "iopub.status.idle": "2022-05-17T08:32:00.400850Z",
     "shell.execute_reply": "2022-05-17T08:32:00.401317Z",
     "shell.execute_reply.started": "2022-05-17T08:24:40.689606Z"
    },
    "papermill": {
     "duration": 0.091167,
     "end_time": "2022-05-17T08:32:00.401471",
     "exception": false,
     "start_time": "2022-05-17T08:32:00.310304",
     "status": "completed"
    },
    "tags": []
   },
   "outputs": [
    {
     "data": {
      "text/plain": [
       "(8693, 13)"
      ]
     },
     "execution_count": 6,
     "metadata": {},
     "output_type": "execute_result"
    }
   ],
   "source": [
    "df.shape"
   ]
  },
  {
   "cell_type": "code",
   "execution_count": 7,
   "id": "73569be7",
   "metadata": {
    "execution": {
     "iopub.execute_input": "2022-05-17T08:32:00.573898Z",
     "iopub.status.busy": "2022-05-17T08:32:00.573308Z",
     "iopub.status.idle": "2022-05-17T08:32:00.600543Z",
     "shell.execute_reply": "2022-05-17T08:32:00.601191Z",
     "shell.execute_reply.started": "2022-05-17T08:24:40.698248Z"
    },
    "papermill": {
     "duration": 0.115461,
     "end_time": "2022-05-17T08:32:00.601390",
     "exception": false,
     "start_time": "2022-05-17T08:32:00.485929",
     "status": "completed"
    },
    "tags": []
   },
   "outputs": [
    {
     "name": "stdout",
     "output_type": "stream",
     "text": [
      "<class 'pandas.core.frame.DataFrame'>\n",
      "Index: 8693 entries, 0001_01 to 9280_02\n",
      "Data columns (total 13 columns):\n",
      " #   Column        Non-Null Count  Dtype  \n",
      "---  ------        --------------  -----  \n",
      " 0   HomePlanet    8492 non-null   object \n",
      " 1   CryoSleep     8476 non-null   object \n",
      " 2   Cabin         8494 non-null   object \n",
      " 3   Destination   8511 non-null   object \n",
      " 4   Age           8514 non-null   float64\n",
      " 5   VIP           8490 non-null   object \n",
      " 6   RoomService   8512 non-null   float64\n",
      " 7   FoodCourt     8510 non-null   float64\n",
      " 8   ShoppingMall  8485 non-null   float64\n",
      " 9   Spa           8510 non-null   float64\n",
      " 10  VRDeck        8505 non-null   float64\n",
      " 11  Name          8493 non-null   object \n",
      " 12  Transported   8693 non-null   bool   \n",
      "dtypes: bool(1), float64(6), object(6)\n",
      "memory usage: 891.4+ KB\n"
     ]
    }
   ],
   "source": [
    "df.info()"
   ]
  },
  {
   "cell_type": "code",
   "execution_count": 8,
   "id": "46cead92",
   "metadata": {
    "execution": {
     "iopub.execute_input": "2022-05-17T08:32:00.780204Z",
     "iopub.status.busy": "2022-05-17T08:32:00.779442Z",
     "iopub.status.idle": "2022-05-17T08:32:00.782234Z",
     "shell.execute_reply": "2022-05-17T08:32:00.782677Z",
     "shell.execute_reply.started": "2022-05-17T08:24:40.729069Z"
    },
    "papermill": {
     "duration": 0.095334,
     "end_time": "2022-05-17T08:32:00.782868",
     "exception": false,
     "start_time": "2022-05-17T08:32:00.687534",
     "status": "completed"
    },
    "tags": []
   },
   "outputs": [
    {
     "data": {
      "text/plain": [
       "HomePlanet       object\n",
       "CryoSleep        object\n",
       "Cabin            object\n",
       "Destination      object\n",
       "Age             float64\n",
       "VIP              object\n",
       "RoomService     float64\n",
       "FoodCourt       float64\n",
       "ShoppingMall    float64\n",
       "Spa             float64\n",
       "VRDeck          float64\n",
       "Name             object\n",
       "Transported        bool\n",
       "dtype: object"
      ]
     },
     "execution_count": 8,
     "metadata": {},
     "output_type": "execute_result"
    }
   ],
   "source": [
    "df.dtypes"
   ]
  },
  {
   "cell_type": "code",
   "execution_count": 9,
   "id": "b65f4ed9",
   "metadata": {
    "execution": {
     "iopub.execute_input": "2022-05-17T08:32:00.954458Z",
     "iopub.status.busy": "2022-05-17T08:32:00.953865Z",
     "iopub.status.idle": "2022-05-17T08:32:01.105807Z",
     "shell.execute_reply": "2022-05-17T08:32:01.105298Z",
     "shell.execute_reply.started": "2022-05-17T08:24:40.738678Z"
    },
    "papermill": {
     "duration": 0.238533,
     "end_time": "2022-05-17T08:32:01.105938",
     "exception": false,
     "start_time": "2022-05-17T08:32:00.867405",
     "status": "completed"
    },
    "tags": []
   },
   "outputs": [
    {
     "data": {
      "text/plain": [
       "<AxesSubplot:ylabel='None'>"
      ]
     },
     "execution_count": 9,
     "metadata": {},
     "output_type": "execute_result"
    },
    {
     "data": {
      "image/png": "[encoded data removed]",
      "text/plain": [
       "<Figure size 432x288 with 1 Axes>"
      ]
     },
     "metadata": {},
     "output_type": "display_data"
    }
   ],
   "source": [
    "df.dtypes.value_counts().plot.pie()"
   ]
  },
  {
   "cell_type": "code",
   "execution_count": 10,
   "id": "2bdc4a65",
   "metadata": {
    "execution": {
     "iopub.execute_input": "2022-05-17T08:32:01.284848Z",
     "iopub.status.busy": "2022-05-17T08:32:01.284058Z",
     "iopub.status.idle": "2022-05-17T08:32:01.318634Z",
     "shell.execute_reply": "2022-05-17T08:32:01.318164Z",
     "shell.execute_reply.started": "2022-05-17T08:24:40.863403Z"
    },
    "papermill": {
     "duration": 0.125931,
     "end_time": "2022-05-17T08:32:01.318799",
     "exception": false,
     "start_time": "2022-05-17T08:32:01.192868",
     "status": "completed"
    },
    "tags": []
   },
   "outputs": [
    {
     "data": {
      "text/html": [
       "<div>\n",
       "<style scoped>\n",
       "    .dataframe tbody tr th:only-of-type {\n",
       "        vertical-align: middle;\n",
       "    }\n",
       "\n",
       "    .dataframe tbody tr th {\n",
       "        vertical-align: top;\n",
       "    }\n",
       "\n",
       "    .dataframe thead th {\n",
       "        text-align: right;\n",
       "    }\n",
       "</style>\n",
       "<table border=\"1\" class=\"dataframe\">\n",
       "  <thead>\n",
       "    <tr style=\"text-align: right;\">\n",
       "      <th></th>\n",
       "      <th>Age</th>\n",
       "      <th>RoomService</th>\n",
       "      <th>FoodCourt</th>\n",
       "      <th>ShoppingMall</th>\n",
       "      <th>Spa</th>\n",
       "      <th>VRDeck</th>\n",
       "    </tr>\n",
       "  </thead>\n",
       "  <tbody>\n",
       "    <tr>\n",
       "      <th>count</th>\n",
       "      <td>8514.000000</td>\n",
       "      <td>8512.000000</td>\n",
       "      <td>8510.000000</td>\n",
       "      <td>8485.000000</td>\n",
       "      <td>8510.000000</td>\n",
       "      <td>8505.000000</td>\n",
       "    </tr>\n",
       "    <tr>\n",
       "      <th>mean</th>\n",
       "      <td>28.827930</td>\n",
       "      <td>224.687617</td>\n",
       "      <td>458.077203</td>\n",
       "      <td>173.729169</td>\n",
       "      <td>311.138778</td>\n",
       "      <td>304.854791</td>\n",
       "    </tr>\n",
       "    <tr>\n",
       "      <th>std</th>\n",
       "      <td>14.489021</td>\n",
       "      <td>666.717663</td>\n",
       "      <td>1611.489240</td>\n",
       "      <td>604.696458</td>\n",
       "      <td>1136.705535</td>\n",
       "      <td>1145.717189</td>\n",
       "    </tr>\n",
       "    <tr>\n",
       "      <th>min</th>\n",
       "      <td>0.000000</td>\n",
       "      <td>0.000000</td>\n",
       "      <td>0.000000</td>\n",
       "      <td>0.000000</td>\n",
       "      <td>0.000000</td>\n",
       "      <td>0.000000</td>\n",
       "    </tr>\n",
       "    <tr>\n",
       "      <th>25%</th>\n",
       "      <td>19.000000</td>\n",
       "      <td>0.000000</td>\n",
       "      <td>0.000000</td>\n",
       "      <td>0.000000</td>\n",
       "      <td>0.000000</td>\n",
       "      <td>0.000000</td>\n",
       "    </tr>\n",
       "    <tr>\n",
       "      <th>50%</th>\n",
       "      <td>27.000000</td>\n",
       "      <td>0.000000</td>\n",
       "      <td>0.000000</td>\n",
       "      <td>0.000000</td>\n",
       "      <td>0.000000</td>\n",
       "      <td>0.000000</td>\n",
       "    </tr>\n",
       "    <tr>\n",
       "      <th>75%</th>\n",
       "      <td>38.000000</td>\n",
       "      <td>47.000000</td>\n",
       "      <td>76.000000</td>\n",
       "      <td>27.000000</td>\n",
       "      <td>59.000000</td>\n",
       "      <td>46.000000</td>\n",
       "    </tr>\n",
       "    <tr>\n",
       "      <th>max</th>\n",
       "      <td>79.000000</td>\n",
       "      <td>14327.000000</td>\n",
       "      <td>29813.000000</td>\n",
       "      <td>23492.000000</td>\n",
       "      <td>22408.000000</td>\n",
       "      <td>24133.000000</td>\n",
       "    </tr>\n",
       "  </tbody>\n",
       "</table>\n",
       "</div>"
      ],
      "text/plain": [
       "               Age   RoomService     FoodCourt  ShoppingMall           Spa  \\\n",
       "count  8514.000000   8512.000000   8510.000000   8485.000000   8510.000000   \n",
       "mean     28.827930    224.687617    458.077203    173.729169    311.138778   \n",
       "std      14.489021    666.717663   1611.489240    604.696458   1136.705535   \n",
       "min       0.000000      0.000000      0.000000      0.000000      0.000000   \n",
       "25%      19.000000      0.000000      0.000000      0.000000      0.000000   \n",
       "50%      27.000000      0.000000      0.000000      0.000000      0.000000   \n",
       "75%      38.000000     47.000000     76.000000     27.000000     59.000000   \n",
       "max      79.000000  14327.000000  29813.000000  23492.000000  22408.000000   \n",
       "\n",
       "             VRDeck  \n",
       "count   8505.000000  \n",
       "mean     304.854791  \n",
       "std     1145.717189  \n",
       "min        0.000000  \n",
       "25%        0.000000  \n",
       "50%        0.000000  \n",
       "75%       46.000000  \n",
       "max    24133.000000  "
      ]
     },
     "execution_count": 10,
     "metadata": {},
     "output_type": "execute_result"
    }
   ],
   "source": [
    "df.describe()"
   ]
  },
  {
   "cell_type": "code",
   "execution_count": 11,
   "id": "cb736906",
   "metadata": {
    "execution": {
     "iopub.execute_input": "2022-05-17T08:32:01.505071Z",
     "iopub.status.busy": "2022-05-17T08:32:01.501099Z",
     "iopub.status.idle": "2022-05-17T08:32:01.507496Z",
     "shell.execute_reply": "2022-05-17T08:32:01.508106Z",
     "shell.execute_reply.started": "2022-05-17T08:24:40.921882Z"
    },
    "papermill": {
     "duration": 0.103111,
     "end_time": "2022-05-17T08:32:01.508320",
     "exception": false,
     "start_time": "2022-05-17T08:32:01.405209",
     "status": "completed"
    },
    "tags": []
   },
   "outputs": [
    {
     "data": {
      "text/plain": [
       "HomePlanet      201\n",
       "CryoSleep       217\n",
       "Cabin           199\n",
       "Destination     182\n",
       "Age             179\n",
       "VIP             203\n",
       "RoomService     181\n",
       "FoodCourt       183\n",
       "ShoppingMall    208\n",
       "Spa             183\n",
       "VRDeck          188\n",
       "Name            200\n",
       "Transported       0\n",
       "dtype: int64"
      ]
     },
     "execution_count": 11,
     "metadata": {},
     "output_type": "execute_result"
    }
   ],
   "source": [
    "df.isna().sum()"
   ]
  },
  {
   "cell_type": "markdown",
   "id": "2fe5d9fb",
   "metadata": {
    "papermill": {
     "duration": 0.135436,
     "end_time": "2022-05-17T08:32:01.783371",
     "exception": false,
     "start_time": "2022-05-17T08:32:01.647935",
     "status": "completed"
    },
    "tags": []
   },
   "source": [
    "# Convert data types"
   ]
  },
  {
   "cell_type": "code",
   "execution_count": 12,
   "id": "d651351b",
   "metadata": {
    "execution": {
     "iopub.execute_input": "2022-05-17T08:32:02.058148Z",
     "iopub.status.busy": "2022-05-17T08:32:02.057414Z",
     "iopub.status.idle": "2022-05-17T08:32:02.062827Z",
     "shell.execute_reply": "2022-05-17T08:32:02.063507Z",
     "shell.execute_reply.started": "2022-05-17T08:24:40.949116Z"
    },
    "papermill": {
     "duration": 0.143802,
     "end_time": "2022-05-17T08:32:02.063685",
     "exception": false,
     "start_time": "2022-05-17T08:32:01.919883",
     "status": "completed"
    },
    "tags": []
   },
   "outputs": [],
   "source": [
    "df[\"VIP\"] = df[\"VIP\"].astype(\"category\")"
   ]
  },
  {
   "cell_type": "code",
   "execution_count": 13,
   "id": "260373c7",
   "metadata": {
    "execution": {
     "iopub.execute_input": "2022-05-17T08:32:02.339299Z",
     "iopub.status.busy": "2022-05-17T08:32:02.338512Z",
     "iopub.status.idle": "2022-05-17T08:32:02.344212Z",
     "shell.execute_reply": "2022-05-17T08:32:02.344816Z",
     "shell.execute_reply.started": "2022-05-17T08:24:40.958105Z"
    },
    "papermill": {
     "duration": 0.146333,
     "end_time": "2022-05-17T08:32:02.345022",
     "exception": false,
     "start_time": "2022-05-17T08:32:02.198689",
     "status": "completed"
    },
    "tags": []
   },
   "outputs": [],
   "source": [
    "df[\"CryoSleep\"] = df[\"CryoSleep\"].astype(\"category\")"
   ]
  },
  {
   "cell_type": "code",
   "execution_count": 14,
   "id": "07eb6e4e",
   "metadata": {
    "execution": {
     "iopub.execute_input": "2022-05-17T08:32:02.622461Z",
     "iopub.status.busy": "2022-05-17T08:32:02.621763Z",
     "iopub.status.idle": "2022-05-17T08:32:02.625793Z",
     "shell.execute_reply": "2022-05-17T08:32:02.626517Z",
     "shell.execute_reply.started": "2022-05-17T08:24:40.972421Z"
    },
    "papermill": {
     "duration": 0.146163,
     "end_time": "2022-05-17T08:32:02.626760",
     "exception": false,
     "start_time": "2022-05-17T08:32:02.480597",
     "status": "completed"
    },
    "tags": []
   },
   "outputs": [],
   "source": [
    "df[\"Transported\"] = df[\"Transported\"].astype(\"int64\")"
   ]
  },
  {
   "cell_type": "markdown",
   "id": "26b4c6d8",
   "metadata": {
    "papermill": {
     "duration": 0.136951,
     "end_time": "2022-05-17T08:32:02.900461",
     "exception": false,
     "start_time": "2022-05-17T08:32:02.763510",
     "status": "completed"
    },
    "tags": []
   },
   "source": [
    "# Exploring data"
   ]
  },
  {
   "cell_type": "code",
   "execution_count": 15,
   "id": "ae097820",
   "metadata": {
    "execution": {
     "iopub.execute_input": "2022-05-17T08:32:03.175365Z",
     "iopub.status.busy": "2022-05-17T08:32:03.174677Z",
     "iopub.status.idle": "2022-05-17T08:33:06.681231Z",
     "shell.execute_reply": "2022-05-17T08:33:06.681748Z",
     "shell.execute_reply.started": "2022-05-17T08:24:40.986440Z"
    },
    "papermill": {
     "duration": 63.644733,
     "end_time": "2022-05-17T08:33:06.681929",
     "exception": false,
     "start_time": "2022-05-17T08:32:03.037196",
     "status": "completed"
    },
    "tags": []
   },
   "outputs": [
    {
     "data": {
      "text/plain": [
       "<seaborn.axisgrid.PairGrid at 0x7f929d8c8f10>"
      ]
     },
     "execution_count": 15,
     "metadata": {},
     "output_type": "execute_result"
    },
    {
     "data": {
      "image/png": "[encoded data removed]",
      "text/plain": [
       "<Figure size 1260x1260 with 56 Axes>"
      ]
     },
     "metadata": {
      "needs_background": "light"
     },
     "output_type": "display_data"
    }
   ],
   "source": [
    "sns.pairplot(df)"
   ]
  },
  {
   "cell_type": "markdown",
   "id": "1e9e1e85",
   "metadata": {
    "papermill": {
     "duration": 0.093067,
     "end_time": "2022-05-17T08:33:06.866140",
     "exception": false,
     "start_time": "2022-05-17T08:33:06.773073",
     "status": "completed"
    },
    "tags": []
   },
   "source": [
    "## Numeric features"
   ]
  },
  {
   "cell_type": "code",
   "execution_count": 16,
   "id": "028f5686",
   "metadata": {
    "execution": {
     "iopub.execute_input": "2022-05-17T08:33:07.055872Z",
     "iopub.status.busy": "2022-05-17T08:33:07.055186Z",
     "iopub.status.idle": "2022-05-17T08:33:07.348236Z",
     "shell.execute_reply": "2022-05-17T08:33:07.347699Z",
     "shell.execute_reply.started": "2022-05-17T08:25:50.992425Z"
    },
    "papermill": {
     "duration": 0.390156,
     "end_time": "2022-05-17T08:33:07.348375",
     "exception": false,
     "start_time": "2022-05-17T08:33:06.958219",
     "status": "completed"
    },
    "tags": []
   },
   "outputs": [
    {
     "name": "stderr",
     "output_type": "stream",
     "text": [
      "/opt/conda/lib/python3.7/site-packages/seaborn/distributions.py:2619: FutureWarning: `distplot` is a deprecated function and will be removed in a future version. Please adapt your code to use either `displot` (a figure-level function with similar flexibility) or `histplot` (an axes-level function for histograms).\n",
      "  warnings.warn(msg, FutureWarning)\n"
     ]
    },
    {
     "data": {
      "text/plain": [
       "<AxesSubplot:xlabel='Age', ylabel='Density'>"
      ]
     },
     "execution_count": 16,
     "metadata": {},
     "output_type": "execute_result"
    },
    {
     "data": {
      "image/png": "[encoded data removed]",
      "text/plain": [
       "<Figure size 432x288 with 1 Axes>"
      ]
     },
     "metadata": {
      "needs_background": "light"
     },
     "output_type": "display_data"
    }
   ],
   "source": [
    "sns.distplot(df['Age'])"
   ]
  },
  {
   "cell_type": "code",
   "execution_count": 17,
   "id": "93d1aa0c",
   "metadata": {
    "execution": {
     "iopub.execute_input": "2022-05-17T08:33:07.542725Z",
     "iopub.status.busy": "2022-05-17T08:33:07.541994Z",
     "iopub.status.idle": "2022-05-17T08:33:08.145791Z",
     "shell.execute_reply": "2022-05-17T08:33:08.144961Z",
     "shell.execute_reply.started": "2022-05-17T08:25:51.351224Z"
    },
    "papermill": {
     "duration": 0.701665,
     "end_time": "2022-05-17T08:33:08.145950",
     "exception": false,
     "start_time": "2022-05-17T08:33:07.444285",
     "status": "completed"
    },
    "tags": []
   },
   "outputs": [
    {
     "name": "stderr",
     "output_type": "stream",
     "text": [
      "/opt/conda/lib/python3.7/site-packages/seaborn/distributions.py:2619: FutureWarning: `distplot` is a deprecated function and will be removed in a future version. Please adapt your code to use either `displot` (a figure-level function with similar flexibility) or `histplot` (an axes-level function for histograms).\n",
      "  warnings.warn(msg, FutureWarning)\n",
      "/opt/conda/lib/python3.7/site-packages/seaborn/distributions.py:2619: FutureWarning: `distplot` is a deprecated function and will be removed in a future version. Please adapt your code to use either `displot` (a figure-level function with similar flexibility) or `histplot` (an axes-level function for histograms).\n",
      "  warnings.warn(msg, FutureWarning)\n"
     ]
    },
    {
     "data": {
      "image/png": "[encoded data removed]",
      "text/plain": [
       "<Figure size 432x216 with 2 Axes>"
      ]
     },
     "metadata": {
      "needs_background": "light"
     },
     "output_type": "display_data"
    }
   ],
   "source": [
    "# Explore Age vs Transported\n",
    "g = sns.FacetGrid(df, col='Transported')\n",
    "g = g.map(sns.distplot, \"Age\")"
   ]
  },
  {
   "cell_type": "code",
   "execution_count": 18,
   "id": "40d315e4",
   "metadata": {
    "execution": {
     "iopub.execute_input": "2022-05-17T08:33:08.446560Z",
     "iopub.status.busy": "2022-05-17T08:33:08.445800Z",
     "iopub.status.idle": "2022-05-17T08:33:08.663608Z",
     "shell.execute_reply": "2022-05-17T08:33:08.662870Z",
     "shell.execute_reply.started": "2022-05-17T08:25:51.992300Z"
    },
    "papermill": {
     "duration": 0.372381,
     "end_time": "2022-05-17T08:33:08.663795",
     "exception": false,
     "start_time": "2022-05-17T08:33:08.291414",
     "status": "completed"
    },
    "tags": []
   },
   "outputs": [
    {
     "data": {
      "image/png": "[encoded data removed]",
      "text/plain": [
       "<Figure size 432x288 with 1 Axes>"
      ]
     },
     "metadata": {
      "needs_background": "light"
     },
     "output_type": "display_data"
    }
   ],
   "source": [
    "# Explore Age distibution \n",
    "g = sns.kdeplot(df[\"Age\"][(df[\"Transported\"] == 0) & (df[\"Age\"].notnull())], color=\"Red\", shade = True)\n",
    "g = sns.kdeplot(df[\"Age\"][(df[\"Transported\"] == 1) & (df[\"Age\"].notnull())], ax =g, color=\"Blue\", shade= True)\n",
    "g.set_xlabel(\"Age\")\n",
    "g.set_ylabel(\"Frequency\")\n",
    "g = g.legend([\"Not Transported\",\"Transported\"])"
   ]
  },
  {
   "cell_type": "markdown",
   "id": "7e6d55a9",
   "metadata": {
    "papermill": {
     "duration": 0.147481,
     "end_time": "2022-05-17T08:33:08.959584",
     "exception": false,
     "start_time": "2022-05-17T08:33:08.812103",
     "status": "completed"
    },
    "tags": []
   },
   "source": [
    "A relative large part of children is transported."
   ]
  },
  {
   "cell_type": "code",
   "execution_count": 19,
   "id": "8d98e357",
   "metadata": {
    "execution": {
     "iopub.execute_input": "2022-05-17T08:33:09.262542Z",
     "iopub.status.busy": "2022-05-17T08:33:09.261681Z",
     "iopub.status.idle": "2022-05-17T08:33:09.811701Z",
     "shell.execute_reply": "2022-05-17T08:33:09.811186Z",
     "shell.execute_reply.started": "2022-05-17T08:25:52.298717Z"
    },
    "papermill": {
     "duration": 0.703364,
     "end_time": "2022-05-17T08:33:09.811905",
     "exception": false,
     "start_time": "2022-05-17T08:33:09.108541",
     "status": "completed"
    },
    "tags": []
   },
   "outputs": [
    {
     "name": "stderr",
     "output_type": "stream",
     "text": [
      "/opt/conda/lib/python3.7/site-packages/seaborn/categorical.py:3717: UserWarning: The `factorplot` function has been renamed to `catplot`. The original name will be removed in a future release. Please update your code. Note that the default `kind` in `factorplot` (`'point'`) has changed `'strip'` in `catplot`.\n",
      "  warnings.warn(msg)\n",
      "/opt/conda/lib/python3.7/site-packages/seaborn/categorical.py:3717: UserWarning: The `factorplot` function has been renamed to `catplot`. The original name will be removed in a future release. Please update your code. Note that the default `kind` in `factorplot` (`'point'`) has changed `'strip'` in `catplot`.\n",
      "  warnings.warn(msg)\n"
     ]
    },
    {
     "data": {
      "image/png": "[encoded data removed]",
      "text/plain": [
       "<Figure size 360x360 with 1 Axes>"
      ]
     },
     "metadata": {
      "needs_background": "light"
     },
     "output_type": "display_data"
    },
    {
     "data": {
      "image/png": "[encoded data removed]",
      "text/plain": [
       "<Figure size 360x360 with 1 Axes>"
      ]
     },
     "metadata": {
      "needs_background": "light"
     },
     "output_type": "display_data"
    }
   ],
   "source": [
    "g = sns.factorplot(x=\"Transported\", y = \"Age\",data = df, kind=\"box\")\n",
    "g = sns.factorplot(x=\"Transported\", y = \"Age\",data = df, kind=\"violin\")"
   ]
  },
  {
   "cell_type": "code",
   "execution_count": 20,
   "id": "4da14332",
   "metadata": {
    "execution": {
     "iopub.execute_input": "2022-05-17T08:33:10.012497Z",
     "iopub.status.busy": "2022-05-17T08:33:10.011781Z",
     "iopub.status.idle": "2022-05-17T08:33:10.779669Z",
     "shell.execute_reply": "2022-05-17T08:33:10.778797Z",
     "shell.execute_reply.started": "2022-05-17T08:25:52.928370Z"
    },
    "papermill": {
     "duration": 0.870729,
     "end_time": "2022-05-17T08:33:10.779873",
     "exception": false,
     "start_time": "2022-05-17T08:33:09.909144",
     "status": "completed"
    },
    "tags": []
   },
   "outputs": [
    {
     "name": "stderr",
     "output_type": "stream",
     "text": [
      "/opt/conda/lib/python3.7/site-packages/seaborn/categorical.py:3750: UserWarning: The `size` parameter has been renamed to `height`; please update your code.\n",
      "  warnings.warn(msg, UserWarning)\n"
     ]
    },
    {
     "data": {
      "image/png": "[encoded data removed]",
      "text/plain": [
       "<Figure size 502.875x432 with 1 Axes>"
      ]
     },
     "metadata": {
      "needs_background": "light"
     },
     "output_type": "display_data"
    }
   ],
   "source": [
    "g = sns.catplot(x=\"Transported\", y=\"Age\", hue=\"HomePlanet\", data=df,\n",
    "                   size=6, kind=\"bar\", palette=\"muted\")\n",
    "g = g.set_ylabels(\"Age\")"
   ]
  },
  {
   "cell_type": "code",
   "execution_count": 21,
   "id": "64e5592b",
   "metadata": {
    "execution": {
     "iopub.execute_input": "2022-05-17T08:33:11.091232Z",
     "iopub.status.busy": "2022-05-17T08:33:11.090377Z",
     "iopub.status.idle": "2022-05-17T08:33:51.830171Z",
     "shell.execute_reply": "2022-05-17T08:33:51.830609Z",
     "shell.execute_reply.started": "2022-05-17T08:25:53.627755Z"
    },
    "papermill": {
     "duration": 40.897133,
     "end_time": "2022-05-17T08:33:51.830803",
     "exception": false,
     "start_time": "2022-05-17T08:33:10.933670",
     "status": "completed"
    },
    "tags": []
   },
   "outputs": [
    {
     "name": "stderr",
     "output_type": "stream",
     "text": [
      "/opt/conda/lib/python3.7/site-packages/seaborn/_decorators.py:43: FutureWarning: Pass the following variables as keyword args: x, y. From version 0.12, the only valid positional argument will be `data`, and passing other arguments without an explicit keyword will result in an error or misinterpretation.\n",
      "  FutureWarning\n",
      "/opt/conda/lib/python3.7/site-packages/seaborn/categorical.py:1296: UserWarning: 77.8% of the points cannot be placed; you may want to decrease the size of the markers or use stripplot.\n",
      "  warnings.warn(msg, UserWarning)\n",
      "/opt/conda/lib/python3.7/site-packages/seaborn/categorical.py:1296: UserWarning: 78.3% of the points cannot be placed; you may want to decrease the size of the markers or use stripplot.\n",
      "  warnings.warn(msg, UserWarning)\n"
     ]
    },
    {
     "data": {
      "text/plain": [
       "<AxesSubplot:xlabel='Transported', ylabel='Age'>"
      ]
     },
     "execution_count": 21,
     "metadata": {},
     "output_type": "execute_result"
    },
    {
     "data": {
      "image/png": "[encoded data removed]",
      "text/plain": [
       "<Figure size 432x288 with 1 Axes>"
      ]
     },
     "metadata": {
      "needs_background": "light"
     },
     "output_type": "display_data"
    }
   ],
   "source": [
    "sns.swarmplot('Transported', 'Age', data=df)"
   ]
  },
  {
   "cell_type": "code",
   "execution_count": 22,
   "id": "7f333919",
   "metadata": {
    "execution": {
     "iopub.execute_input": "2022-05-17T08:33:52.036371Z",
     "iopub.status.busy": "2022-05-17T08:33:52.035840Z",
     "iopub.status.idle": "2022-05-17T08:33:52.432246Z",
     "shell.execute_reply": "2022-05-17T08:33:52.432675Z",
     "shell.execute_reply.started": "2022-05-17T08:26:54.213507Z"
    },
    "papermill": {
     "duration": 0.501213,
     "end_time": "2022-05-17T08:33:52.432851",
     "exception": false,
     "start_time": "2022-05-17T08:33:51.931638",
     "status": "completed"
    },
    "tags": []
   },
   "outputs": [
    {
     "name": "stderr",
     "output_type": "stream",
     "text": [
      "/opt/conda/lib/python3.7/site-packages/seaborn/distributions.py:2619: FutureWarning: `distplot` is a deprecated function and will be removed in a future version. Please adapt your code to use either `displot` (a figure-level function with similar flexibility) or `histplot` (an axes-level function for histograms).\n",
      "  warnings.warn(msg, FutureWarning)\n"
     ]
    },
    {
     "data": {
      "text/plain": [
       "<AxesSubplot:xlabel='RoomService', ylabel='Density'>"
      ]
     },
     "execution_count": 22,
     "metadata": {},
     "output_type": "execute_result"
    },
    {
     "data": {
      "image/png": "[encoded data removed]",
      "text/plain": [
       "<Figure size 432x288 with 1 Axes>"
      ]
     },
     "metadata": {
      "needs_background": "light"
     },
     "output_type": "display_data"
    }
   ],
   "source": [
    "sns.distplot(df['RoomService'])"
   ]
  },
  {
   "cell_type": "code",
   "execution_count": 23,
   "id": "a8a10799",
   "metadata": {
    "execution": {
     "iopub.execute_input": "2022-05-17T08:33:52.646322Z",
     "iopub.status.busy": "2022-05-17T08:33:52.645823Z",
     "iopub.status.idle": "2022-05-17T08:33:53.086704Z",
     "shell.execute_reply": "2022-05-17T08:33:53.087256Z",
     "shell.execute_reply.started": "2022-05-17T08:26:54.593747Z"
    },
    "papermill": {
     "duration": 0.550305,
     "end_time": "2022-05-17T08:33:53.087445",
     "exception": false,
     "start_time": "2022-05-17T08:33:52.537140",
     "status": "completed"
    },
    "tags": []
   },
   "outputs": [
    {
     "data": {
      "text/plain": [
       "<AxesSubplot:xlabel='Transported', ylabel='RoomService'>"
      ]
     },
     "execution_count": 23,
     "metadata": {},
     "output_type": "execute_result"
    },
    {
     "data": {
      "image/png": "[encoded data removed]",
      "text/plain": [
       "<Figure size 432x288 with 1 Axes>"
      ]
     },
     "metadata": {
      "needs_background": "light"
     },
     "output_type": "display_data"
    }
   ],
   "source": [
    "sns.barplot(x='Transported', y='RoomService', data=df)"
   ]
  },
  {
   "cell_type": "code",
   "execution_count": 24,
   "id": "812a1c8c",
   "metadata": {
    "execution": {
     "iopub.execute_input": "2022-05-17T08:33:53.301877Z",
     "iopub.status.busy": "2022-05-17T08:33:53.301244Z",
     "iopub.status.idle": "2022-05-17T08:33:53.730597Z",
     "shell.execute_reply": "2022-05-17T08:33:53.729615Z",
     "shell.execute_reply.started": "2022-05-17T08:26:54.949101Z"
    },
    "papermill": {
     "duration": 0.537215,
     "end_time": "2022-05-17T08:33:53.730779",
     "exception": false,
     "start_time": "2022-05-17T08:33:53.193564",
     "status": "completed"
    },
    "tags": []
   },
   "outputs": [
    {
     "data": {
      "text/plain": [
       "<AxesSubplot:xlabel='Transported', ylabel='FoodCourt'>"
      ]
     },
     "execution_count": 24,
     "metadata": {},
     "output_type": "execute_result"
    },
    {
     "data": {
      "image/png": "[encoded data removed]",
      "text/plain": [
       "<Figure size 432x288 with 1 Axes>"
      ]
     },
     "metadata": {
      "needs_background": "light"
     },
     "output_type": "display_data"
    }
   ],
   "source": [
    "sns.barplot(x='Transported', y='FoodCourt', data=df)"
   ]
  },
  {
   "cell_type": "code",
   "execution_count": 25,
   "id": "0023ba5a",
   "metadata": {
    "execution": {
     "iopub.execute_input": "2022-05-17T08:33:54.057926Z",
     "iopub.status.busy": "2022-05-17T08:33:54.057099Z",
     "iopub.status.idle": "2022-05-17T08:33:54.348192Z",
     "shell.execute_reply": "2022-05-17T08:33:54.348708Z",
     "shell.execute_reply.started": "2022-05-17T08:26:55.301051Z"
    },
    "papermill": {
     "duration": 0.455861,
     "end_time": "2022-05-17T08:33:54.348901",
     "exception": false,
     "start_time": "2022-05-17T08:33:53.893040",
     "status": "completed"
    },
    "tags": []
   },
   "outputs": [
    {
     "data": {
      "text/plain": [
       "<AxesSubplot:xlabel='Transported', ylabel='ShoppingMall'>"
      ]
     },
     "execution_count": 25,
     "metadata": {},
     "output_type": "execute_result"
    },
    {
     "data": {
      "image/png": "[encoded data removed]",
      "text/plain": [
       "<Figure size 432x288 with 1 Axes>"
      ]
     },
     "metadata": {
      "needs_background": "light"
     },
     "output_type": "display_data"
    }
   ],
   "source": [
    "sns.barplot(x='Transported', y='ShoppingMall', data=df)"
   ]
  },
  {
   "cell_type": "code",
   "execution_count": 26,
   "id": "5d2e72c9",
   "metadata": {
    "execution": {
     "iopub.execute_input": "2022-05-17T08:33:54.570210Z",
     "iopub.status.busy": "2022-05-17T08:33:54.569398Z",
     "iopub.status.idle": "2022-05-17T08:33:54.825673Z",
     "shell.execute_reply": "2022-05-17T08:33:54.826334Z",
     "shell.execute_reply.started": "2022-05-17T08:26:55.665851Z"
    },
    "papermill": {
     "duration": 0.369758,
     "end_time": "2022-05-17T08:33:54.826542",
     "exception": false,
     "start_time": "2022-05-17T08:33:54.456784",
     "status": "completed"
    },
    "tags": []
   },
   "outputs": [
    {
     "data": {
      "text/plain": [
       "<AxesSubplot:xlabel='Transported', ylabel='Spa'>"
      ]
     },
     "execution_count": 26,
     "metadata": {},
     "output_type": "execute_result"
    },
    {
     "data": {
      "image/png": "[encoded data removed]",
      "text/plain": [
       "<Figure size 432x288 with 1 Axes>"
      ]
     },
     "metadata": {
      "needs_background": "light"
     },
     "output_type": "display_data"
    }
   ],
   "source": [
    "sns.barplot(x='Transported', y='Spa', data=df)"
   ]
  },
  {
   "cell_type": "code",
   "execution_count": 27,
   "id": "a4e3da66",
   "metadata": {
    "execution": {
     "iopub.execute_input": "2022-05-17T08:33:55.166218Z",
     "iopub.status.busy": "2022-05-17T08:33:55.165478Z",
     "iopub.status.idle": "2022-05-17T08:33:55.422109Z",
     "shell.execute_reply": "2022-05-17T08:33:55.422895Z",
     "shell.execute_reply.started": "2022-05-17T08:26:56.008323Z"
    },
    "papermill": {
     "duration": 0.427587,
     "end_time": "2022-05-17T08:33:55.423113",
     "exception": false,
     "start_time": "2022-05-17T08:33:54.995526",
     "status": "completed"
    },
    "tags": []
   },
   "outputs": [
    {
     "data": {
      "text/plain": [
       "<AxesSubplot:xlabel='Transported', ylabel='VRDeck'>"
      ]
     },
     "execution_count": 27,
     "metadata": {},
     "output_type": "execute_result"
    },
    {
     "data": {
      "image/png": "[encoded data removed]",
      "text/plain": [
       "<Figure size 432x288 with 1 Axes>"
      ]
     },
     "metadata": {
      "needs_background": "light"
     },
     "output_type": "display_data"
    }
   ],
   "source": [
    "sns.barplot(x='Transported', y='VRDeck', data=df)"
   ]
  },
  {
   "cell_type": "markdown",
   "id": "2dfac8e3",
   "metadata": {
    "papermill": {
     "duration": 0.17967,
     "end_time": "2022-05-17T08:33:55.777950",
     "exception": false,
     "start_time": "2022-05-17T08:33:55.598280",
     "status": "completed"
    },
    "tags": []
   },
   "source": [
    "## Categorical variables"
   ]
  },
  {
   "cell_type": "markdown",
   "id": "22b7a118",
   "metadata": {
    "papermill": {
     "duration": 0.175511,
     "end_time": "2022-05-17T08:33:56.120213",
     "exception": false,
     "start_time": "2022-05-17T08:33:55.944702",
     "status": "completed"
    },
    "tags": []
   },
   "source": [
    "### Destination"
   ]
  },
  {
   "cell_type": "code",
   "execution_count": 28,
   "id": "7917490b",
   "metadata": {
    "execution": {
     "iopub.execute_input": "2022-05-17T08:33:56.472774Z",
     "iopub.status.busy": "2022-05-17T08:33:56.471899Z",
     "iopub.status.idle": "2022-05-17T08:33:56.480872Z",
     "shell.execute_reply": "2022-05-17T08:33:56.481535Z",
     "shell.execute_reply.started": "2022-05-17T08:26:56.353692Z"
    },
    "papermill": {
     "duration": 0.186232,
     "end_time": "2022-05-17T08:33:56.481761",
     "exception": false,
     "start_time": "2022-05-17T08:33:56.295529",
     "status": "completed"
    },
    "tags": []
   },
   "outputs": [
    {
     "data": {
      "text/plain": [
       "TRAPPIST-1e      0.694983\n",
       "55 Cancri e      0.211491\n",
       "PSO J318.5-22    0.093526\n",
       "Name: Destination, dtype: float64"
      ]
     },
     "execution_count": 28,
     "metadata": {},
     "output_type": "execute_result"
    }
   ],
   "source": [
    "df['Destination'].value_counts(normalize=True)"
   ]
  },
  {
   "cell_type": "code",
   "execution_count": 29,
   "id": "4fe7b0a0",
   "metadata": {
    "execution": {
     "iopub.execute_input": "2022-05-17T08:33:56.825922Z",
     "iopub.status.busy": "2022-05-17T08:33:56.824876Z",
     "iopub.status.idle": "2022-05-17T08:33:56.840935Z",
     "shell.execute_reply": "2022-05-17T08:33:56.841582Z",
     "shell.execute_reply.started": "2022-05-17T08:26:56.365103Z"
    },
    "papermill": {
     "duration": 0.189388,
     "end_time": "2022-05-17T08:33:56.841848",
     "exception": false,
     "start_time": "2022-05-17T08:33:56.652460",
     "status": "completed"
    },
    "tags": []
   },
   "outputs": [
    {
     "data": {
      "text/plain": [
       "Destination    Transported\n",
       "TRAPPIST-1e    0              3128\n",
       "               1              2787\n",
       "55 Cancri e    1              1098\n",
       "               0               702\n",
       "PSO J318.5-22  1               401\n",
       "               0               395\n",
       "dtype: int64"
      ]
     },
     "execution_count": 29,
     "metadata": {},
     "output_type": "execute_result"
    }
   ],
   "source": [
    "df[['Destination', 'Transported']].value_counts()"
   ]
  },
  {
   "cell_type": "code",
   "execution_count": 30,
   "id": "c680bf46",
   "metadata": {
    "execution": {
     "iopub.execute_input": "2022-05-17T08:33:57.180651Z",
     "iopub.status.busy": "2022-05-17T08:33:57.179924Z",
     "iopub.status.idle": "2022-05-17T08:33:57.190832Z",
     "shell.execute_reply": "2022-05-17T08:33:57.191473Z",
     "shell.execute_reply.started": "2022-05-17T08:26:56.386746Z"
    },
    "papermill": {
     "duration": 0.181108,
     "end_time": "2022-05-17T08:33:57.191671",
     "exception": false,
     "start_time": "2022-05-17T08:33:57.010563",
     "status": "completed"
    },
    "tags": []
   },
   "outputs": [
    {
     "data": {
      "text/plain": [
       "Destination\n",
       "55 Cancri e      0.610000\n",
       "PSO J318.5-22    0.503769\n",
       "TRAPPIST-1e      0.471175\n",
       "Name: Transported, dtype: float64"
      ]
     },
     "execution_count": 30,
     "metadata": {},
     "output_type": "execute_result"
    }
   ],
   "source": [
    "df.groupby('Destination')['Transported'].mean()"
   ]
  },
  {
   "cell_type": "code",
   "execution_count": 31,
   "id": "eb041e75",
   "metadata": {
    "execution": {
     "iopub.execute_input": "2022-05-17T08:33:57.536017Z",
     "iopub.status.busy": "2022-05-17T08:33:57.535221Z",
     "iopub.status.idle": "2022-05-17T08:33:57.542418Z",
     "shell.execute_reply": "2022-05-17T08:33:57.542952Z",
     "shell.execute_reply.started": "2022-05-17T08:26:56.401624Z"
    },
    "papermill": {
     "duration": 0.184058,
     "end_time": "2022-05-17T08:33:57.543136",
     "exception": false,
     "start_time": "2022-05-17T08:33:57.359078",
     "status": "completed"
    },
    "tags": []
   },
   "outputs": [
    {
     "data": {
      "text/html": [
       "<div>\n",
       "<style scoped>\n",
       "    .dataframe tbody tr th:only-of-type {\n",
       "        vertical-align: middle;\n",
       "    }\n",
       "\n",
       "    .dataframe tbody tr th {\n",
       "        vertical-align: top;\n",
       "    }\n",
       "\n",
       "    .dataframe thead th {\n",
       "        text-align: right;\n",
       "    }\n",
       "</style>\n",
       "<table border=\"1\" class=\"dataframe\">\n",
       "  <thead>\n",
       "    <tr style=\"text-align: right;\">\n",
       "      <th></th>\n",
       "      <th>Destination</th>\n",
       "      <th>Transported</th>\n",
       "    </tr>\n",
       "  </thead>\n",
       "  <tbody>\n",
       "    <tr>\n",
       "      <th>2</th>\n",
       "      <td>TRAPPIST-1e</td>\n",
       "      <td>5915</td>\n",
       "    </tr>\n",
       "    <tr>\n",
       "      <th>0</th>\n",
       "      <td>55 Cancri e</td>\n",
       "      <td>1800</td>\n",
       "    </tr>\n",
       "    <tr>\n",
       "      <th>1</th>\n",
       "      <td>PSO J318.5-22</td>\n",
       "      <td>796</td>\n",
       "    </tr>\n",
       "  </tbody>\n",
       "</table>\n",
       "</div>"
      ],
      "text/plain": [
       "     Destination  Transported\n",
       "2    TRAPPIST-1e         5915\n",
       "0    55 Cancri e         1800\n",
       "1  PSO J318.5-22          796"
      ]
     },
     "execution_count": 31,
     "metadata": {},
     "output_type": "execute_result"
    }
   ],
   "source": [
    "df[['Destination', 'Transported']].groupby(['Destination'], as_index=False).count().sort_values(by='Transported', ascending=False)"
   ]
  },
  {
   "cell_type": "code",
   "execution_count": 32,
   "id": "3709558d",
   "metadata": {
    "execution": {
     "iopub.execute_input": "2022-05-17T08:33:57.885427Z",
     "iopub.status.busy": "2022-05-17T08:33:57.884551Z",
     "iopub.status.idle": "2022-05-17T08:33:58.003527Z",
     "shell.execute_reply": "2022-05-17T08:33:58.004426Z",
     "shell.execute_reply.started": "2022-05-17T08:26:56.422366Z"
    },
    "papermill": {
     "duration": 0.292355,
     "end_time": "2022-05-17T08:33:58.004813",
     "exception": false,
     "start_time": "2022-05-17T08:33:57.712458",
     "status": "completed"
    },
    "tags": []
   },
   "outputs": [
    {
     "data": {
      "image/png": "[encoded data removed]",
      "text/plain": [
       "<Figure size 432x288 with 1 Axes>"
      ]
     },
     "metadata": {
      "needs_background": "light"
     },
     "output_type": "display_data"
    }
   ],
   "source": [
    "plt.figure()\n",
    "sns.countplot(x=df['Destination'])\n",
    "plt.show()"
   ]
  },
  {
   "cell_type": "markdown",
   "id": "11167888",
   "metadata": {
    "papermill": {
     "duration": 0.169618,
     "end_time": "2022-05-17T08:33:58.348614",
     "exception": false,
     "start_time": "2022-05-17T08:33:58.178996",
     "status": "completed"
    },
    "tags": []
   },
   "source": [
    "### Home Planet"
   ]
  },
  {
   "cell_type": "code",
   "execution_count": 33,
   "id": "e78622bc",
   "metadata": {
    "execution": {
     "iopub.execute_input": "2022-05-17T08:33:58.694452Z",
     "iopub.status.busy": "2022-05-17T08:33:58.693600Z",
     "iopub.status.idle": "2022-05-17T08:33:58.701684Z",
     "shell.execute_reply": "2022-05-17T08:33:58.700991Z",
     "shell.execute_reply.started": "2022-05-17T08:26:56.619081Z"
    },
    "papermill": {
     "duration": 0.182437,
     "end_time": "2022-05-17T08:33:58.701865",
     "exception": false,
     "start_time": "2022-05-17T08:33:58.519428",
     "status": "completed"
    },
    "tags": []
   },
   "outputs": [
    {
     "data": {
      "text/plain": [
       "HomePlanet\n",
       "Earth     0.423946\n",
       "Europa    0.658846\n",
       "Mars      0.523024\n",
       "Name: Transported, dtype: float64"
      ]
     },
     "execution_count": 33,
     "metadata": {},
     "output_type": "execute_result"
    }
   ],
   "source": [
    "df.groupby('HomePlanet')['Transported'].mean()"
   ]
  },
  {
   "cell_type": "code",
   "execution_count": 34,
   "id": "2a79c2a5",
   "metadata": {
    "execution": {
     "iopub.execute_input": "2022-05-17T08:33:59.046169Z",
     "iopub.status.busy": "2022-05-17T08:33:59.045357Z",
     "iopub.status.idle": "2022-05-17T08:33:59.058198Z",
     "shell.execute_reply": "2022-05-17T08:33:59.058897Z",
     "shell.execute_reply.started": "2022-05-17T08:26:56.632015Z"
    },
    "papermill": {
     "duration": 0.186401,
     "end_time": "2022-05-17T08:33:59.059092",
     "exception": false,
     "start_time": "2022-05-17T08:33:58.872691",
     "status": "completed"
    },
    "tags": []
   },
   "outputs": [
    {
     "data": {
      "text/html": [
       "<div>\n",
       "<style scoped>\n",
       "    .dataframe tbody tr th:only-of-type {\n",
       "        vertical-align: middle;\n",
       "    }\n",
       "\n",
       "    .dataframe tbody tr th {\n",
       "        vertical-align: top;\n",
       "    }\n",
       "\n",
       "    .dataframe thead th {\n",
       "        text-align: right;\n",
       "    }\n",
       "</style>\n",
       "<table border=\"1\" class=\"dataframe\">\n",
       "  <thead>\n",
       "    <tr style=\"text-align: right;\">\n",
       "      <th></th>\n",
       "      <th>HomePlanet</th>\n",
       "      <th>Transported</th>\n",
       "    </tr>\n",
       "  </thead>\n",
       "  <tbody>\n",
       "    <tr>\n",
       "      <th>2</th>\n",
       "      <td>Mars</td>\n",
       "      <td>1759</td>\n",
       "    </tr>\n",
       "    <tr>\n",
       "      <th>1</th>\n",
       "      <td>Europa</td>\n",
       "      <td>2131</td>\n",
       "    </tr>\n",
       "    <tr>\n",
       "      <th>0</th>\n",
       "      <td>Earth</td>\n",
       "      <td>4602</td>\n",
       "    </tr>\n",
       "  </tbody>\n",
       "</table>\n",
       "</div>"
      ],
      "text/plain": [
       "  HomePlanet  Transported\n",
       "2       Mars         1759\n",
       "1     Europa         2131\n",
       "0      Earth         4602"
      ]
     },
     "execution_count": 34,
     "metadata": {},
     "output_type": "execute_result"
    }
   ],
   "source": [
    "df[['HomePlanet', 'Transported']].groupby(['HomePlanet'], as_index=False).count().sort_values(by='HomePlanet', ascending=False)"
   ]
  },
  {
   "cell_type": "code",
   "execution_count": 35,
   "id": "ff49b003",
   "metadata": {
    "execution": {
     "iopub.execute_input": "2022-05-17T08:33:59.401599Z",
     "iopub.status.busy": "2022-05-17T08:33:59.400877Z",
     "iopub.status.idle": "2022-05-17T08:33:59.506568Z",
     "shell.execute_reply": "2022-05-17T08:33:59.507389Z",
     "shell.execute_reply.started": "2022-05-17T08:26:56.650857Z"
    },
    "papermill": {
     "duration": 0.279689,
     "end_time": "2022-05-17T08:33:59.507607",
     "exception": false,
     "start_time": "2022-05-17T08:33:59.227918",
     "status": "completed"
    },
    "tags": []
   },
   "outputs": [
    {
     "data": {
      "image/png": "[encoded data removed]",
      "text/plain": [
       "<Figure size 432x288 with 1 Axes>"
      ]
     },
     "metadata": {
      "needs_background": "light"
     },
     "output_type": "display_data"
    }
   ],
   "source": [
    "plt.figure()\n",
    "sns.countplot(x=df['HomePlanet'])\n",
    "plt.show()"
   ]
  },
  {
   "cell_type": "code",
   "execution_count": 36,
   "id": "2c3fff95",
   "metadata": {
    "execution": {
     "iopub.execute_input": "2022-05-17T08:33:59.858370Z",
     "iopub.status.busy": "2022-05-17T08:33:59.857561Z",
     "iopub.status.idle": "2022-05-17T08:34:00.232913Z",
     "shell.execute_reply": "2022-05-17T08:34:00.232231Z",
     "shell.execute_reply.started": "2022-05-17T08:26:56.832619Z"
    },
    "papermill": {
     "duration": 0.547577,
     "end_time": "2022-05-17T08:34:00.233058",
     "exception": false,
     "start_time": "2022-05-17T08:33:59.685481",
     "status": "completed"
    },
    "tags": []
   },
   "outputs": [
    {
     "data": {
      "image/png": "[encoded data removed]",
      "text/plain": [
       "<Figure size 432x432 with 1 Axes>"
      ]
     },
     "metadata": {
      "needs_background": "light"
     },
     "output_type": "display_data"
    }
   ],
   "source": [
    "# Explore HomePlanet feature vs Transported\n",
    "g = sns.catplot(x=\"HomePlanet\",y=\"Transported\",data=df,kind=\"bar\", height = 6 , \n",
    "palette = \"muted\")\n",
    "g.despine(left=True)\n",
    "g = g.set_ylabels(\"transport probability\")"
   ]
  },
  {
   "cell_type": "code",
   "execution_count": 37,
   "id": "ca5871d5",
   "metadata": {
    "execution": {
     "iopub.execute_input": "2022-05-17T08:34:00.583273Z",
     "iopub.status.busy": "2022-05-17T08:34:00.582458Z",
     "iopub.status.idle": "2022-05-17T08:34:00.954363Z",
     "shell.execute_reply": "2022-05-17T08:34:00.955056Z",
     "shell.execute_reply.started": "2022-05-17T08:26:57.331938Z"
    },
    "papermill": {
     "duration": 0.550145,
     "end_time": "2022-05-17T08:34:00.955278",
     "exception": false,
     "start_time": "2022-05-17T08:34:00.405133",
     "status": "completed"
    },
    "tags": []
   },
   "outputs": [
    {
     "name": "stderr",
     "output_type": "stream",
     "text": [
      "/opt/conda/lib/python3.7/site-packages/seaborn/categorical.py:3717: UserWarning: The `factorplot` function has been renamed to `catplot`. The original name will be removed in a future release. Please update your code. Note that the default `kind` in `factorplot` (`'point'`) has changed `'strip'` in `catplot`.\n",
      "  warnings.warn(msg)\n",
      "/opt/conda/lib/python3.7/site-packages/seaborn/categorical.py:3723: UserWarning: The `size` parameter has been renamed to `height`; please update your code.\n",
      "  warnings.warn(msg, UserWarning)\n"
     ]
    },
    {
     "data": {
      "image/png": "[encoded data removed]",
      "text/plain": [
       "<Figure size 432x432 with 1 Axes>"
      ]
     },
     "metadata": {
      "needs_background": "light"
     },
     "output_type": "display_data"
    }
   ],
   "source": [
    "# Explore Parch feature vs Survived\n",
    "g  = sns.factorplot(x=\"HomePlanet\",y=\"Transported\",data=df,kind=\"bar\", size = 6 , \n",
    "palette = \"muted\")\n",
    "g.despine(left=True)\n",
    "g = g.set_ylabels(\"transport probability\")"
   ]
  },
  {
   "cell_type": "markdown",
   "id": "dfcfad4b",
   "metadata": {
    "papermill": {
     "duration": 0.172971,
     "end_time": "2022-05-17T08:34:01.302075",
     "exception": false,
     "start_time": "2022-05-17T08:34:01.129104",
     "status": "completed"
    },
    "tags": []
   },
   "source": [
    "### CryoSleep"
   ]
  },
  {
   "cell_type": "code",
   "execution_count": 38,
   "id": "af71ddf1",
   "metadata": {
    "execution": {
     "iopub.execute_input": "2022-05-17T08:34:01.656997Z",
     "iopub.status.busy": "2022-05-17T08:34:01.654905Z",
     "iopub.status.idle": "2022-05-17T08:34:01.661118Z",
     "shell.execute_reply": "2022-05-17T08:34:01.661836Z",
     "shell.execute_reply.started": "2022-05-17T08:26:57.852089Z"
    },
    "papermill": {
     "duration": 0.186214,
     "end_time": "2022-05-17T08:34:01.662026",
     "exception": false,
     "start_time": "2022-05-17T08:34:01.475812",
     "status": "completed"
    },
    "tags": []
   },
   "outputs": [
    {
     "data": {
      "text/plain": [
       "CryoSleep\n",
       "False    0.328921\n",
       "True     0.817583\n",
       "Name: Transported, dtype: float64"
      ]
     },
     "execution_count": 38,
     "metadata": {},
     "output_type": "execute_result"
    }
   ],
   "source": [
    "df.groupby('CryoSleep')['Transported'].mean()"
   ]
  },
  {
   "cell_type": "code",
   "execution_count": 39,
   "id": "b5f9f4c6",
   "metadata": {
    "execution": {
     "iopub.execute_input": "2022-05-17T08:34:01.961500Z",
     "iopub.status.busy": "2022-05-17T08:34:01.960621Z",
     "iopub.status.idle": "2022-05-17T08:34:02.057385Z",
     "shell.execute_reply": "2022-05-17T08:34:02.058105Z",
     "shell.execute_reply.started": "2022-05-17T08:26:57.862859Z"
    },
    "papermill": {
     "duration": 0.22147,
     "end_time": "2022-05-17T08:34:02.058362",
     "exception": false,
     "start_time": "2022-05-17T08:34:01.836892",
     "status": "completed"
    },
    "tags": []
   },
   "outputs": [
    {
     "data": {
      "image/png": "[encoded data removed]",
      "text/plain": [
       "<Figure size 432x288 with 1 Axes>"
      ]
     },
     "metadata": {
      "needs_background": "light"
     },
     "output_type": "display_data"
    }
   ],
   "source": [
    "plt.figure()\n",
    "sns.countplot(x = df['CryoSleep'])\n",
    "plt.show()"
   ]
  },
  {
   "cell_type": "markdown",
   "id": "2a15afab",
   "metadata": {
    "papermill": {
     "duration": 0.173042,
     "end_time": "2022-05-17T08:34:02.412624",
     "exception": false,
     "start_time": "2022-05-17T08:34:02.239582",
     "status": "completed"
    },
    "tags": []
   },
   "source": [
    "### VIP"
   ]
  },
  {
   "cell_type": "code",
   "execution_count": 40,
   "id": "749d2d97",
   "metadata": {
    "execution": {
     "iopub.execute_input": "2022-05-17T08:34:02.768349Z",
     "iopub.status.busy": "2022-05-17T08:34:02.765528Z",
     "iopub.status.idle": "2022-05-17T08:34:02.773757Z",
     "shell.execute_reply": "2022-05-17T08:34:02.772899Z",
     "shell.execute_reply.started": "2022-05-17T08:26:58.042609Z"
    },
    "papermill": {
     "duration": 0.189045,
     "end_time": "2022-05-17T08:34:02.773939",
     "exception": false,
     "start_time": "2022-05-17T08:34:02.584894",
     "status": "completed"
    },
    "tags": []
   },
   "outputs": [
    {
     "data": {
      "text/plain": [
       "VIP\n",
       "False    0.506332\n",
       "True     0.381910\n",
       "Name: Transported, dtype: float64"
      ]
     },
     "execution_count": 40,
     "metadata": {},
     "output_type": "execute_result"
    }
   ],
   "source": [
    "df.groupby('VIP')['Transported'].mean()"
   ]
  },
  {
   "cell_type": "code",
   "execution_count": 41,
   "id": "7a189595",
   "metadata": {
    "execution": {
     "iopub.execute_input": "2022-05-17T08:34:03.135940Z",
     "iopub.status.busy": "2022-05-17T08:34:03.134139Z",
     "iopub.status.idle": "2022-05-17T08:34:03.246180Z",
     "shell.execute_reply": "2022-05-17T08:34:03.245387Z",
     "shell.execute_reply.started": "2022-05-17T08:26:58.053555Z"
    },
    "papermill": {
     "duration": 0.297378,
     "end_time": "2022-05-17T08:34:03.246337",
     "exception": false,
     "start_time": "2022-05-17T08:34:02.948959",
     "status": "completed"
    },
    "tags": []
   },
   "outputs": [
    {
     "data": {
      "image/png": "[encoded data removed]",
      "text/plain": [
       "<Figure size 432x288 with 1 Axes>"
      ]
     },
     "metadata": {
      "needs_background": "light"
     },
     "output_type": "display_data"
    }
   ],
   "source": [
    "plt.figure()\n",
    "sns.countplot(x = df['VIP'])\n",
    "plt.show()"
   ]
  },
  {
   "cell_type": "code",
   "execution_count": 42,
   "id": "2b2259b4",
   "metadata": {
    "execution": {
     "iopub.execute_input": "2022-05-17T08:34:03.491642Z",
     "iopub.status.busy": "2022-05-17T08:34:03.488070Z",
     "iopub.status.idle": "2022-05-17T08:34:03.819341Z",
     "shell.execute_reply": "2022-05-17T08:34:03.818738Z",
     "shell.execute_reply.started": "2022-05-17T08:26:58.237350Z"
    },
    "papermill": {
     "duration": 0.452055,
     "end_time": "2022-05-17T08:34:03.819497",
     "exception": false,
     "start_time": "2022-05-17T08:34:03.367442",
     "status": "completed"
    },
    "tags": []
   },
   "outputs": [
    {
     "data": {
      "image/png": "[encoded data removed]",
      "text/plain": [
       "<Figure size 432x432 with 1 Axes>"
      ]
     },
     "metadata": {
      "needs_background": "light"
     },
     "output_type": "display_data"
    }
   ],
   "source": [
    "# Explore VIP feature vs Transported\n",
    "g = sns.catplot(x=\"VIP\",y=\"Transported\",data=df,kind=\"bar\", height = 6 , \n",
    "palette = \"muted\")\n",
    "g.despine(left=True)\n",
    "g = g.set_ylabels(\"transport probability\")"
   ]
  },
  {
   "cell_type": "code",
   "execution_count": 43,
   "id": "41eeaee0",
   "metadata": {
    "execution": {
     "iopub.execute_input": "2022-05-17T08:34:04.059572Z",
     "iopub.status.busy": "2022-05-17T08:34:04.058937Z",
     "iopub.status.idle": "2022-05-17T08:34:04.317254Z",
     "shell.execute_reply": "2022-05-17T08:34:04.317962Z",
     "shell.execute_reply.started": "2022-05-17T08:26:58.679396Z"
    },
    "papermill": {
     "duration": 0.381232,
     "end_time": "2022-05-17T08:34:04.318140",
     "exception": false,
     "start_time": "2022-05-17T08:34:03.936908",
     "status": "completed"
    },
    "tags": []
   },
   "outputs": [
    {
     "data": {
      "image/png": "[encoded data removed]",
      "text/plain": [
       "<Figure size 432x288 with 1 Axes>"
      ]
     },
     "metadata": {
      "needs_background": "light"
     },
     "output_type": "display_data"
    }
   ],
   "source": [
    "sns.boxplot(x=\"Transported\", y=\"Spa\", hue=\"VIP\", data=df);"
   ]
  },
  {
   "cell_type": "code",
   "execution_count": 44,
   "id": "78834e1b",
   "metadata": {
    "execution": {
     "iopub.execute_input": "2022-05-17T08:34:04.677049Z",
     "iopub.status.busy": "2022-05-17T08:34:04.676225Z",
     "iopub.status.idle": "2022-05-17T08:34:04.817631Z",
     "shell.execute_reply": "2022-05-17T08:34:04.818280Z",
     "shell.execute_reply.started": "2022-05-17T08:26:58.965299Z"
    },
    "papermill": {
     "duration": 0.322352,
     "end_time": "2022-05-17T08:34:04.818482",
     "exception": false,
     "start_time": "2022-05-17T08:34:04.496130",
     "status": "completed"
    },
    "tags": []
   },
   "outputs": [
    {
     "data": {
      "text/plain": [
       "<AxesSubplot:>"
      ]
     },
     "execution_count": 44,
     "metadata": {},
     "output_type": "execute_result"
    },
    {
     "data": {
      "image/png": "[encoded data removed]",
      "text/plain": [
       "<Figure size 432x288 with 1 Axes>"
      ]
     },
     "metadata": {
      "needs_background": "light"
     },
     "output_type": "display_data"
    }
   ],
   "source": [
    "df.Destination.value_counts(normalize=True).plot(kind=\"bar\", alpha = 0.5)"
   ]
  },
  {
   "cell_type": "code",
   "execution_count": 45,
   "id": "0b002a98",
   "metadata": {
    "execution": {
     "iopub.execute_input": "2022-05-17T08:34:05.182819Z",
     "iopub.status.busy": "2022-05-17T08:34:05.182040Z",
     "iopub.status.idle": "2022-05-17T08:34:06.046635Z",
     "shell.execute_reply": "2022-05-17T08:34:06.045653Z",
     "shell.execute_reply.started": "2022-05-17T08:26:59.170855Z"
    },
    "papermill": {
     "duration": 1.04713,
     "end_time": "2022-05-17T08:34:06.046834",
     "exception": false,
     "start_time": "2022-05-17T08:34:04.999704",
     "status": "completed"
    },
    "tags": []
   },
   "outputs": [
    {
     "name": "stderr",
     "output_type": "stream",
     "text": [
      "/opt/conda/lib/python3.7/site-packages/seaborn/axisgrid.py:670: UserWarning: Using the barplot function without specifying `order` is likely to produce an incorrect plot.\n",
      "  warnings.warn(warning)\n"
     ]
    },
    {
     "data": {
      "text/plain": [
       "<seaborn.axisgrid.FacetGrid at 0x7f928812cc50>"
      ]
     },
     "execution_count": 45,
     "metadata": {},
     "output_type": "execute_result"
    },
    {
     "data": {
      "image/png": "[encoded data removed]",
      "text/plain": [
       "<Figure size 514.88x475.2 with 6 Axes>"
      ]
     },
     "metadata": {
      "needs_background": "light"
     },
     "output_type": "display_data"
    }
   ],
   "source": [
    "grid = sns.FacetGrid(df, row='HomePlanet', col='Transported', height=2.2, aspect=1.6)\n",
    "grid.map(sns.barplot, 'VIP', 'VRDeck', alpha=.5, ci=None)\n",
    "grid.add_legend()"
   ]
  },
  {
   "cell_type": "code",
   "execution_count": 46,
   "id": "5e7a0dfa",
   "metadata": {
    "execution": {
     "iopub.execute_input": "2022-05-17T08:34:06.291516Z",
     "iopub.status.busy": "2022-05-17T08:34:06.290750Z",
     "iopub.status.idle": "2022-05-17T08:34:06.627387Z",
     "shell.execute_reply": "2022-05-17T08:34:06.627862Z",
     "shell.execute_reply.started": "2022-05-17T08:27:00.302641Z"
    },
    "papermill": {
     "duration": 0.462352,
     "end_time": "2022-05-17T08:34:06.628023",
     "exception": false,
     "start_time": "2022-05-17T08:34:06.165671",
     "status": "completed"
    },
    "tags": []
   },
   "outputs": [
    {
     "name": "stderr",
     "output_type": "stream",
     "text": [
      "/opt/conda/lib/python3.7/site-packages/seaborn/distributions.py:2619: FutureWarning: `distplot` is a deprecated function and will be removed in a future version. Please adapt your code to use either `displot` (a figure-level function with similar flexibility) or `histplot` (an axes-level function for histograms).\n",
      "  warnings.warn(msg, FutureWarning)\n"
     ]
    },
    {
     "data": {
      "image/png": "[encoded data removed]",
      "text/plain": [
       "<Figure size 432x288 with 1 Axes>"
      ]
     },
     "metadata": {
      "needs_background": "light"
     },
     "output_type": "display_data"
    }
   ],
   "source": [
    "g = sns.distplot(df[\"RoomService\"], color=\"m\", label=\"Skewness : %.2f\"%(df[\"RoomService\"].skew()))\n",
    "g = g.legend(loc=\"best\")"
   ]
  },
  {
   "cell_type": "code",
   "execution_count": null,
   "id": "554588c4",
   "metadata": {
    "papermill": {
     "duration": 0.120976,
     "end_time": "2022-05-17T08:34:06.873883",
     "exception": false,
     "start_time": "2022-05-17T08:34:06.752907",
     "status": "completed"
    },
    "tags": []
   },
   "outputs": [],
   "source": []
  },
  {
   "cell_type": "code",
   "execution_count": 47,
   "id": "7e21922b",
   "metadata": {
    "execution": {
     "iopub.execute_input": "2022-05-17T08:34:07.251987Z",
     "iopub.status.busy": "2022-05-17T08:34:07.251092Z",
     "iopub.status.idle": "2022-05-17T08:34:07.259114Z",
     "shell.execute_reply": "2022-05-17T08:34:07.259689Z",
     "shell.execute_reply.started": "2022-05-17T08:27:00.725315Z"
    },
    "papermill": {
     "duration": 0.196891,
     "end_time": "2022-05-17T08:34:07.259903",
     "exception": false,
     "start_time": "2022-05-17T08:34:07.063012",
     "status": "completed"
    },
    "tags": []
   },
   "outputs": [
    {
     "data": {
      "text/plain": [
       "<Figure size 1008x576 with 0 Axes>"
      ]
     },
     "execution_count": 47,
     "metadata": {},
     "output_type": "execute_result"
    },
    {
     "data": {
      "text/plain": [
       "<Figure size 1008x576 with 0 Axes>"
      ]
     },
     "metadata": {},
     "output_type": "display_data"
    }
   ],
   "source": [
    "plt.figure(figsize = (14,8))\n",
    "#sns.heatmap(df.corr(), linewidths = 0.5, annot = True, fmt = \".2f\", cmap = \"coolwarm\")"
   ]
  },
  {
   "cell_type": "code",
   "execution_count": 48,
   "id": "af5fa707",
   "metadata": {
    "execution": {
     "iopub.execute_input": "2022-05-17T08:34:07.635382Z",
     "iopub.status.busy": "2022-05-17T08:34:07.634576Z",
     "iopub.status.idle": "2022-05-17T08:34:07.644264Z",
     "shell.execute_reply": "2022-05-17T08:34:07.643472Z",
     "shell.execute_reply.started": "2022-05-17T08:27:00.736672Z"
    },
    "papermill": {
     "duration": 0.197883,
     "end_time": "2022-05-17T08:34:07.644435",
     "exception": false,
     "start_time": "2022-05-17T08:34:07.446552",
     "status": "completed"
    },
    "tags": []
   },
   "outputs": [
    {
     "data": {
      "text/plain": [
       "Transported     1.000000\n",
       "FoodCourt       0.046566\n",
       "ShoppingMall    0.010141\n",
       "Age            -0.075026\n",
       "VRDeck         -0.207075\n",
       "Spa            -0.221131\n",
       "RoomService    -0.244611\n",
       "Name: Transported, dtype: float64"
      ]
     },
     "execution_count": 48,
     "metadata": {},
     "output_type": "execute_result"
    }
   ],
   "source": [
    "df.corr()[\"Transported\"].sort_values(ascending = False)"
   ]
  },
  {
   "cell_type": "code",
   "execution_count": 49,
   "id": "be0bc7ec",
   "metadata": {
    "execution": {
     "iopub.execute_input": "2022-05-17T08:34:08.021333Z",
     "iopub.status.busy": "2022-05-17T08:34:08.019962Z",
     "iopub.status.idle": "2022-05-17T08:34:08.031141Z",
     "shell.execute_reply": "2022-05-17T08:34:08.031792Z",
     "shell.execute_reply.started": "2022-05-17T08:27:00.751634Z"
    },
    "papermill": {
     "duration": 0.199902,
     "end_time": "2022-05-17T08:34:08.031973",
     "exception": false,
     "start_time": "2022-05-17T08:34:07.832071",
     "status": "completed"
    },
    "tags": []
   },
   "outputs": [
    {
     "data": {
      "text/plain": [
       "F    2794\n",
       "G    2559\n",
       "E     876\n",
       "B     779\n",
       "C     747\n",
       "D     478\n",
       "A     256\n",
       "T       5\n",
       "Name: Cabin, dtype: int64"
      ]
     },
     "execution_count": 49,
     "metadata": {},
     "output_type": "execute_result"
    }
   ],
   "source": [
    "df.Cabin.str[0].value_counts()"
   ]
  },
  {
   "cell_type": "code",
   "execution_count": 50,
   "id": "d2d179b6",
   "metadata": {
    "execution": {
     "iopub.execute_input": "2022-05-17T08:34:08.408102Z",
     "iopub.status.busy": "2022-05-17T08:34:08.407254Z",
     "iopub.status.idle": "2022-05-17T08:34:08.412018Z",
     "shell.execute_reply": "2022-05-17T08:34:08.412832Z",
     "shell.execute_reply.started": "2022-05-17T08:27:00.770904Z"
    },
    "papermill": {
     "duration": 0.195154,
     "end_time": "2022-05-17T08:34:08.413048",
     "exception": false,
     "start_time": "2022-05-17T08:34:08.217894",
     "status": "completed"
    },
    "tags": []
   },
   "outputs": [],
   "source": [
    "df['RoomServiceSqrt'] = np.sqrt(df['RoomService'].isna())"
   ]
  },
  {
   "cell_type": "code",
   "execution_count": 51,
   "id": "e9278c40",
   "metadata": {
    "execution": {
     "iopub.execute_input": "2022-05-17T08:34:08.789021Z",
     "iopub.status.busy": "2022-05-17T08:34:08.788150Z",
     "iopub.status.idle": "2022-05-17T08:34:08.796764Z",
     "shell.execute_reply": "2022-05-17T08:34:08.797321Z",
     "shell.execute_reply.started": "2022-05-17T08:27:00.778624Z"
    },
    "papermill": {
     "duration": 0.199131,
     "end_time": "2022-05-17T08:34:08.797526",
     "exception": false,
     "start_time": "2022-05-17T08:34:08.598395",
     "status": "completed"
    },
    "tags": []
   },
   "outputs": [
    {
     "data": {
      "text/plain": [
       "count    8693.000000\n",
       "mean        0.020828\n",
       "std         0.142700\n",
       "min         0.000000\n",
       "25%         0.000000\n",
       "50%         0.000000\n",
       "75%         0.000000\n",
       "max         1.000000\n",
       "Name: RoomServiceSqrt, dtype: float64"
      ]
     },
     "execution_count": 51,
     "metadata": {},
     "output_type": "execute_result"
    }
   ],
   "source": [
    "df.RoomServiceSqrt.describe()"
   ]
  },
  {
   "cell_type": "code",
   "execution_count": 52,
   "id": "d0427104",
   "metadata": {
    "execution": {
     "iopub.execute_input": "2022-05-17T08:34:09.180775Z",
     "iopub.status.busy": "2022-05-17T08:34:09.179907Z",
     "iopub.status.idle": "2022-05-17T08:34:09.454498Z",
     "shell.execute_reply": "2022-05-17T08:34:09.454032Z",
     "shell.execute_reply.started": "2022-05-17T08:27:00.797437Z"
    },
    "papermill": {
     "duration": 0.466957,
     "end_time": "2022-05-17T08:34:09.454639",
     "exception": false,
     "start_time": "2022-05-17T08:34:08.987682",
     "status": "completed"
    },
    "tags": []
   },
   "outputs": [
    {
     "name": "stderr",
     "output_type": "stream",
     "text": [
      "/opt/conda/lib/python3.7/site-packages/seaborn/distributions.py:2619: FutureWarning: `distplot` is a deprecated function and will be removed in a future version. Please adapt your code to use either `displot` (a figure-level function with similar flexibility) or `histplot` (an axes-level function for histograms).\n",
      "  warnings.warn(msg, FutureWarning)\n"
     ]
    },
    {
     "data": {
      "text/plain": [
       "<AxesSubplot:xlabel='RoomServiceSqrt', ylabel='Density'>"
      ]
     },
     "execution_count": 52,
     "metadata": {},
     "output_type": "execute_result"
    },
    {
     "data": {
      "image/png": "[encoded data removed]",
      "text/plain": [
       "<Figure size 432x288 with 1 Axes>"
      ]
     },
     "metadata": {
      "needs_background": "light"
     },
     "output_type": "display_data"
    }
   ],
   "source": [
    "sns.distplot(df.RoomServiceSqrt)"
   ]
  },
  {
   "cell_type": "markdown",
   "id": "28d04140",
   "metadata": {
    "papermill": {
     "duration": 0.124049,
     "end_time": "2022-05-17T08:34:09.705473",
     "exception": false,
     "start_time": "2022-05-17T08:34:09.581424",
     "status": "completed"
    },
    "tags": []
   },
   "source": [
    "# Feature Engineering"
   ]
  },
  {
   "cell_type": "code",
   "execution_count": 53,
   "id": "9a89e9f9",
   "metadata": {
    "execution": {
     "iopub.execute_input": "2022-05-17T08:34:09.961480Z",
     "iopub.status.busy": "2022-05-17T08:34:09.960684Z",
     "iopub.status.idle": "2022-05-17T08:34:09.964601Z",
     "shell.execute_reply": "2022-05-17T08:34:09.965155Z",
     "shell.execute_reply.started": "2022-05-17T08:27:01.168791Z"
    },
    "papermill": {
     "duration": 0.133534,
     "end_time": "2022-05-17T08:34:09.965322",
     "exception": false,
     "start_time": "2022-05-17T08:34:09.831788",
     "status": "completed"
    },
    "tags": []
   },
   "outputs": [],
   "source": [
    "# IDEAS\n",
    "# Destination\n",
    "\n",
    "# Total money spend\n",
    "# Family Names\n",
    "# Cabin letter, first and last"
   ]
  },
  {
   "cell_type": "code",
   "execution_count": 54,
   "id": "2192335d",
   "metadata": {
    "execution": {
     "iopub.execute_input": "2022-05-17T08:34:10.215631Z",
     "iopub.status.busy": "2022-05-17T08:34:10.214874Z",
     "iopub.status.idle": "2022-05-17T08:34:10.219804Z",
     "shell.execute_reply": "2022-05-17T08:34:10.220300Z",
     "shell.execute_reply.started": "2022-05-17T08:27:01.173580Z"
    },
    "papermill": {
     "duration": 0.131957,
     "end_time": "2022-05-17T08:34:10.220456",
     "exception": false,
     "start_time": "2022-05-17T08:34:10.088499",
     "status": "completed"
    },
    "tags": []
   },
   "outputs": [],
   "source": [
    "def processData(df):\n",
    "    '''\n",
    "    df['Sex'] = df['Sex'].apply(lambda r: 0 if r == 'male' else 1).astype('int')\n",
    "    \n",
    "    df[\"FamilySize\"] = df['SibSp'] + df['Parch']\n",
    "    \n",
    "    # Create new feature of family size\n",
    "    df['Single'] = df['FamilySize'].map(lambda s: 1 if s == 1 else 0)\n",
    "    df['SmallF'] = df['FamilySize'].map(lambda s: 1 if  s == 2  else 0)\n",
    "    df['MedF'] = df['FamilySize'].map(lambda s: 1 if 3 <= s <= 4 else 0)\n",
    "    df['LargeF'] = df['FamilySize'].map(lambda s: 1 if s >= 5 else 0)\n",
    "    \n",
    "    df['HasBoardedSiblingsOrSpouses'] = df['SibSp'] >= 1\n",
    "    df['HasBoardedParentsChildren'] = df['Parch'] >= 1\n",
    "\n",
    "    \n",
    "    df['isSenior'] = df['Age'] > 65\n",
    "    \n",
    "    df['Deck'] = df['Cabin'].str[0]\n",
    "    df['Deck'] = df['Deck'].fillna(\"Unknown\")\n",
    "    #df['Deck'] = df['Deck'].replace(['A', 'B', 'C'], 'ABC')\n",
    "    #df['Deck'] = df['Deck'].replace(['D', 'E'], 'DE')\n",
    "    #df['Deck'] = df['Deck'].replace(['F', 'G'], 'FG')\n",
    "    \n",
    "    df['Title'] = df.Name.str.extract(' ([A-Za-z]+)\\.', expand=False)\n",
    "    df['Title'] = df['Title'].replace(['Lady', 'Countess','Capt', 'Col','Don', 'Dr', 'Major', 'Rev', 'Sir', 'Jonkheer', 'Dona'], 'Rare')\n",
    "    df['Title'] = df['Title'].replace(['Mlle', 'Ms', 'Mme', 'Mrs'], 'Miss')\n",
    "    \n",
    "    df = df.set_index('PassengerId', drop=False)\n",
    "    \n",
    "    df = df.drop(['Ticket', 'Cabin', 'Name'], axis=1)\n",
    "    '''\n",
    "    \n",
    "    df['isChild'] = df['Age'] < 18\n",
    "    \n",
    "    return df"
   ]
  },
  {
   "cell_type": "code",
   "execution_count": 55,
   "id": "03be82b6",
   "metadata": {
    "execution": {
     "iopub.execute_input": "2022-05-17T08:34:10.471949Z",
     "iopub.status.busy": "2022-05-17T08:34:10.471152Z",
     "iopub.status.idle": "2022-05-17T08:34:10.615075Z",
     "shell.execute_reply": "2022-05-17T08:34:10.614452Z",
     "shell.execute_reply.started": "2022-05-17T08:27:01.188361Z"
    },
    "papermill": {
     "duration": 0.270446,
     "end_time": "2022-05-17T08:34:10.615199",
     "exception": false,
     "start_time": "2022-05-17T08:34:10.344753",
     "status": "completed"
    },
    "tags": []
   },
   "outputs": [],
   "source": [
    "from sklearn.base import BaseEstimator, TransformerMixin\n",
    "\n",
    "class general_cleaner(BaseEstimator, TransformerMixin):\n",
    "    '''\n",
    "    This class applies what we know from the documetation.\n",
    "    It cleans some known missing values\n",
    "    If flags the missing values\n",
    "\n",
    "    This process is supposed to happen as first step of any pipeline\n",
    "    '''\n",
    "        \n",
    "    def fit(self, X, y=None):\n",
    "        return self\n",
    "    \n",
    "    def transform(self, X, y=None):\n",
    "        #LotFrontage\n",
    "        X.loc[X.LotFrontage.isnull(), 'LotFrontage'] = 0\n",
    "        #Alley\n",
    "        X.loc[X.Alley.isnull(), 'Alley'] = \"NoAlley\"\n",
    "        #MSSubClass\n",
    "        X['MSSubClass'] = X['MSSubClass'].astype(str)\n",
    "        #MissingBasement\n",
    "        fil = ((X.BsmtQual.isnull()) & (X.BsmtCond.isnull()) & (X.BsmtExposure.isnull()) &\n",
    "              (X.BsmtFinType1.isnull()) & (X.BsmtFinType2.isnull()))\n",
    "        fil1 = ((X.BsmtQual.notnull()) | (X.BsmtCond.notnull()) | (X.BsmtExposure.notnull()) |\n",
    "              (X.BsmtFinType1.notnull()) | (X.BsmtFinType2.notnull()))\n",
    "        X.loc[fil1, 'MisBsm'] = 0\n",
    "        X.loc[fil, 'MisBsm'] = 1 # made explicit for safety\n",
    "        #BsmtQual\n",
    "        X.loc[fil, 'BsmtQual'] = \"NoBsmt\" #missing basement\n",
    "        #BsmtCond\n",
    "        X.loc[fil, 'BsmtCond'] = \"NoBsmt\" #missing basement\n",
    "        #BsmtExposure\n",
    "        X.loc[fil, 'BsmtExposure'] = \"NoBsmt\" #missing basement\n",
    "        #BsmtFinType1\n",
    "        X.loc[fil, 'BsmtFinType1'] = \"NoBsmt\" #missing basement\n",
    "        #BsmtFinType2\n",
    "        X.loc[fil, 'BsmtFinType2'] = \"NoBsmt\" #missing basement\n",
    "        #BsmtFinSF1\n",
    "        X.loc[fil, 'BsmtFinSF1'] = 0 # No bsmt\n",
    "        #BsmtFinSF2\n",
    "        X.loc[fil, 'BsmtFinSF2'] = 0 # No bsmt\n",
    "        #BsmtUnfSF\n",
    "        X.loc[fil, 'BsmtUnfSF'] = 0 # No bsmt\n",
    "        #TotalBsmtSF\n",
    "        X.loc[fil, 'TotalBsmtSF'] = 0 # No bsmt\n",
    "        #BsmtFullBath\n",
    "        X.loc[fil, 'BsmtFullBath'] = 0 # No bsmt\n",
    "        #BsmtHalfBath\n",
    "        X.loc[fil, 'BsmtHalfBath'] = 0 # No bsmt\n",
    "        #FireplaceQu\n",
    "        X.loc[(X.Fireplaces == 0) & (X.FireplaceQu.isnull()), 'FireplaceQu'] = \"NoFire\" #missing\n",
    "        #MisGarage\n",
    "        fil = ((X.GarageYrBlt.isnull()) & (X.GarageType.isnull()) & (X.GarageFinish.isnull()) &\n",
    "              (X.GarageQual.isnull()) & (X.GarageCond.isnull()))\n",
    "        fil1 = ((X.GarageYrBlt.notnull()) | (X.GarageType.notnull()) | (X.GarageFinish.notnull()) |\n",
    "              (X.GarageQual.notnull()) | (X.GarageCond.notnull()))\n",
    "        X.loc[fil1, 'MisGarage'] = 0\n",
    "        X.loc[fil, 'MisGarage'] = 1\n",
    "        #GarageYrBlt\n",
    "        X.loc[X.GarageYrBlt > 2200, 'GarageYrBlt'] = 2007 #correct mistake\n",
    "        X.loc[fil, 'GarageYrBlt'] = 0\n",
    "        #GarageType\n",
    "        X.loc[fil, 'GarageType'] = \"NoGrg\" #missing garage\n",
    "        #GarageFinish\n",
    "        X.loc[fil, 'GarageFinish'] = \"NoGrg\" #missing\n",
    "        #GarageQual\n",
    "        X.loc[fil, 'GarageQual'] = \"NoGrg\" #missing\n",
    "        #GarageCond\n",
    "        X.loc[fil, 'GarageCond'] = \"NoGrg\" #missing\n",
    "        #Fence\n",
    "        X.loc[X.Fence.isnull(), 'Fence'] = \"NoFence\" #missing fence\n",
    "        #Pool\n",
    "        fil = ((X.PoolArea == 0) & (X.PoolQC.isnull()))\n",
    "        X.loc[fil, 'PoolQC'] = 'NoPool' \n",
    "        \n",
    "        del X['Id']\n",
    "        del X['MiscFeature']\n",
    "        del X['MSSubClass']\n",
    "        del X['Neighborhood']  # this should be useful\n",
    "        del X['Condition1']\n",
    "        del X['Condition2']\n",
    "        del X['ExterCond']  # maybe ordinal\n",
    "        del X['Exterior1st']\n",
    "        del X['Exterior2nd']\n",
    "        del X['Functional']\n",
    "        del X['Heating']\n",
    "        del X['PoolQC']\n",
    "        del X['RoofMatl']\n",
    "        del X['RoofStyle']\n",
    "        del X['SaleCondition']\n",
    "        del X['SaleType']\n",
    "        del X['Utilities']\n",
    "        del X['BsmtCond']\n",
    "        del X['Electrical']\n",
    "        del X['Foundation']\n",
    "        del X['Street']\n",
    "        del X['Fence']\n",
    "        del X['LandSlope']\n",
    "        \n",
    "        return X"
   ]
  },
  {
   "cell_type": "code",
   "execution_count": 56,
   "id": "1778f778",
   "metadata": {
    "execution": {
     "iopub.execute_input": "2022-05-17T08:34:10.870406Z",
     "iopub.status.busy": "2022-05-17T08:34:10.869555Z",
     "iopub.status.idle": "2022-05-17T08:34:10.871165Z",
     "shell.execute_reply": "2022-05-17T08:34:10.871677Z",
     "shell.execute_reply.started": "2022-05-17T08:27:01.216846Z"
    },
    "papermill": {
     "duration": 0.131081,
     "end_time": "2022-05-17T08:34:10.871858",
     "exception": false,
     "start_time": "2022-05-17T08:34:10.740777",
     "status": "completed"
    },
    "tags": []
   },
   "outputs": [],
   "source": [
    "df = processData(df)"
   ]
  },
  {
   "cell_type": "code",
   "execution_count": 57,
   "id": "513547f5",
   "metadata": {
    "execution": {
     "iopub.execute_input": "2022-05-17T08:34:11.127313Z",
     "iopub.status.busy": "2022-05-17T08:34:11.126579Z",
     "iopub.status.idle": "2022-05-17T08:34:11.218657Z",
     "shell.execute_reply": "2022-05-17T08:34:11.219335Z",
     "shell.execute_reply.started": "2022-05-17T08:27:01.238429Z"
    },
    "papermill": {
     "duration": 0.221498,
     "end_time": "2022-05-17T08:34:11.219519",
     "exception": false,
     "start_time": "2022-05-17T08:34:10.998021",
     "status": "completed"
    },
    "tags": []
   },
   "outputs": [],
   "source": [
    "from sklearn.model_selection import train_test_split\n",
    "\n",
    "X_train, X_test, y_train, y_test = train_test_split(df, df.Transported, test_size=0.25, random_state=90)"
   ]
  },
  {
   "cell_type": "code",
   "execution_count": 58,
   "id": "dad4b9f4",
   "metadata": {
    "execution": {
     "iopub.execute_input": "2022-05-17T08:34:11.475050Z",
     "iopub.status.busy": "2022-05-17T08:34:11.474335Z",
     "iopub.status.idle": "2022-05-17T08:34:11.493880Z",
     "shell.execute_reply": "2022-05-17T08:34:11.494370Z",
     "shell.execute_reply.started": "2022-05-17T08:27:01.258404Z"
    },
    "papermill": {
     "duration": 0.149245,
     "end_time": "2022-05-17T08:34:11.494562",
     "exception": false,
     "start_time": "2022-05-17T08:34:11.345317",
     "status": "completed"
    },
    "tags": []
   },
   "outputs": [
    {
     "data": {
      "text/html": [
       "<div>\n",
       "<style scoped>\n",
       "    .dataframe tbody tr th:only-of-type {\n",
       "        vertical-align: middle;\n",
       "    }\n",
       "\n",
       "    .dataframe tbody tr th {\n",
       "        vertical-align: top;\n",
       "    }\n",
       "\n",
       "    .dataframe thead th {\n",
       "        text-align: right;\n",
       "    }\n",
       "</style>\n",
       "<table border=\"1\" class=\"dataframe\">\n",
       "  <thead>\n",
       "    <tr style=\"text-align: right;\">\n",
       "      <th></th>\n",
       "      <th>HomePlanet</th>\n",
       "      <th>CryoSleep</th>\n",
       "      <th>Cabin</th>\n",
       "      <th>Destination</th>\n",
       "      <th>Age</th>\n",
       "      <th>VIP</th>\n",
       "      <th>RoomService</th>\n",
       "      <th>FoodCourt</th>\n",
       "      <th>ShoppingMall</th>\n",
       "      <th>Spa</th>\n",
       "      <th>VRDeck</th>\n",
       "      <th>Name</th>\n",
       "      <th>Transported</th>\n",
       "      <th>RoomServiceSqrt</th>\n",
       "      <th>isChild</th>\n",
       "    </tr>\n",
       "    <tr>\n",
       "      <th>PassengerId</th>\n",
       "      <th></th>\n",
       "      <th></th>\n",
       "      <th></th>\n",
       "      <th></th>\n",
       "      <th></th>\n",
       "      <th></th>\n",
       "      <th></th>\n",
       "      <th></th>\n",
       "      <th></th>\n",
       "      <th></th>\n",
       "      <th></th>\n",
       "      <th></th>\n",
       "      <th></th>\n",
       "      <th></th>\n",
       "      <th></th>\n",
       "    </tr>\n",
       "  </thead>\n",
       "  <tbody>\n",
       "    <tr>\n",
       "      <th>8135_01</th>\n",
       "      <td>Europa</td>\n",
       "      <td>True</td>\n",
       "      <td>C/267/P</td>\n",
       "      <td>TRAPPIST-1e</td>\n",
       "      <td>22.0</td>\n",
       "      <td>False</td>\n",
       "      <td>0.0</td>\n",
       "      <td>0.0</td>\n",
       "      <td>0.0</td>\n",
       "      <td>0.0</td>\n",
       "      <td>0.0</td>\n",
       "      <td>Navior Coudered</td>\n",
       "      <td>1</td>\n",
       "      <td>0.0</td>\n",
       "      <td>False</td>\n",
       "    </tr>\n",
       "    <tr>\n",
       "      <th>0138_01</th>\n",
       "      <td>Earth</td>\n",
       "      <td>True</td>\n",
       "      <td>G/18/P</td>\n",
       "      <td>TRAPPIST-1e</td>\n",
       "      <td>13.0</td>\n",
       "      <td>False</td>\n",
       "      <td>0.0</td>\n",
       "      <td>0.0</td>\n",
       "      <td>0.0</td>\n",
       "      <td>0.0</td>\n",
       "      <td>0.0</td>\n",
       "      <td>Fayene Gambs</td>\n",
       "      <td>1</td>\n",
       "      <td>0.0</td>\n",
       "      <td>True</td>\n",
       "    </tr>\n",
       "    <tr>\n",
       "      <th>5154_01</th>\n",
       "      <td>Mars</td>\n",
       "      <td>False</td>\n",
       "      <td>E/321/P</td>\n",
       "      <td>TRAPPIST-1e</td>\n",
       "      <td>34.0</td>\n",
       "      <td>True</td>\n",
       "      <td>38.0</td>\n",
       "      <td>0.0</td>\n",
       "      <td>606.0</td>\n",
       "      <td>0.0</td>\n",
       "      <td>404.0</td>\n",
       "      <td>Sunch Buche</td>\n",
       "      <td>0</td>\n",
       "      <td>0.0</td>\n",
       "      <td>False</td>\n",
       "    </tr>\n",
       "    <tr>\n",
       "      <th>0992_01</th>\n",
       "      <td>Europa</td>\n",
       "      <td>False</td>\n",
       "      <td>D/35/S</td>\n",
       "      <td>TRAPPIST-1e</td>\n",
       "      <td>49.0</td>\n",
       "      <td>False</td>\n",
       "      <td>31.0</td>\n",
       "      <td>2727.0</td>\n",
       "      <td>0.0</td>\n",
       "      <td>184.0</td>\n",
       "      <td>135.0</td>\n",
       "      <td>Zino Kiling</td>\n",
       "      <td>1</td>\n",
       "      <td>0.0</td>\n",
       "      <td>False</td>\n",
       "    </tr>\n",
       "    <tr>\n",
       "      <th>5408_02</th>\n",
       "      <td>Mars</td>\n",
       "      <td>False</td>\n",
       "      <td>D/174/P</td>\n",
       "      <td>TRAPPIST-1e</td>\n",
       "      <td>16.0</td>\n",
       "      <td>False</td>\n",
       "      <td>2116.0</td>\n",
       "      <td>0.0</td>\n",
       "      <td>350.0</td>\n",
       "      <td>0.0</td>\n",
       "      <td>901.0</td>\n",
       "      <td>Felios Gene</td>\n",
       "      <td>0</td>\n",
       "      <td>0.0</td>\n",
       "      <td>True</td>\n",
       "    </tr>\n",
       "  </tbody>\n",
       "</table>\n",
       "</div>"
      ],
      "text/plain": [
       "            HomePlanet CryoSleep    Cabin  Destination   Age    VIP  \\\n",
       "PassengerId                                                           \n",
       "8135_01         Europa      True  C/267/P  TRAPPIST-1e  22.0  False   \n",
       "0138_01          Earth      True   G/18/P  TRAPPIST-1e  13.0  False   \n",
       "5154_01           Mars     False  E/321/P  TRAPPIST-1e  34.0   True   \n",
       "0992_01         Europa     False   D/35/S  TRAPPIST-1e  49.0  False   \n",
       "5408_02           Mars     False  D/174/P  TRAPPIST-1e  16.0  False   \n",
       "\n",
       "             RoomService  FoodCourt  ShoppingMall    Spa  VRDeck  \\\n",
       "PassengerId                                                        \n",
       "8135_01              0.0        0.0           0.0    0.0     0.0   \n",
       "0138_01              0.0        0.0           0.0    0.0     0.0   \n",
       "5154_01             38.0        0.0         606.0    0.0   404.0   \n",
       "0992_01             31.0     2727.0           0.0  184.0   135.0   \n",
       "5408_02           2116.0        0.0         350.0    0.0   901.0   \n",
       "\n",
       "                        Name  Transported  RoomServiceSqrt  isChild  \n",
       "PassengerId                                                          \n",
       "8135_01      Navior Coudered            1              0.0    False  \n",
       "0138_01         Fayene Gambs            1              0.0     True  \n",
       "5154_01          Sunch Buche            0              0.0    False  \n",
       "0992_01          Zino Kiling            1              0.0    False  \n",
       "5408_02          Felios Gene            0              0.0     True  "
      ]
     },
     "execution_count": 58,
     "metadata": {},
     "output_type": "execute_result"
    }
   ],
   "source": [
    "X_train.head()"
   ]
  },
  {
   "cell_type": "code",
   "execution_count": 59,
   "id": "75814631",
   "metadata": {
    "execution": {
     "iopub.execute_input": "2022-05-17T08:34:11.752105Z",
     "iopub.status.busy": "2022-05-17T08:34:11.751493Z",
     "iopub.status.idle": "2022-05-17T08:34:11.757161Z",
     "shell.execute_reply": "2022-05-17T08:34:11.757584Z",
     "shell.execute_reply.started": "2022-05-17T08:27:01.289275Z"
    },
    "papermill": {
     "duration": 0.13687,
     "end_time": "2022-05-17T08:34:11.757766",
     "exception": false,
     "start_time": "2022-05-17T08:34:11.620896",
     "status": "completed"
    },
    "tags": []
   },
   "outputs": [],
   "source": [
    "X_train = processData(X_train)\n",
    "X_test = processData(X_test)\n",
    "df_validation = processData(df_validation)"
   ]
  },
  {
   "cell_type": "code",
   "execution_count": 60,
   "id": "27e68686",
   "metadata": {
    "execution": {
     "iopub.execute_input": "2022-05-17T08:34:12.012949Z",
     "iopub.status.busy": "2022-05-17T08:34:12.012274Z",
     "iopub.status.idle": "2022-05-17T08:34:12.735402Z",
     "shell.execute_reply": "2022-05-17T08:34:12.734935Z",
     "shell.execute_reply.started": "2022-05-17T08:27:01.305397Z"
    },
    "papermill": {
     "duration": 0.850696,
     "end_time": "2022-05-17T08:34:12.735524",
     "exception": false,
     "start_time": "2022-05-17T08:34:11.884828",
     "status": "completed"
    },
    "tags": []
   },
   "outputs": [
    {
     "data": {
      "text/plain": [
       "<AxesSubplot:>"
      ]
     },
     "execution_count": 60,
     "metadata": {},
     "output_type": "execute_result"
    },
    {
     "data": {
      "image/png": "[encoded data removed]",
      "text/plain": [
       "<Figure size 1008x576 with 2 Axes>"
      ]
     },
     "metadata": {
      "needs_background": "light"
     },
     "output_type": "display_data"
    }
   ],
   "source": [
    "plt.figure(figsize = (14,8))\n",
    "sns.heatmap(X_train.corr(), linewidths = 0.5, annot = True)"
   ]
  },
  {
   "cell_type": "code",
   "execution_count": 61,
   "id": "8d4aad23",
   "metadata": {
    "execution": {
     "iopub.execute_input": "2022-05-17T08:34:12.992692Z",
     "iopub.status.busy": "2022-05-17T08:34:12.992096Z",
     "iopub.status.idle": "2022-05-17T08:34:13.011540Z",
     "shell.execute_reply": "2022-05-17T08:34:13.011020Z",
     "shell.execute_reply.started": "2022-05-17T08:27:02.051787Z"
    },
    "papermill": {
     "duration": 0.147397,
     "end_time": "2022-05-17T08:34:13.011695",
     "exception": false,
     "start_time": "2022-05-17T08:34:12.864298",
     "status": "completed"
    },
    "tags": []
   },
   "outputs": [
    {
     "data": {
      "text/html": [
       "<div>\n",
       "<style scoped>\n",
       "    .dataframe tbody tr th:only-of-type {\n",
       "        vertical-align: middle;\n",
       "    }\n",
       "\n",
       "    .dataframe tbody tr th {\n",
       "        vertical-align: top;\n",
       "    }\n",
       "\n",
       "    .dataframe thead th {\n",
       "        text-align: right;\n",
       "    }\n",
       "</style>\n",
       "<table border=\"1\" class=\"dataframe\">\n",
       "  <thead>\n",
       "    <tr style=\"text-align: right;\">\n",
       "      <th></th>\n",
       "      <th>Age</th>\n",
       "      <th>RoomService</th>\n",
       "      <th>FoodCourt</th>\n",
       "      <th>ShoppingMall</th>\n",
       "      <th>Spa</th>\n",
       "      <th>VRDeck</th>\n",
       "      <th>Transported</th>\n",
       "      <th>RoomServiceSqrt</th>\n",
       "      <th>isChild</th>\n",
       "    </tr>\n",
       "  </thead>\n",
       "  <tbody>\n",
       "    <tr>\n",
       "      <th>Age</th>\n",
       "      <td>1.000000</td>\n",
       "      <td>0.072346</td>\n",
       "      <td>0.138615</td>\n",
       "      <td>0.039487</td>\n",
       "      <td>0.132974</td>\n",
       "      <td>0.101787</td>\n",
       "      <td>-0.075335</td>\n",
       "      <td>-0.020462</td>\n",
       "      <td>-0.627018</td>\n",
       "    </tr>\n",
       "    <tr>\n",
       "      <th>RoomService</th>\n",
       "      <td>0.072346</td>\n",
       "      <td>1.000000</td>\n",
       "      <td>-0.010138</td>\n",
       "      <td>0.053994</td>\n",
       "      <td>0.010961</td>\n",
       "      <td>-0.016699</td>\n",
       "      <td>-0.245825</td>\n",
       "      <td>NaN</td>\n",
       "      <td>-0.083809</td>\n",
       "    </tr>\n",
       "    <tr>\n",
       "      <th>FoodCourt</th>\n",
       "      <td>0.138615</td>\n",
       "      <td>-0.010138</td>\n",
       "      <td>1.000000</td>\n",
       "      <td>-0.008829</td>\n",
       "      <td>0.224297</td>\n",
       "      <td>0.247768</td>\n",
       "      <td>0.041902</td>\n",
       "      <td>-0.009320</td>\n",
       "      <td>-0.111437</td>\n",
       "    </tr>\n",
       "    <tr>\n",
       "      <th>ShoppingMall</th>\n",
       "      <td>0.039487</td>\n",
       "      <td>0.053994</td>\n",
       "      <td>-0.008829</td>\n",
       "      <td>1.000000</td>\n",
       "      <td>0.019727</td>\n",
       "      <td>-0.021811</td>\n",
       "      <td>0.013410</td>\n",
       "      <td>0.003404</td>\n",
       "      <td>-0.065528</td>\n",
       "    </tr>\n",
       "    <tr>\n",
       "      <th>Spa</th>\n",
       "      <td>0.132974</td>\n",
       "      <td>0.010961</td>\n",
       "      <td>0.224297</td>\n",
       "      <td>0.019727</td>\n",
       "      <td>1.000000</td>\n",
       "      <td>0.163155</td>\n",
       "      <td>-0.218046</td>\n",
       "      <td>0.010816</td>\n",
       "      <td>-0.096374</td>\n",
       "    </tr>\n",
       "    <tr>\n",
       "      <th>VRDeck</th>\n",
       "      <td>0.101787</td>\n",
       "      <td>-0.016699</td>\n",
       "      <td>0.247768</td>\n",
       "      <td>-0.021811</td>\n",
       "      <td>0.163155</td>\n",
       "      <td>1.000000</td>\n",
       "      <td>-0.205466</td>\n",
       "      <td>0.013367</td>\n",
       "      <td>-0.096031</td>\n",
       "    </tr>\n",
       "    <tr>\n",
       "      <th>Transported</th>\n",
       "      <td>-0.075335</td>\n",
       "      <td>-0.245825</td>\n",
       "      <td>0.041902</td>\n",
       "      <td>0.013410</td>\n",
       "      <td>-0.218046</td>\n",
       "      <td>-0.205466</td>\n",
       "      <td>1.000000</td>\n",
       "      <td>-0.011367</td>\n",
       "      <td>0.111954</td>\n",
       "    </tr>\n",
       "    <tr>\n",
       "      <th>RoomServiceSqrt</th>\n",
       "      <td>-0.020462</td>\n",
       "      <td>NaN</td>\n",
       "      <td>-0.009320</td>\n",
       "      <td>0.003404</td>\n",
       "      <td>0.010816</td>\n",
       "      <td>0.013367</td>\n",
       "      <td>-0.011367</td>\n",
       "      <td>1.000000</td>\n",
       "      <td>0.026957</td>\n",
       "    </tr>\n",
       "    <tr>\n",
       "      <th>isChild</th>\n",
       "      <td>-0.627018</td>\n",
       "      <td>-0.083809</td>\n",
       "      <td>-0.111437</td>\n",
       "      <td>-0.065528</td>\n",
       "      <td>-0.096374</td>\n",
       "      <td>-0.096031</td>\n",
       "      <td>0.111954</td>\n",
       "      <td>0.026957</td>\n",
       "      <td>1.000000</td>\n",
       "    </tr>\n",
       "  </tbody>\n",
       "</table>\n",
       "</div>"
      ],
      "text/plain": [
       "                      Age  RoomService  FoodCourt  ShoppingMall       Spa  \\\n",
       "Age              1.000000     0.072346   0.138615      0.039487  0.132974   \n",
       "RoomService      0.072346     1.000000  -0.010138      0.053994  0.010961   \n",
       "FoodCourt        0.138615    -0.010138   1.000000     -0.008829  0.224297   \n",
       "ShoppingMall     0.039487     0.053994  -0.008829      1.000000  0.019727   \n",
       "Spa              0.132974     0.010961   0.224297      0.019727  1.000000   \n",
       "VRDeck           0.101787    -0.016699   0.247768     -0.021811  0.163155   \n",
       "Transported     -0.075335    -0.245825   0.041902      0.013410 -0.218046   \n",
       "RoomServiceSqrt -0.020462          NaN  -0.009320      0.003404  0.010816   \n",
       "isChild         -0.627018    -0.083809  -0.111437     -0.065528 -0.096374   \n",
       "\n",
       "                   VRDeck  Transported  RoomServiceSqrt   isChild  \n",
       "Age              0.101787    -0.075335        -0.020462 -0.627018  \n",
       "RoomService     -0.016699    -0.245825              NaN -0.083809  \n",
       "FoodCourt        0.247768     0.041902        -0.009320 -0.111437  \n",
       "ShoppingMall    -0.021811     0.013410         0.003404 -0.065528  \n",
       "Spa              0.163155    -0.218046         0.010816 -0.096374  \n",
       "VRDeck           1.000000    -0.205466         0.013367 -0.096031  \n",
       "Transported     -0.205466     1.000000        -0.011367  0.111954  \n",
       "RoomServiceSqrt  0.013367    -0.011367         1.000000  0.026957  \n",
       "isChild         -0.096031     0.111954         0.026957  1.000000  "
      ]
     },
     "execution_count": 61,
     "metadata": {},
     "output_type": "execute_result"
    }
   ],
   "source": [
    "X_train.corr()"
   ]
  },
  {
   "cell_type": "code",
   "execution_count": 62,
   "id": "9b6a61c7",
   "metadata": {
    "execution": {
     "iopub.execute_input": "2022-05-17T08:34:13.272041Z",
     "iopub.status.busy": "2022-05-17T08:34:13.271368Z",
     "iopub.status.idle": "2022-05-17T08:34:13.796989Z",
     "shell.execute_reply": "2022-05-17T08:34:13.797452Z",
     "shell.execute_reply.started": "2022-05-17T08:27:02.074727Z"
    },
    "papermill": {
     "duration": 0.657492,
     "end_time": "2022-05-17T08:34:13.797651",
     "exception": false,
     "start_time": "2022-05-17T08:34:13.140159",
     "status": "completed"
    },
    "tags": []
   },
   "outputs": [
    {
     "name": "stderr",
     "output_type": "stream",
     "text": [
      "/opt/conda/lib/python3.7/site-packages/seaborn/categorical.py:3717: UserWarning: The `factorplot` function has been renamed to `catplot`. The original name will be removed in a future release. Please update your code. Note that the default `kind` in `factorplot` (`'point'`) has changed `'strip'` in `catplot`.\n",
      "  warnings.warn(msg)\n"
     ]
    },
    {
     "data": {
      "image/png": "[encoded data removed]",
      "text/plain": [
       "<Figure size 360x360 with 1 Axes>"
      ]
     },
     "metadata": {
      "needs_background": "light"
     },
     "output_type": "display_data"
    }
   ],
   "source": [
    "g = sns.factorplot(y=\"Transported\",x=\"Destination\",data=X_train,kind=\"bar\")\n",
    "g = g.set_ylabels(\"Transportation Probability\")"
   ]
  },
  {
   "cell_type": "markdown",
   "id": "c348bfb2",
   "metadata": {
    "papermill": {
     "duration": 0.12781,
     "end_time": "2022-05-17T08:34:14.055145",
     "exception": false,
     "start_time": "2022-05-17T08:34:13.927335",
     "status": "completed"
    },
    "tags": []
   },
   "source": [
    "# Feature Selection"
   ]
  },
  {
   "cell_type": "code",
   "execution_count": 63,
   "id": "5503c1f3",
   "metadata": {
    "execution": {
     "iopub.execute_input": "2022-05-17T08:34:14.318396Z",
     "iopub.status.busy": "2022-05-17T08:34:14.317441Z",
     "iopub.status.idle": "2022-05-17T08:34:14.322226Z",
     "shell.execute_reply": "2022-05-17T08:34:14.322758Z",
     "shell.execute_reply.started": "2022-05-17T08:27:02.488348Z"
    },
    "papermill": {
     "duration": 0.13681,
     "end_time": "2022-05-17T08:34:14.322946",
     "exception": false,
     "start_time": "2022-05-17T08:34:14.186136",
     "status": "completed"
    },
    "tags": []
   },
   "outputs": [],
   "source": [
    "features = ['Age', 'RoomService', 'Spa', 'FoodCourt', 'VRDeck', 'isChild', 'VIP', 'CryoSleep', 'Destination']"
   ]
  },
  {
   "cell_type": "markdown",
   "id": "0ec0a20b",
   "metadata": {
    "papermill": {
     "duration": 0.129521,
     "end_time": "2022-05-17T08:34:14.582642",
     "exception": false,
     "start_time": "2022-05-17T08:34:14.453121",
     "status": "completed"
    },
    "tags": []
   },
   "source": [
    "# Check different models"
   ]
  },
  {
   "cell_type": "code",
   "execution_count": 64,
   "id": "5ef27580",
   "metadata": {
    "execution": {
     "iopub.execute_input": "2022-05-17T08:34:14.850086Z",
     "iopub.status.busy": "2022-05-17T08:34:14.846321Z",
     "iopub.status.idle": "2022-05-17T08:34:14.852047Z",
     "shell.execute_reply": "2022-05-17T08:34:14.852691Z",
     "shell.execute_reply.started": "2022-05-17T08:27:02.494143Z"
    },
    "papermill": {
     "duration": 0.140295,
     "end_time": "2022-05-17T08:34:14.852900",
     "exception": false,
     "start_time": "2022-05-17T08:34:14.712605",
     "status": "completed"
    },
    "tags": []
   },
   "outputs": [],
   "source": [
    "y_train = X_train.pop('Transported')"
   ]
  },
  {
   "cell_type": "code",
   "execution_count": 65,
   "id": "64eb1353",
   "metadata": {
    "execution": {
     "iopub.execute_input": "2022-05-17T08:34:15.245977Z",
     "iopub.status.busy": "2022-05-17T08:34:15.245145Z",
     "iopub.status.idle": "2022-05-17T08:34:15.265506Z",
     "shell.execute_reply": "2022-05-17T08:34:15.266077Z",
     "shell.execute_reply.started": "2022-05-17T08:27:02.507097Z"
    },
    "papermill": {
     "duration": 0.219656,
     "end_time": "2022-05-17T08:34:15.266264",
     "exception": false,
     "start_time": "2022-05-17T08:34:15.046608",
     "status": "completed"
    },
    "tags": []
   },
   "outputs": [
    {
     "data": {
      "text/html": [
       "<div>\n",
       "<style scoped>\n",
       "    .dataframe tbody tr th:only-of-type {\n",
       "        vertical-align: middle;\n",
       "    }\n",
       "\n",
       "    .dataframe tbody tr th {\n",
       "        vertical-align: top;\n",
       "    }\n",
       "\n",
       "    .dataframe thead th {\n",
       "        text-align: right;\n",
       "    }\n",
       "</style>\n",
       "<table border=\"1\" class=\"dataframe\">\n",
       "  <thead>\n",
       "    <tr style=\"text-align: right;\">\n",
       "      <th></th>\n",
       "      <th>Age</th>\n",
       "      <th>RoomService</th>\n",
       "      <th>Spa</th>\n",
       "      <th>FoodCourt</th>\n",
       "      <th>VRDeck</th>\n",
       "      <th>isChild</th>\n",
       "      <th>VIP</th>\n",
       "      <th>CryoSleep</th>\n",
       "      <th>Destination</th>\n",
       "    </tr>\n",
       "    <tr>\n",
       "      <th>PassengerId</th>\n",
       "      <th></th>\n",
       "      <th></th>\n",
       "      <th></th>\n",
       "      <th></th>\n",
       "      <th></th>\n",
       "      <th></th>\n",
       "      <th></th>\n",
       "      <th></th>\n",
       "      <th></th>\n",
       "    </tr>\n",
       "  </thead>\n",
       "  <tbody>\n",
       "    <tr>\n",
       "      <th>8135_01</th>\n",
       "      <td>22.0</td>\n",
       "      <td>0.0</td>\n",
       "      <td>0.0</td>\n",
       "      <td>0.0</td>\n",
       "      <td>0.0</td>\n",
       "      <td>False</td>\n",
       "      <td>False</td>\n",
       "      <td>True</td>\n",
       "      <td>TRAPPIST-1e</td>\n",
       "    </tr>\n",
       "    <tr>\n",
       "      <th>0138_01</th>\n",
       "      <td>13.0</td>\n",
       "      <td>0.0</td>\n",
       "      <td>0.0</td>\n",
       "      <td>0.0</td>\n",
       "      <td>0.0</td>\n",
       "      <td>True</td>\n",
       "      <td>False</td>\n",
       "      <td>True</td>\n",
       "      <td>TRAPPIST-1e</td>\n",
       "    </tr>\n",
       "    <tr>\n",
       "      <th>5154_01</th>\n",
       "      <td>34.0</td>\n",
       "      <td>38.0</td>\n",
       "      <td>0.0</td>\n",
       "      <td>0.0</td>\n",
       "      <td>404.0</td>\n",
       "      <td>False</td>\n",
       "      <td>True</td>\n",
       "      <td>False</td>\n",
       "      <td>TRAPPIST-1e</td>\n",
       "    </tr>\n",
       "    <tr>\n",
       "      <th>0992_01</th>\n",
       "      <td>49.0</td>\n",
       "      <td>31.0</td>\n",
       "      <td>184.0</td>\n",
       "      <td>2727.0</td>\n",
       "      <td>135.0</td>\n",
       "      <td>False</td>\n",
       "      <td>False</td>\n",
       "      <td>False</td>\n",
       "      <td>TRAPPIST-1e</td>\n",
       "    </tr>\n",
       "    <tr>\n",
       "      <th>5408_02</th>\n",
       "      <td>16.0</td>\n",
       "      <td>2116.0</td>\n",
       "      <td>0.0</td>\n",
       "      <td>0.0</td>\n",
       "      <td>901.0</td>\n",
       "      <td>True</td>\n",
       "      <td>False</td>\n",
       "      <td>False</td>\n",
       "      <td>TRAPPIST-1e</td>\n",
       "    </tr>\n",
       "    <tr>\n",
       "      <th>...</th>\n",
       "      <td>...</td>\n",
       "      <td>...</td>\n",
       "      <td>...</td>\n",
       "      <td>...</td>\n",
       "      <td>...</td>\n",
       "      <td>...</td>\n",
       "      <td>...</td>\n",
       "      <td>...</td>\n",
       "      <td>...</td>\n",
       "    </tr>\n",
       "    <tr>\n",
       "      <th>5223_03</th>\n",
       "      <td>8.0</td>\n",
       "      <td>0.0</td>\n",
       "      <td>0.0</td>\n",
       "      <td>0.0</td>\n",
       "      <td>0.0</td>\n",
       "      <td>True</td>\n",
       "      <td>False</td>\n",
       "      <td>True</td>\n",
       "      <td>TRAPPIST-1e</td>\n",
       "    </tr>\n",
       "    <tr>\n",
       "      <th>7199_01</th>\n",
       "      <td>54.0</td>\n",
       "      <td>1.0</td>\n",
       "      <td>NaN</td>\n",
       "      <td>0.0</td>\n",
       "      <td>1.0</td>\n",
       "      <td>False</td>\n",
       "      <td>False</td>\n",
       "      <td>False</td>\n",
       "      <td>TRAPPIST-1e</td>\n",
       "    </tr>\n",
       "    <tr>\n",
       "      <th>6092_03</th>\n",
       "      <td>1.0</td>\n",
       "      <td>0.0</td>\n",
       "      <td>0.0</td>\n",
       "      <td>0.0</td>\n",
       "      <td>0.0</td>\n",
       "      <td>True</td>\n",
       "      <td>False</td>\n",
       "      <td>False</td>\n",
       "      <td>TRAPPIST-1e</td>\n",
       "    </tr>\n",
       "    <tr>\n",
       "      <th>2910_01</th>\n",
       "      <td>32.0</td>\n",
       "      <td>0.0</td>\n",
       "      <td>0.0</td>\n",
       "      <td>0.0</td>\n",
       "      <td>0.0</td>\n",
       "      <td>False</td>\n",
       "      <td>False</td>\n",
       "      <td>False</td>\n",
       "      <td>PSO J318.5-22</td>\n",
       "    </tr>\n",
       "    <tr>\n",
       "      <th>4197_02</th>\n",
       "      <td>27.0</td>\n",
       "      <td>0.0</td>\n",
       "      <td>128.0</td>\n",
       "      <td>867.0</td>\n",
       "      <td>363.0</td>\n",
       "      <td>False</td>\n",
       "      <td>False</td>\n",
       "      <td>False</td>\n",
       "      <td>TRAPPIST-1e</td>\n",
       "    </tr>\n",
       "  </tbody>\n",
       "</table>\n",
       "<p>6519 rows × 9 columns</p>\n",
       "</div>"
      ],
      "text/plain": [
       "              Age  RoomService    Spa  FoodCourt  VRDeck  isChild    VIP  \\\n",
       "PassengerId                                                                \n",
       "8135_01      22.0          0.0    0.0        0.0     0.0    False  False   \n",
       "0138_01      13.0          0.0    0.0        0.0     0.0     True  False   \n",
       "5154_01      34.0         38.0    0.0        0.0   404.0    False   True   \n",
       "0992_01      49.0         31.0  184.0     2727.0   135.0    False  False   \n",
       "5408_02      16.0       2116.0    0.0        0.0   901.0     True  False   \n",
       "...           ...          ...    ...        ...     ...      ...    ...   \n",
       "5223_03       8.0          0.0    0.0        0.0     0.0     True  False   \n",
       "7199_01      54.0          1.0    NaN        0.0     1.0    False  False   \n",
       "6092_03       1.0          0.0    0.0        0.0     0.0     True  False   \n",
       "2910_01      32.0          0.0    0.0        0.0     0.0    False  False   \n",
       "4197_02      27.0          0.0  128.0      867.0   363.0    False  False   \n",
       "\n",
       "            CryoSleep    Destination  \n",
       "PassengerId                           \n",
       "8135_01          True    TRAPPIST-1e  \n",
       "0138_01          True    TRAPPIST-1e  \n",
       "5154_01         False    TRAPPIST-1e  \n",
       "0992_01         False    TRAPPIST-1e  \n",
       "5408_02         False    TRAPPIST-1e  \n",
       "...               ...            ...  \n",
       "5223_03          True    TRAPPIST-1e  \n",
       "7199_01         False    TRAPPIST-1e  \n",
       "6092_03         False    TRAPPIST-1e  \n",
       "2910_01         False  PSO J318.5-22  \n",
       "4197_02         False    TRAPPIST-1e  \n",
       "\n",
       "[6519 rows x 9 columns]"
      ]
     },
     "execution_count": 65,
     "metadata": {},
     "output_type": "execute_result"
    }
   ],
   "source": [
    "X_train[features]"
   ]
  },
  {
   "cell_type": "code",
   "execution_count": 66,
   "id": "c4d5f5fd",
   "metadata": {
    "execution": {
     "iopub.execute_input": "2022-05-17T08:34:15.661450Z",
     "iopub.status.busy": "2022-05-17T08:34:15.660576Z",
     "iopub.status.idle": "2022-05-17T08:34:15.681412Z",
     "shell.execute_reply": "2022-05-17T08:34:15.682069Z",
     "shell.execute_reply.started": "2022-05-17T08:27:02.547623Z"
    },
    "papermill": {
     "duration": 0.219954,
     "end_time": "2022-05-17T08:34:15.682268",
     "exception": false,
     "start_time": "2022-05-17T08:34:15.462314",
     "status": "completed"
    },
    "tags": []
   },
   "outputs": [
    {
     "data": {
      "text/html": [
       "<div>\n",
       "<style scoped>\n",
       "    .dataframe tbody tr th:only-of-type {\n",
       "        vertical-align: middle;\n",
       "    }\n",
       "\n",
       "    .dataframe tbody tr th {\n",
       "        vertical-align: top;\n",
       "    }\n",
       "\n",
       "    .dataframe thead th {\n",
       "        text-align: right;\n",
       "    }\n",
       "</style>\n",
       "<table border=\"1\" class=\"dataframe\">\n",
       "  <thead>\n",
       "    <tr style=\"text-align: right;\">\n",
       "      <th></th>\n",
       "      <th>Age</th>\n",
       "      <th>RoomService</th>\n",
       "      <th>Spa</th>\n",
       "      <th>FoodCourt</th>\n",
       "      <th>VRDeck</th>\n",
       "    </tr>\n",
       "  </thead>\n",
       "  <tbody>\n",
       "    <tr>\n",
       "      <th>count</th>\n",
       "      <td>6376.000000</td>\n",
       "      <td>6385.000000</td>\n",
       "      <td>6369.000000</td>\n",
       "      <td>6384.000000</td>\n",
       "      <td>6380.000000</td>\n",
       "    </tr>\n",
       "    <tr>\n",
       "      <th>mean</th>\n",
       "      <td>28.905270</td>\n",
       "      <td>226.431637</td>\n",
       "      <td>307.363479</td>\n",
       "      <td>461.945019</td>\n",
       "      <td>315.998589</td>\n",
       "    </tr>\n",
       "    <tr>\n",
       "      <th>std</th>\n",
       "      <td>14.445423</td>\n",
       "      <td>672.719330</td>\n",
       "      <td>1128.718219</td>\n",
       "      <td>1625.497764</td>\n",
       "      <td>1191.841073</td>\n",
       "    </tr>\n",
       "    <tr>\n",
       "      <th>min</th>\n",
       "      <td>0.000000</td>\n",
       "      <td>0.000000</td>\n",
       "      <td>0.000000</td>\n",
       "      <td>0.000000</td>\n",
       "      <td>0.000000</td>\n",
       "    </tr>\n",
       "    <tr>\n",
       "      <th>25%</th>\n",
       "      <td>19.000000</td>\n",
       "      <td>0.000000</td>\n",
       "      <td>0.000000</td>\n",
       "      <td>0.000000</td>\n",
       "      <td>0.000000</td>\n",
       "    </tr>\n",
       "    <tr>\n",
       "      <th>50%</th>\n",
       "      <td>27.000000</td>\n",
       "      <td>0.000000</td>\n",
       "      <td>0.000000</td>\n",
       "      <td>0.000000</td>\n",
       "      <td>0.000000</td>\n",
       "    </tr>\n",
       "    <tr>\n",
       "      <th>75%</th>\n",
       "      <td>38.000000</td>\n",
       "      <td>52.000000</td>\n",
       "      <td>63.000000</td>\n",
       "      <td>81.000000</td>\n",
       "      <td>52.000000</td>\n",
       "    </tr>\n",
       "    <tr>\n",
       "      <th>max</th>\n",
       "      <td>79.000000</td>\n",
       "      <td>14327.000000</td>\n",
       "      <td>22408.000000</td>\n",
       "      <td>29813.000000</td>\n",
       "      <td>24133.000000</td>\n",
       "    </tr>\n",
       "  </tbody>\n",
       "</table>\n",
       "</div>"
      ],
      "text/plain": [
       "               Age   RoomService           Spa     FoodCourt        VRDeck\n",
       "count  6376.000000   6385.000000   6369.000000   6384.000000   6380.000000\n",
       "mean     28.905270    226.431637    307.363479    461.945019    315.998589\n",
       "std      14.445423    672.719330   1128.718219   1625.497764   1191.841073\n",
       "min       0.000000      0.000000      0.000000      0.000000      0.000000\n",
       "25%      19.000000      0.000000      0.000000      0.000000      0.000000\n",
       "50%      27.000000      0.000000      0.000000      0.000000      0.000000\n",
       "75%      38.000000     52.000000     63.000000     81.000000     52.000000\n",
       "max      79.000000  14327.000000  22408.000000  29813.000000  24133.000000"
      ]
     },
     "execution_count": 66,
     "metadata": {},
     "output_type": "execute_result"
    }
   ],
   "source": [
    "X_train[features].describe()"
   ]
  },
  {
   "cell_type": "markdown",
   "id": "f2f5e0b3",
   "metadata": {
    "papermill": {
     "duration": 0.195112,
     "end_time": "2022-05-17T08:34:16.074937",
     "exception": false,
     "start_time": "2022-05-17T08:34:15.879825",
     "status": "completed"
    },
    "tags": []
   },
   "source": [
    "# Pipeline"
   ]
  },
  {
   "cell_type": "code",
   "execution_count": 67,
   "id": "a73a058f",
   "metadata": {
    "execution": {
     "iopub.execute_input": "2022-05-17T08:34:16.475923Z",
     "iopub.status.busy": "2022-05-17T08:34:16.474928Z",
     "iopub.status.idle": "2022-05-17T08:34:16.658805Z",
     "shell.execute_reply": "2022-05-17T08:34:16.658267Z",
     "shell.execute_reply.started": "2022-05-17T08:27:02.576342Z"
    },
    "papermill": {
     "duration": 0.387283,
     "end_time": "2022-05-17T08:34:16.658953",
     "exception": false,
     "start_time": "2022-05-17T08:34:16.271670",
     "status": "completed"
    },
    "tags": []
   },
   "outputs": [],
   "source": [
    "from sklearn.pipeline import Pipeline\n",
    "from sklearn.model_selection import GridSearchCV, RandomizedSearchCV\n",
    "from sklearn.compose import ColumnTransformer\n",
    "\n",
    "from sklearn.metrics import accuracy_score,recall_score,confusion_matrix\n",
    "\n",
    "from sklearn.preprocessing import StandardScaler\n",
    "from sklearn.impute import SimpleImputer\n",
    "from sklearn.preprocessing import OneHotEncoder,OrdinalEncoder\n",
    "from sklearn.feature_selection import SelectKBest, f_classif, chi2, RFE\n",
    "\n",
    "categorical_features = X_train[features].select_dtypes(include=['object']).columns\n",
    "numeric_features = X_train[features].select_dtypes(exclude=['object']).columns\n",
    "\n",
    "numeric_transformer = Pipeline(steps=[\n",
    "    ('imputer', SimpleImputer(strategy='median')),\n",
    "    ('scaler', StandardScaler())\n",
    "    #,('skb', SelectKBest(f_classif))\n",
    "    ])\n",
    "\n",
    "categorical_transformer = Pipeline(steps=[\n",
    "    ('imputer', SimpleImputer(strategy='constant')),\n",
    "    ('onehot', OneHotEncoder(handle_unknown='ignore'))\n",
    "    #,('skb', SelectKBest(chi2))\n",
    "    ])\n",
    "\n",
    "preprocessor = ColumnTransformer(\n",
    "    transformers=[\n",
    "        ('num', numeric_transformer, numeric_features),\n",
    "        ('cat', categorical_transformer, categorical_features)\n",
    "    ], remainder='passthrough')"
   ]
  },
  {
   "cell_type": "code",
   "execution_count": 68,
   "id": "6be4e62d",
   "metadata": {
    "execution": {
     "iopub.execute_input": "2022-05-17T08:34:16.930862Z",
     "iopub.status.busy": "2022-05-17T08:34:16.930058Z",
     "iopub.status.idle": "2022-05-17T08:34:42.946968Z",
     "shell.execute_reply": "2022-05-17T08:34:42.947518Z",
     "shell.execute_reply.started": "2022-05-17T08:27:02.592145Z"
    },
    "papermill": {
     "duration": 26.158751,
     "end_time": "2022-05-17T08:34:42.947733",
     "exception": false,
     "start_time": "2022-05-17T08:34:16.788982",
     "status": "completed"
    },
    "tags": []
   },
   "outputs": [
    {
     "name": "stdout",
     "output_type": "stream",
     "text": [
      "KNeighborsClassifier(n_neighbors=3)\n",
      "model score: 0.754\n",
      "SVC(C=0.025, probability=True)\n",
      "model score: 0.743\n",
      "NuSVC(probability=True)\n",
      "model score: 0.763\n",
      "DecisionTreeClassifier()\n",
      "model score: 0.737\n",
      "RandomForestClassifier()\n",
      "model score: 0.768\n",
      "AdaBoostClassifier()\n",
      "model score: 0.770\n",
      "GradientBoostingClassifier()\n",
      "model score: 0.782\n",
      "[08:34:42] WARNING: ../src/learner.cc:1115: Starting in XGBoost 1.3.0, the default evaluation metric used with the objective 'binary:logistic' was changed from 'error' to 'logloss'. Explicitly set eval_metric if you'd like to restore the old behavior.\n"
     ]
    },
    {
     "name": "stderr",
     "output_type": "stream",
     "text": [
      "/opt/conda/lib/python3.7/site-packages/xgboost/sklearn.py:1224: UserWarning: The use of label encoder in XGBClassifier is deprecated and will be removed in a future release. To remove this warning, do the following: 1) Pass option use_label_encoder=False when constructing XGBClassifier object; and 2) Encode your labels (y) as integers starting with 0, i.e. 0, 1, 2, ..., [num_class - 1].\n",
      "  warnings.warn(label_encoder_deprecation_msg, UserWarning)\n"
     ]
    },
    {
     "name": "stdout",
     "output_type": "stream",
     "text": [
      "XGBClassifier(base_score=0.5, booster='gbtree', colsample_bylevel=1,\n",
      "              colsample_bynode=1, colsample_bytree=1, enable_categorical=False,\n",
      "              gamma=0, gpu_id=-1, importance_type=None,\n",
      "              interaction_constraints='', learning_rate=0.300000012,\n",
      "              max_delta_step=0, max_depth=6, min_child_weight=1, missing=nan,\n",
      "              monotone_constraints='()', n_estimators=100, n_jobs=4,\n",
      "              num_parallel_tree=1, predictor='auto', random_state=0,\n",
      "              reg_alpha=0, reg_lambda=1, scale_pos_weight=1, subsample=1,\n",
      "              tree_method='exact', validate_parameters=1, verbosity=None)\n",
      "model score: 0.769\n",
      "LogisticRegression()\n",
      "model score: 0.756\n"
     ]
    }
   ],
   "source": [
    "from sklearn.metrics import accuracy_score, log_loss\n",
    "from sklearn.neighbors import KNeighborsClassifier\n",
    "from sklearn.svm import SVC, LinearSVC, NuSVC\n",
    "from sklearn.tree import DecisionTreeClassifier\n",
    "from sklearn.linear_model import LogisticRegression\n",
    "from sklearn.ensemble import RandomForestClassifier, AdaBoostClassifier, GradientBoostingClassifier\n",
    "import xgboost as xgb\n",
    "\n",
    "classifiers = [\n",
    "    KNeighborsClassifier(3),\n",
    "    SVC(kernel=\"rbf\", C=0.025, probability=True),\n",
    "    NuSVC(probability=True),\n",
    "    DecisionTreeClassifier(),\n",
    "    RandomForestClassifier(),\n",
    "    AdaBoostClassifier(),\n",
    "    GradientBoostingClassifier(),\n",
    "    xgb.XGBClassifier(),\n",
    "    LogisticRegression()\n",
    "]\n",
    "\n",
    "for classifier in classifiers:\n",
    "    pipe = Pipeline(steps=[('preprocessor', preprocessor),\n",
    "                          ('classifier', classifier)])\n",
    "    pipe.fit(X_train[features], y_train)   \n",
    "    print(classifier)\n",
    "    print(\"model score: %.3f\" % pipe.score(X_test, y_test))\n",
    "    "
   ]
  },
  {
   "cell_type": "markdown",
   "id": "2c6678c4",
   "metadata": {
    "execution": {
     "iopub.execute_input": "2022-05-16T09:21:56.16375Z",
     "iopub.status.busy": "2022-05-16T09:21:56.163469Z",
     "iopub.status.idle": "2022-05-16T09:21:56.168094Z",
     "shell.execute_reply": "2022-05-16T09:21:56.167246Z",
     "shell.execute_reply.started": "2022-05-16T09:21:56.163723Z"
    },
    "papermill": {
     "duration": 0.135116,
     "end_time": "2022-05-17T08:34:43.262897",
     "exception": false,
     "start_time": "2022-05-17T08:34:43.127781",
     "status": "completed"
    },
    "tags": []
   },
   "source": [
    "# Grid searching best model"
   ]
  },
  {
   "cell_type": "code",
   "execution_count": 69,
   "id": "023d7b4f",
   "metadata": {
    "execution": {
     "iopub.execute_input": "2022-05-17T08:34:43.542611Z",
     "iopub.status.busy": "2022-05-17T08:34:43.541985Z",
     "iopub.status.idle": "2022-05-17T08:34:43.544082Z",
     "shell.execute_reply": "2022-05-17T08:34:43.543503Z",
     "shell.execute_reply.started": "2022-05-17T08:27:26.752296Z"
    },
    "papermill": {
     "duration": 0.144458,
     "end_time": "2022-05-17T08:34:43.544219",
     "exception": false,
     "start_time": "2022-05-17T08:34:43.399761",
     "status": "completed"
    },
    "tags": []
   },
   "outputs": [],
   "source": [
    "# Random Forest\n",
    "forest_pipeline = Pipeline(steps=[('preprocessor', preprocessor),\n",
    "                      ('rfe', RFE(estimator=DecisionTreeClassifier(), n_features_to_select=7)),\n",
    "                      ('classifier', RandomForestClassifier())])"
   ]
  },
  {
   "cell_type": "code",
   "execution_count": 70,
   "id": "4f7a711b",
   "metadata": {
    "execution": {
     "iopub.execute_input": "2022-05-17T08:34:43.822485Z",
     "iopub.status.busy": "2022-05-17T08:34:43.821428Z",
     "iopub.status.idle": "2022-05-17T08:34:43.823488Z",
     "shell.execute_reply": "2022-05-17T08:34:43.824205Z",
     "shell.execute_reply.started": "2022-05-17T08:27:26.761725Z"
    },
    "papermill": {
     "duration": 0.147855,
     "end_time": "2022-05-17T08:34:43.824404",
     "exception": false,
     "start_time": "2022-05-17T08:34:43.676549",
     "status": "completed"
    },
    "tags": []
   },
   "outputs": [],
   "source": [
    "# Number of trees in random forest\n",
    "n_estimators = [150,250,350,500]\n",
    "# Number of features to consider at every split\n",
    "max_features = ['sqrt', 'log2']\n",
    "# Maximum number of levels in tree\n",
    "max_depth = [4,5,6,7,8]\n",
    "max_depth.append(None)\n",
    "# Minimum number of samples required to split a node\n",
    "min_samples_split = [2, 5, 10]\n",
    "# Minimum number of samples required at each leaf node\n",
    "min_samples_leaf = [1, 2, 4]\n",
    "\n",
    "# Create the random grid\n",
    "param_grid = {\n",
    "                 \"preprocessor__num__imputer__strategy\": [\"median\"],\n",
    "                 #'preprocessor__num__skb__k' : [5,7,9,11,13],\n",
    "                 \"preprocessor__cat__imputer__strategy\": [\"constant\"],\n",
    "                 #'preprocessor__cat__skb__k' : [5,7,9,11,13],\n",
    "                  'classifier__n_estimators': n_estimators,\n",
    "                 'classifier__max_features': max_features,\n",
    "                 #'classifier__max_depth': max_depth,\n",
    "                 #'classifier__min_samples_split': min_samples_split,\n",
    "                 #'classifier__min_samples_leaf': min_samples_leaf,\n",
    "                 'classifier__criterion': ['gini', 'entropy']\n",
    "             }"
   ]
  },
  {
   "cell_type": "code",
   "execution_count": 71,
   "id": "e048b065",
   "metadata": {
    "execution": {
     "iopub.execute_input": "2022-05-17T08:34:44.233741Z",
     "iopub.status.busy": "2022-05-17T08:34:44.229669Z",
     "iopub.status.idle": "2022-05-17T08:36:55.467129Z",
     "shell.execute_reply": "2022-05-17T08:36:55.467655Z",
     "shell.execute_reply.started": "2022-05-17T08:27:26.777368Z"
    },
    "papermill": {
     "duration": 131.441989,
     "end_time": "2022-05-17T08:36:55.467841",
     "exception": false,
     "start_time": "2022-05-17T08:34:44.025852",
     "status": "completed"
    },
    "tags": []
   },
   "outputs": [
    {
     "name": "stdout",
     "output_type": "stream",
     "text": [
      "Fitting 5 folds for each of 10 candidates, totalling 50 fits\n"
     ]
    },
    {
     "data": {
      "text/plain": [
       "RandomizedSearchCV(cv=5,\n",
       "                   estimator=Pipeline(steps=[('preprocessor',\n",
       "                                              ColumnTransformer(remainder='passthrough',\n",
       "                                                                transformers=[('num',\n",
       "                                                                               Pipeline(steps=[('imputer',\n",
       "                                                                                                SimpleImputer(strategy='median')),\n",
       "                                                                                               ('scaler',\n",
       "                                                                                                StandardScaler())]),\n",
       "                                                                               Index(['Age', 'RoomService', 'Spa', 'FoodCourt', 'VRDeck', 'isChild', 'VIP',\n",
       "       'CryoSleep'],\n",
       "      dtype='object')),\n",
       "                                                                              ('cat',\n",
       "                                                                               Pipeline(steps=[('imput...\n",
       "                                              RFE(estimator=DecisionTreeClassifier(),\n",
       "                                                  n_features_to_select=7)),\n",
       "                                             ('classifier',\n",
       "                                              RandomForestClassifier())]),\n",
       "                   param_distributions={'classifier__criterion': ['gini',\n",
       "                                                                  'entropy'],\n",
       "                                        'classifier__max_features': ['sqrt',\n",
       "                                                                     'log2'],\n",
       "                                        'classifier__n_estimators': [150, 250,\n",
       "                                                                     350, 500],\n",
       "                                        'preprocessor__cat__imputer__strategy': ['constant'],\n",
       "                                        'preprocessor__num__imputer__strategy': ['median']},\n",
       "                   verbose=1)"
      ]
     },
     "execution_count": 71,
     "metadata": {},
     "output_type": "execute_result"
    }
   ],
   "source": [
    "forest_grid_search = RandomizedSearchCV(forest_pipeline, param_grid, cv=5, n_iter=10, verbose=1)\n",
    "\n",
    "# fine-tune the hyperparameters\n",
    "forest_grid_search.fit(X_train[features], y_train)"
   ]
  },
  {
   "cell_type": "code",
   "execution_count": 72,
   "id": "f769b5ee",
   "metadata": {
    "execution": {
     "iopub.execute_input": "2022-05-17T08:36:55.795915Z",
     "iopub.status.busy": "2022-05-17T08:36:55.769644Z",
     "iopub.status.idle": "2022-05-17T08:36:55.969262Z",
     "shell.execute_reply": "2022-05-17T08:36:55.968630Z",
     "shell.execute_reply.started": "2022-05-17T08:29:22.756624Z"
    },
    "papermill": {
     "duration": 0.361427,
     "end_time": "2022-05-17T08:36:55.969410",
     "exception": false,
     "start_time": "2022-05-17T08:36:55.607983",
     "status": "completed"
    },
    "tags": []
   },
   "outputs": [
    {
     "data": {
      "text/html": [
       "<style>#sk-eeae7fb4-9433-4f13-bc3c-e5671e8cf873 {color: black;background-color: white;}#sk-eeae7fb4-9433-4f13-bc3c-e5671e8cf873 pre{padding: 0;}#sk-eeae7fb4-9433-4f13-bc3c-e5671e8cf873 div.sk-toggleable {background-color: white;}#sk-eeae7fb4-9433-4f13-bc3c-e5671e8cf873 label.sk-toggleable__label {cursor: pointer;display: block;width: 100%;margin-bottom: 0;padding: 0.3em;box-sizing: border-box;text-align: center;}#sk-eeae7fb4-9433-4f13-bc3c-e5671e8cf873 div.sk-toggleable__content {max-height: 0;max-width: 0;overflow: hidden;text-align: left;background-color: #f0f8ff;}#sk-eeae7fb4-9433-4f13-bc3c-e5671e8cf873 div.sk-toggleable__content pre {margin: 0.2em;color: black;border-radius: 0.25em;background-color: #f0f8ff;}#sk-eeae7fb4-9433-4f13-bc3c-e5671e8cf873 input.sk-toggleable__control:checked~div.sk-toggleable__content {max-height: 200px;max-width: 100%;overflow: auto;}#sk-eeae7fb4-9433-4f13-bc3c-e5671e8cf873 div.sk-estimator input.sk-toggleable__control:checked~label.sk-toggleable__label {background-color: #d4ebff;}#sk-eeae7fb4-9433-4f13-bc3c-e5671e8cf873 div.sk-label input.sk-toggleable__control:checked~label.sk-toggleable__label {background-color: #d4ebff;}#sk-eeae7fb4-9433-4f13-bc3c-e5671e8cf873 input.sk-hidden--visually {border: 0;clip: rect(1px 1px 1px 1px);clip: rect(1px, 1px, 1px, 1px);height: 1px;margin: -1px;overflow: hidden;padding: 0;position: absolute;width: 1px;}#sk-eeae7fb4-9433-4f13-bc3c-e5671e8cf873 div.sk-estimator {font-family: monospace;background-color: #f0f8ff;border: 1px dotted black;border-radius: 0.25em;box-sizing: border-box;margin-bottom: 0.5em;}#sk-eeae7fb4-9433-4f13-bc3c-e5671e8cf873 div.sk-estimator:hover {background-color: #d4ebff;}#sk-eeae7fb4-9433-4f13-bc3c-e5671e8cf873 div.sk-parallel-item::after {content: \"\";width: 100%;border-bottom: 1px solid gray;flex-grow: 1;}#sk-eeae7fb4-9433-4f13-bc3c-e5671e8cf873 div.sk-label:hover label.sk-toggleable__label {background-color: #d4ebff;}#sk-eeae7fb4-9433-4f13-bc3c-e5671e8cf873 div.sk-serial::before {content: \"\";position: absolute;border-left: 1px solid gray;box-sizing: border-box;top: 2em;bottom: 0;left: 50%;}#sk-eeae7fb4-9433-4f13-bc3c-e5671e8cf873 div.sk-serial {display: flex;flex-direction: column;align-items: center;background-color: white;padding-right: 0.2em;padding-left: 0.2em;}#sk-eeae7fb4-9433-4f13-bc3c-e5671e8cf873 div.sk-item {z-index: 1;}#sk-eeae7fb4-9433-4f13-bc3c-e5671e8cf873 div.sk-parallel {display: flex;align-items: stretch;justify-content: center;background-color: white;}#sk-eeae7fb4-9433-4f13-bc3c-e5671e8cf873 div.sk-parallel::before {content: \"\";position: absolute;border-left: 1px solid gray;box-sizing: border-box;top: 2em;bottom: 0;left: 50%;}#sk-eeae7fb4-9433-4f13-bc3c-e5671e8cf873 div.sk-parallel-item {display: flex;flex-direction: column;position: relative;background-color: white;}#sk-eeae7fb4-9433-4f13-bc3c-e5671e8cf873 div.sk-parallel-item:first-child::after {align-self: flex-end;width: 50%;}#sk-eeae7fb4-9433-4f13-bc3c-e5671e8cf873 div.sk-parallel-item:last-child::after {align-self: flex-start;width: 50%;}#sk-eeae7fb4-9433-4f13-bc3c-e5671e8cf873 div.sk-parallel-item:only-child::after {width: 0;}#sk-eeae7fb4-9433-4f13-bc3c-e5671e8cf873 div.sk-dashed-wrapped {border: 1px dashed gray;margin: 0 0.4em 0.5em 0.4em;box-sizing: border-box;padding-bottom: 0.4em;background-color: white;position: relative;}#sk-eeae7fb4-9433-4f13-bc3c-e5671e8cf873 div.sk-label label {font-family: monospace;font-weight: bold;background-color: white;display: inline-block;line-height: 1.2em;}#sk-eeae7fb4-9433-4f13-bc3c-e5671e8cf873 div.sk-label-container {position: relative;z-index: 2;text-align: center;}#sk-eeae7fb4-9433-4f13-bc3c-e5671e8cf873 div.sk-container {display: inline-block;position: relative;}</style><div id=\"sk-eeae7fb4-9433-4f13-bc3c-e5671e8cf873\" class\"sk-top-container\"><div class=\"sk-container\"><div class=\"sk-item sk-dashed-wrapped\"><div class=\"sk-label-container\"><div class=\"sk-label sk-toggleable\"><input class=\"sk-toggleable__control sk-hidden--visually\" id=\"1e5f1cf2-3db4-4b6e-9388-13e22230d44f\" type=\"checkbox\" ><label class=\"sk-toggleable__label\" for=\"1e5f1cf2-3db4-4b6e-9388-13e22230d44f\">RandomizedSearchCV</label><div class=\"sk-toggleable__content\"><pre>RandomizedSearchCV(cv=5,\n",
       "                   estimator=Pipeline(steps=[('preprocessor',\n",
       "                                              ColumnTransformer(remainder='passthrough',\n",
       "                                                                transformers=[('num',\n",
       "                                                                               Pipeline(steps=[('imputer',\n",
       "                                                                                                SimpleImputer(strategy='median')),\n",
       "                                                                                               ('scaler',\n",
       "                                                                                                StandardScaler())]),\n",
       "                                                                               Index(['Age', 'RoomService', 'Spa', 'FoodCourt', 'VRDeck', 'isChild', 'VIP',\n",
       "       'CryoSleep'],\n",
       "      dtype='object')),\n",
       "                                                                              ('cat',\n",
       "                                                                               Pipeline(steps=[('imput...\n",
       "                                              RFE(estimator=DecisionTreeClassifier(),\n",
       "                                                  n_features_to_select=7)),\n",
       "                                             ('classifier',\n",
       "                                              RandomForestClassifier())]),\n",
       "                   param_distributions={'classifier__criterion': ['gini',\n",
       "                                                                  'entropy'],\n",
       "                                        'classifier__max_features': ['sqrt',\n",
       "                                                                     'log2'],\n",
       "                                        'classifier__n_estimators': [150, 250,\n",
       "                                                                     350, 500],\n",
       "                                        'preprocessor__cat__imputer__strategy': ['constant'],\n",
       "                                        'preprocessor__num__imputer__strategy': ['median']},\n",
       "                   verbose=1)</pre></div></div></div><div class=\"sk-parallel\"><div class=\"sk-parallel-item\"><div class=\"sk-item\"><div class=\"sk-serial\"><div class=\"sk-item\"><div class=\"sk-serial\"><div class=\"sk-item sk-dashed-wrapped\"><div class=\"sk-label-container\"><div class=\"sk-label sk-toggleable\"><input class=\"sk-toggleable__control sk-hidden--visually\" id=\"1451fae8-cb05-472f-97d9-060a4f194ef6\" type=\"checkbox\" ><label class=\"sk-toggleable__label\" for=\"1451fae8-cb05-472f-97d9-060a4f194ef6\">preprocessor: ColumnTransformer</label><div class=\"sk-toggleable__content\"><pre>ColumnTransformer(remainder='passthrough',\n",
       "                  transformers=[('num',\n",
       "                                 Pipeline(steps=[('imputer',\n",
       "                                                  SimpleImputer(strategy='median')),\n",
       "                                                 ('scaler', StandardScaler())]),\n",
       "                                 Index(['Age', 'RoomService', 'Spa', 'FoodCourt', 'VRDeck', 'isChild', 'VIP',\n",
       "       'CryoSleep'],\n",
       "      dtype='object')),\n",
       "                                ('cat',\n",
       "                                 Pipeline(steps=[('imputer',\n",
       "                                                  SimpleImputer(strategy='constant')),\n",
       "                                                 ('onehot',\n",
       "                                                  OneHotEncoder(handle_unknown='ignore'))]),\n",
       "                                 Index(['Destination'], dtype='object'))])</pre></div></div></div><div class=\"sk-parallel\"><div class=\"sk-parallel-item\"><div class=\"sk-item\"><div class=\"sk-label-container\"><div class=\"sk-label sk-toggleable\"><input class=\"sk-toggleable__control sk-hidden--visually\" id=\"9df65193-1705-42ff-a3ea-bad5ee955134\" type=\"checkbox\" ><label class=\"sk-toggleable__label\" for=\"9df65193-1705-42ff-a3ea-bad5ee955134\">num</label><div class=\"sk-toggleable__content\"><pre>Index(['Age', 'RoomService', 'Spa', 'FoodCourt', 'VRDeck', 'isChild', 'VIP',\n",
       "       'CryoSleep'],\n",
       "      dtype='object')</pre></div></div></div><div class=\"sk-serial\"><div class=\"sk-item\"><div class=\"sk-serial\"><div class=\"sk-item\"><div class=\"sk-estimator sk-toggleable\"><input class=\"sk-toggleable__control sk-hidden--visually\" id=\"f3c839d9-cca7-4dce-adc6-196ac697fbde\" type=\"checkbox\" ><label class=\"sk-toggleable__label\" for=\"f3c839d9-cca7-4dce-adc6-196ac697fbde\">SimpleImputer</label><div class=\"sk-toggleable__content\"><pre>SimpleImputer(strategy='median')</pre></div></div></div><div class=\"sk-item\"><div class=\"sk-estimator sk-toggleable\"><input class=\"sk-toggleable__control sk-hidden--visually\" id=\"8ce86c79-acdd-412f-95d8-e67b69838143\" type=\"checkbox\" ><label class=\"sk-toggleable__label\" for=\"8ce86c79-acdd-412f-95d8-e67b69838143\">StandardScaler</label><div class=\"sk-toggleable__content\"><pre>StandardScaler()</pre></div></div></div></div></div></div></div></div><div class=\"sk-parallel-item\"><div class=\"sk-item\"><div class=\"sk-label-container\"><div class=\"sk-label sk-toggleable\"><input class=\"sk-toggleable__control sk-hidden--visually\" id=\"62b3244e-d57d-43ea-b73f-ff2bfa8afb42\" type=\"checkbox\" ><label class=\"sk-toggleable__label\" for=\"62b3244e-d57d-43ea-b73f-ff2bfa8afb42\">cat</label><div class=\"sk-toggleable__content\"><pre>Index(['Destination'], dtype='object')</pre></div></div></div><div class=\"sk-serial\"><div class=\"sk-item\"><div class=\"sk-serial\"><div class=\"sk-item\"><div class=\"sk-estimator sk-toggleable\"><input class=\"sk-toggleable__control sk-hidden--visually\" id=\"2e02c03f-82d3-4cc4-a732-520f38dd96be\" type=\"checkbox\" ><label class=\"sk-toggleable__label\" for=\"2e02c03f-82d3-4cc4-a732-520f38dd96be\">SimpleImputer</label><div class=\"sk-toggleable__content\"><pre>SimpleImputer(strategy='constant')</pre></div></div></div><div class=\"sk-item\"><div class=\"sk-estimator sk-toggleable\"><input class=\"sk-toggleable__control sk-hidden--visually\" id=\"1d3af6bf-76fb-4dc9-8987-12d0673e9e91\" type=\"checkbox\" ><label class=\"sk-toggleable__label\" for=\"1d3af6bf-76fb-4dc9-8987-12d0673e9e91\">OneHotEncoder</label><div class=\"sk-toggleable__content\"><pre>OneHotEncoder(handle_unknown='ignore')</pre></div></div></div></div></div></div></div></div><div class=\"sk-parallel-item\"><div class=\"sk-item\"><div class=\"sk-label-container\"><div class=\"sk-label sk-toggleable\"><input class=\"sk-toggleable__control sk-hidden--visually\" id=\"7c50fbf1-d83f-4a35-a6eb-7f5529ddc5a9\" type=\"checkbox\" ><label class=\"sk-toggleable__label\" for=\"7c50fbf1-d83f-4a35-a6eb-7f5529ddc5a9\">remainder</label><div class=\"sk-toggleable__content\"><pre>[]</pre></div></div></div><div class=\"sk-serial\"><div class=\"sk-item\"><div class=\"sk-estimator sk-toggleable\"><input class=\"sk-toggleable__control sk-hidden--visually\" id=\"7e9596b6-f5b3-4fca-9a78-deaaf27c7301\" type=\"checkbox\" ><label class=\"sk-toggleable__label\" for=\"7e9596b6-f5b3-4fca-9a78-deaaf27c7301\">passthrough</label><div class=\"sk-toggleable__content\"><pre>passthrough</pre></div></div></div></div></div></div></div></div><div class=\"sk-item sk-dashed-wrapped\"><div class=\"sk-label-container\"><div class=\"sk-label sk-toggleable\"><input class=\"sk-toggleable__control sk-hidden--visually\" id=\"b22745b1-91e2-43e7-a1d5-af17bd1f543a\" type=\"checkbox\" ><label class=\"sk-toggleable__label\" for=\"b22745b1-91e2-43e7-a1d5-af17bd1f543a\">rfe: RFE</label><div class=\"sk-toggleable__content\"><pre>RFE(estimator=DecisionTreeClassifier(), n_features_to_select=7)</pre></div></div></div><div class=\"sk-parallel\"><div class=\"sk-parallel-item\"><div class=\"sk-item\"><div class=\"sk-serial\"><div class=\"sk-item\"><div class=\"sk-estimator sk-toggleable\"><input class=\"sk-toggleable__control sk-hidden--visually\" id=\"bbc953b1-47ae-4788-a90f-5d717d6cda17\" type=\"checkbox\" ><label class=\"sk-toggleable__label\" for=\"bbc953b1-47ae-4788-a90f-5d717d6cda17\">DecisionTreeClassifier</label><div class=\"sk-toggleable__content\"><pre>DecisionTreeClassifier()</pre></div></div></div></div></div></div></div></div><div class=\"sk-item\"><div class=\"sk-estimator sk-toggleable\"><input class=\"sk-toggleable__control sk-hidden--visually\" id=\"1bcbef97-4a98-4802-b470-8b0fab2ecd54\" type=\"checkbox\" ><label class=\"sk-toggleable__label\" for=\"1bcbef97-4a98-4802-b470-8b0fab2ecd54\">RandomForestClassifier</label><div class=\"sk-toggleable__content\"><pre>RandomForestClassifier()</pre></div></div></div></div></div></div></div></div></div></div></div></div>"
      ],
      "text/plain": [
       "RandomizedSearchCV(cv=5,\n",
       "                   estimator=Pipeline(steps=[('preprocessor',\n",
       "                                              ColumnTransformer(remainder='passthrough',\n",
       "                                                                transformers=[('num',\n",
       "                                                                               Pipeline(steps=[('imputer',\n",
       "                                                                                                SimpleImputer(strategy='median')),\n",
       "                                                                                               ('scaler',\n",
       "                                                                                                StandardScaler())]),\n",
       "                                                                               Index(['Age', 'RoomService', 'Spa', 'FoodCourt', 'VRDeck', 'isChild', 'VIP',\n",
       "       'CryoSleep'],\n",
       "      dtype='object')),\n",
       "                                                                              ('cat',\n",
       "                                                                               Pipeline(steps=[('imput...\n",
       "                                              RFE(estimator=DecisionTreeClassifier(),\n",
       "                                                  n_features_to_select=7)),\n",
       "                                             ('classifier',\n",
       "                                              RandomForestClassifier())]),\n",
       "                   param_distributions={'classifier__criterion': ['gini',\n",
       "                                                                  'entropy'],\n",
       "                                        'classifier__max_features': ['sqrt',\n",
       "                                                                     'log2'],\n",
       "                                        'classifier__n_estimators': [150, 250,\n",
       "                                                                     350, 500],\n",
       "                                        'preprocessor__cat__imputer__strategy': ['constant'],\n",
       "                                        'preprocessor__num__imputer__strategy': ['median']},\n",
       "                   verbose=1)"
      ]
     },
     "execution_count": 72,
     "metadata": {},
     "output_type": "execute_result"
    }
   ],
   "source": [
    "from sklearn import set_config\n",
    "\n",
    "set_config(display='diagram')\n",
    "forest_grid_search"
   ]
  },
  {
   "cell_type": "code",
   "execution_count": 73,
   "id": "5bacd0be",
   "metadata": {
    "execution": {
     "iopub.execute_input": "2022-05-17T08:36:56.255229Z",
     "iopub.status.busy": "2022-05-17T08:36:56.254427Z",
     "iopub.status.idle": "2022-05-17T08:36:56.259269Z",
     "shell.execute_reply": "2022-05-17T08:36:56.260117Z",
     "shell.execute_reply.started": "2022-05-17T08:29:22.930937Z"
    },
    "papermill": {
     "duration": 0.143149,
     "end_time": "2022-05-17T08:36:56.260341",
     "exception": false,
     "start_time": "2022-05-17T08:36:56.117192",
     "status": "completed"
    },
    "tags": []
   },
   "outputs": [
    {
     "name": "stdout",
     "output_type": "stream",
     "text": [
      "Tuned Hyperparameters :(best parameters)  {'preprocessor__num__imputer__strategy': 'median', 'preprocessor__cat__imputer__strategy': 'constant', 'classifier__n_estimators': 500, 'classifier__max_features': 'sqrt', 'classifier__criterion': 'gini'}\n",
      "Best score : 0.7781895484229409\n"
     ]
    }
   ],
   "source": [
    "print(\"Tuned Hyperparameters :(best parameters) \",forest_grid_search.best_params_)\n",
    "print(\"Best score :\",forest_grid_search.best_score_)"
   ]
  },
  {
   "cell_type": "code",
   "execution_count": 74,
   "id": "19aa7298",
   "metadata": {
    "execution": {
     "iopub.execute_input": "2022-05-17T08:36:56.536007Z",
     "iopub.status.busy": "2022-05-17T08:36:56.535418Z",
     "iopub.status.idle": "2022-05-17T08:36:56.539609Z",
     "shell.execute_reply": "2022-05-17T08:36:56.539006Z",
     "shell.execute_reply.started": "2022-05-17T08:29:22.938467Z"
    },
    "papermill": {
     "duration": 0.146527,
     "end_time": "2022-05-17T08:36:56.539797",
     "exception": false,
     "start_time": "2022-05-17T08:36:56.393270",
     "status": "completed"
    },
    "tags": []
   },
   "outputs": [],
   "source": [
    "final_model_forest = forest_grid_search.best_estimator_"
   ]
  },
  {
   "cell_type": "code",
   "execution_count": 75,
   "id": "ea49c7fb",
   "metadata": {
    "execution": {
     "iopub.execute_input": "2022-05-17T08:36:56.815028Z",
     "iopub.status.busy": "2022-05-17T08:36:56.814323Z",
     "iopub.status.idle": "2022-05-17T08:36:56.819917Z",
     "shell.execute_reply": "2022-05-17T08:36:56.820338Z",
     "shell.execute_reply.started": "2022-05-17T08:29:22.952267Z"
    },
    "papermill": {
     "duration": 0.144848,
     "end_time": "2022-05-17T08:36:56.820487",
     "exception": false,
     "start_time": "2022-05-17T08:36:56.675639",
     "status": "completed"
    },
    "tags": []
   },
   "outputs": [
    {
     "data": {
      "text/html": [
       "<style>#sk-2bbbb411-8d75-4bda-8b67-fb2a3c7c80a9 {color: black;background-color: white;}#sk-2bbbb411-8d75-4bda-8b67-fb2a3c7c80a9 pre{padding: 0;}#sk-2bbbb411-8d75-4bda-8b67-fb2a3c7c80a9 div.sk-toggleable {background-color: white;}#sk-2bbbb411-8d75-4bda-8b67-fb2a3c7c80a9 label.sk-toggleable__label {cursor: pointer;display: block;width: 100%;margin-bottom: 0;padding: 0.3em;box-sizing: border-box;text-align: center;}#sk-2bbbb411-8d75-4bda-8b67-fb2a3c7c80a9 div.sk-toggleable__content {max-height: 0;max-width: 0;overflow: hidden;text-align: left;background-color: #f0f8ff;}#sk-2bbbb411-8d75-4bda-8b67-fb2a3c7c80a9 div.sk-toggleable__content pre {margin: 0.2em;color: black;border-radius: 0.25em;background-color: #f0f8ff;}#sk-2bbbb411-8d75-4bda-8b67-fb2a3c7c80a9 input.sk-toggleable__control:checked~div.sk-toggleable__content {max-height: 200px;max-width: 100%;overflow: auto;}#sk-2bbbb411-8d75-4bda-8b67-fb2a3c7c80a9 div.sk-estimator input.sk-toggleable__control:checked~label.sk-toggleable__label {background-color: #d4ebff;}#sk-2bbbb411-8d75-4bda-8b67-fb2a3c7c80a9 div.sk-label input.sk-toggleable__control:checked~label.sk-toggleable__label {background-color: #d4ebff;}#sk-2bbbb411-8d75-4bda-8b67-fb2a3c7c80a9 input.sk-hidden--visually {border: 0;clip: rect(1px 1px 1px 1px);clip: rect(1px, 1px, 1px, 1px);height: 1px;margin: -1px;overflow: hidden;padding: 0;position: absolute;width: 1px;}#sk-2bbbb411-8d75-4bda-8b67-fb2a3c7c80a9 div.sk-estimator {font-family: monospace;background-color: #f0f8ff;border: 1px dotted black;border-radius: 0.25em;box-sizing: border-box;margin-bottom: 0.5em;}#sk-2bbbb411-8d75-4bda-8b67-fb2a3c7c80a9 div.sk-estimator:hover {background-color: #d4ebff;}#sk-2bbbb411-8d75-4bda-8b67-fb2a3c7c80a9 div.sk-parallel-item::after {content: \"\";width: 100%;border-bottom: 1px solid gray;flex-grow: 1;}#sk-2bbbb411-8d75-4bda-8b67-fb2a3c7c80a9 div.sk-label:hover label.sk-toggleable__label {background-color: #d4ebff;}#sk-2bbbb411-8d75-4bda-8b67-fb2a3c7c80a9 div.sk-serial::before {content: \"\";position: absolute;border-left: 1px solid gray;box-sizing: border-box;top: 2em;bottom: 0;left: 50%;}#sk-2bbbb411-8d75-4bda-8b67-fb2a3c7c80a9 div.sk-serial {display: flex;flex-direction: column;align-items: center;background-color: white;padding-right: 0.2em;padding-left: 0.2em;}#sk-2bbbb411-8d75-4bda-8b67-fb2a3c7c80a9 div.sk-item {z-index: 1;}#sk-2bbbb411-8d75-4bda-8b67-fb2a3c7c80a9 div.sk-parallel {display: flex;align-items: stretch;justify-content: center;background-color: white;}#sk-2bbbb411-8d75-4bda-8b67-fb2a3c7c80a9 div.sk-parallel::before {content: \"\";position: absolute;border-left: 1px solid gray;box-sizing: border-box;top: 2em;bottom: 0;left: 50%;}#sk-2bbbb411-8d75-4bda-8b67-fb2a3c7c80a9 div.sk-parallel-item {display: flex;flex-direction: column;position: relative;background-color: white;}#sk-2bbbb411-8d75-4bda-8b67-fb2a3c7c80a9 div.sk-parallel-item:first-child::after {align-self: flex-end;width: 50%;}#sk-2bbbb411-8d75-4bda-8b67-fb2a3c7c80a9 div.sk-parallel-item:last-child::after {align-self: flex-start;width: 50%;}#sk-2bbbb411-8d75-4bda-8b67-fb2a3c7c80a9 div.sk-parallel-item:only-child::after {width: 0;}#sk-2bbbb411-8d75-4bda-8b67-fb2a3c7c80a9 div.sk-dashed-wrapped {border: 1px dashed gray;margin: 0 0.4em 0.5em 0.4em;box-sizing: border-box;padding-bottom: 0.4em;background-color: white;position: relative;}#sk-2bbbb411-8d75-4bda-8b67-fb2a3c7c80a9 div.sk-label label {font-family: monospace;font-weight: bold;background-color: white;display: inline-block;line-height: 1.2em;}#sk-2bbbb411-8d75-4bda-8b67-fb2a3c7c80a9 div.sk-label-container {position: relative;z-index: 2;text-align: center;}#sk-2bbbb411-8d75-4bda-8b67-fb2a3c7c80a9 div.sk-container {display: inline-block;position: relative;}</style><div id=\"sk-2bbbb411-8d75-4bda-8b67-fb2a3c7c80a9\" class\"sk-top-container\"><div class=\"sk-container\"><div class=\"sk-item\"><div class=\"sk-estimator sk-toggleable\"><input class=\"sk-toggleable__control sk-hidden--visually\" id=\"3b3e6c18-fa54-4296-9bc7-70efd05306ed\" type=\"checkbox\" checked><label class=\"sk-toggleable__label\" for=\"3b3e6c18-fa54-4296-9bc7-70efd05306ed\">OneHotEncoder</label><div class=\"sk-toggleable__content\"><pre>OneHotEncoder(handle_unknown='ignore')</pre></div></div></div></div></div>"
      ],
      "text/plain": [
       "OneHotEncoder(handle_unknown='ignore')"
      ]
     },
     "execution_count": 75,
     "metadata": {},
     "output_type": "execute_result"
    }
   ],
   "source": [
    "final_model_forest.named_steps['preprocessor'].named_transformers_['cat'].named_steps['onehot']"
   ]
  },
  {
   "cell_type": "code",
   "execution_count": 76,
   "id": "4a25ae6a",
   "metadata": {
    "execution": {
     "iopub.execute_input": "2022-05-17T08:36:57.099056Z",
     "iopub.status.busy": "2022-05-17T08:36:57.098266Z",
     "iopub.status.idle": "2022-05-17T08:36:57.155311Z",
     "shell.execute_reply": "2022-05-17T08:36:57.155690Z",
     "shell.execute_reply.started": "2022-05-17T08:29:22.968780Z"
    },
    "papermill": {
     "duration": 0.197931,
     "end_time": "2022-05-17T08:36:57.155882",
     "exception": false,
     "start_time": "2022-05-17T08:36:56.957951",
     "status": "completed"
    },
    "tags": []
   },
   "outputs": [
    {
     "data": {
      "text/plain": [
       "array([0.16052951, 0.18889012, 0.17359298, 0.15309511, 0.16379248,\n",
       "       0.14255548, 0.01754432])"
      ]
     },
     "execution_count": 76,
     "metadata": {},
     "output_type": "execute_result"
    }
   ],
   "source": [
    "final_model_forest.named_steps['classifier'].feature_importances_"
   ]
  },
  {
   "cell_type": "code",
   "execution_count": 77,
   "id": "0c2332a1",
   "metadata": {
    "execution": {
     "iopub.execute_input": "2022-05-17T08:36:57.440818Z",
     "iopub.status.busy": "2022-05-17T08:36:57.440062Z",
     "iopub.status.idle": "2022-05-17T08:36:57.662789Z",
     "shell.execute_reply": "2022-05-17T08:36:57.663215Z",
     "shell.execute_reply.started": "2022-05-17T08:29:23.038012Z"
    },
    "papermill": {
     "duration": 0.364789,
     "end_time": "2022-05-17T08:36:57.663368",
     "exception": false,
     "start_time": "2022-05-17T08:36:57.298579",
     "status": "completed"
    },
    "tags": []
   },
   "outputs": [
    {
     "data": {
      "text/plain": [
       "0.7718491260349586"
      ]
     },
     "execution_count": 77,
     "metadata": {},
     "output_type": "execute_result"
    }
   ],
   "source": [
    "final_model_forest.score(X_test.loc[:, features], y_test)"
   ]
  },
  {
   "cell_type": "code",
   "execution_count": 78,
   "id": "8cd000dc",
   "metadata": {
    "execution": {
     "iopub.execute_input": "2022-05-17T08:36:57.939151Z",
     "iopub.status.busy": "2022-05-17T08:36:57.938432Z",
     "iopub.status.idle": "2022-05-17T08:36:58.161021Z",
     "shell.execute_reply": "2022-05-17T08:36:58.161659Z",
     "shell.execute_reply.started": "2022-05-17T08:29:23.318458Z"
    },
    "papermill": {
     "duration": 0.362701,
     "end_time": "2022-05-17T08:36:58.161860",
     "exception": false,
     "start_time": "2022-05-17T08:36:57.799159",
     "status": "completed"
    },
    "tags": []
   },
   "outputs": [],
   "source": [
    "preds = final_model_forest.predict(X_test[features])"
   ]
  },
  {
   "cell_type": "code",
   "execution_count": 79,
   "id": "cc134d18",
   "metadata": {
    "execution": {
     "iopub.execute_input": "2022-05-17T08:36:58.439663Z",
     "iopub.status.busy": "2022-05-17T08:36:58.439015Z",
     "iopub.status.idle": "2022-05-17T08:36:58.447363Z",
     "shell.execute_reply": "2022-05-17T08:36:58.448225Z",
     "shell.execute_reply.started": "2022-05-17T08:29:23.593819Z"
    },
    "papermill": {
     "duration": 0.148914,
     "end_time": "2022-05-17T08:36:58.448398",
     "exception": false,
     "start_time": "2022-05-17T08:36:58.299484",
     "status": "completed"
    },
    "tags": []
   },
   "outputs": [
    {
     "name": "stdout",
     "output_type": "stream",
     "text": [
      "0.7718491260349586\n",
      "0.8001808318264014\n",
      "[[793 275]\n",
      " [221 885]]\n"
     ]
    }
   ],
   "source": [
    "print(accuracy_score(y_test,preds))\n",
    "print(recall_score(y_test,preds))\n",
    "print(confusion_matrix(y_test,preds))"
   ]
  },
  {
   "cell_type": "code",
   "execution_count": 80,
   "id": "cde52712",
   "metadata": {
    "execution": {
     "iopub.execute_input": "2022-05-17T08:36:58.721264Z",
     "iopub.status.busy": "2022-05-17T08:36:58.720492Z",
     "iopub.status.idle": "2022-05-17T08:37:05.105840Z",
     "shell.execute_reply": "2022-05-17T08:37:05.106248Z",
     "shell.execute_reply.started": "2022-05-17T08:29:23.607113Z"
    },
    "papermill": {
     "duration": 6.523854,
     "end_time": "2022-05-17T08:37:05.106393",
     "exception": false,
     "start_time": "2022-05-17T08:36:58.582539",
     "status": "completed"
    },
    "tags": []
   },
   "outputs": [
    {
     "name": "stdout",
     "output_type": "stream",
     "text": [
      "0.77 accuracy with a standard deviation of 0.01\n"
     ]
    }
   ],
   "source": [
    "from sklearn.model_selection import cross_val_score\n",
    "\n",
    "scores = cross_val_score(final_model_forest, X_test[features], y_test, cv=5)\n",
    "print(\"%0.2f accuracy with a standard deviation of %0.2f\" % (scores.mean(), scores.std()))"
   ]
  },
  {
   "cell_type": "code",
   "execution_count": 81,
   "id": "744c9235",
   "metadata": {
    "execution": {
     "iopub.execute_input": "2022-05-17T08:37:05.380625Z",
     "iopub.status.busy": "2022-05-17T08:37:05.379943Z",
     "iopub.status.idle": "2022-05-17T08:37:05.597708Z",
     "shell.execute_reply": "2022-05-17T08:37:05.598242Z",
     "shell.execute_reply.started": "2022-05-17T08:29:32.224335Z"
    },
    "papermill": {
     "duration": 0.355812,
     "end_time": "2022-05-17T08:37:05.598402",
     "exception": false,
     "start_time": "2022-05-17T08:37:05.242590",
     "status": "completed"
    },
    "tags": []
   },
   "outputs": [
    {
     "data": {
      "text/plain": [
       "<AxesSubplot:>"
      ]
     },
     "execution_count": 81,
     "metadata": {},
     "output_type": "execute_result"
    },
    {
     "data": {
      "image/png": "[encoded data removed]",
      "text/plain": [
       "<Figure size 432x288 with 1 Axes>"
      ]
     },
     "metadata": {
      "needs_background": "light"
     },
     "output_type": "display_data"
    }
   ],
   "source": [
    "feats = {} # a dict to hold feature_name: feature_importance\n",
    "for feature, importance in zip(X_train[features].columns, final_model_forest.named_steps['classifier'].feature_importances_):\n",
    "    feats[feature] = importance #add the name/value pair \n",
    "\n",
    "importances = pd.DataFrame.from_dict(feats, orient='index').rename(columns={0: 'Gini-importance'})\n",
    "importances.sort_values(by='Gini-importance').plot(kind='bar', rot=45)"
   ]
  },
  {
   "cell_type": "markdown",
   "id": "4c69da92",
   "metadata": {
    "papermill": {
     "duration": 0.137883,
     "end_time": "2022-05-17T08:37:05.873533",
     "exception": false,
     "start_time": "2022-05-17T08:37:05.735650",
     "status": "completed"
    },
    "tags": []
   },
   "source": [
    "# Predictions"
   ]
  },
  {
   "cell_type": "code",
   "execution_count": 82,
   "id": "bdfd6b1d",
   "metadata": {
    "execution": {
     "iopub.execute_input": "2022-05-17T08:37:06.164329Z",
     "iopub.status.busy": "2022-05-17T08:37:06.154647Z",
     "iopub.status.idle": "2022-05-17T08:37:06.178523Z",
     "shell.execute_reply": "2022-05-17T08:37:06.178047Z",
     "shell.execute_reply.started": "2022-05-17T08:29:32.541160Z"
    },
    "papermill": {
     "duration": 0.169336,
     "end_time": "2022-05-17T08:37:06.178649",
     "exception": false,
     "start_time": "2022-05-17T08:37:06.009313",
     "status": "completed"
    },
    "tags": []
   },
   "outputs": [
    {
     "data": {
      "text/html": [
       "<div>\n",
       "<style scoped>\n",
       "    .dataframe tbody tr th:only-of-type {\n",
       "        vertical-align: middle;\n",
       "    }\n",
       "\n",
       "    .dataframe tbody tr th {\n",
       "        vertical-align: top;\n",
       "    }\n",
       "\n",
       "    .dataframe thead th {\n",
       "        text-align: right;\n",
       "    }\n",
       "</style>\n",
       "<table border=\"1\" class=\"dataframe\">\n",
       "  <thead>\n",
       "    <tr style=\"text-align: right;\">\n",
       "      <th></th>\n",
       "      <th>PassengerId</th>\n",
       "      <th>HomePlanet</th>\n",
       "      <th>CryoSleep</th>\n",
       "      <th>Cabin</th>\n",
       "      <th>Destination</th>\n",
       "      <th>Age</th>\n",
       "      <th>VIP</th>\n",
       "      <th>RoomService</th>\n",
       "      <th>FoodCourt</th>\n",
       "      <th>ShoppingMall</th>\n",
       "      <th>Spa</th>\n",
       "      <th>VRDeck</th>\n",
       "      <th>Name</th>\n",
       "      <th>isChild</th>\n",
       "    </tr>\n",
       "  </thead>\n",
       "  <tbody>\n",
       "    <tr>\n",
       "      <th>0</th>\n",
       "      <td>0013_01</td>\n",
       "      <td>Earth</td>\n",
       "      <td>True</td>\n",
       "      <td>G/3/S</td>\n",
       "      <td>TRAPPIST-1e</td>\n",
       "      <td>27.0</td>\n",
       "      <td>False</td>\n",
       "      <td>0.0</td>\n",
       "      <td>0.0</td>\n",
       "      <td>0.0</td>\n",
       "      <td>0.0</td>\n",
       "      <td>0.0</td>\n",
       "      <td>Nelly Carsoning</td>\n",
       "      <td>False</td>\n",
       "    </tr>\n",
       "    <tr>\n",
       "      <th>1</th>\n",
       "      <td>0018_01</td>\n",
       "      <td>Earth</td>\n",
       "      <td>False</td>\n",
       "      <td>F/4/S</td>\n",
       "      <td>TRAPPIST-1e</td>\n",
       "      <td>19.0</td>\n",
       "      <td>False</td>\n",
       "      <td>0.0</td>\n",
       "      <td>9.0</td>\n",
       "      <td>0.0</td>\n",
       "      <td>2823.0</td>\n",
       "      <td>0.0</td>\n",
       "      <td>Lerome Peckers</td>\n",
       "      <td>False</td>\n",
       "    </tr>\n",
       "    <tr>\n",
       "      <th>2</th>\n",
       "      <td>0019_01</td>\n",
       "      <td>Europa</td>\n",
       "      <td>True</td>\n",
       "      <td>C/0/S</td>\n",
       "      <td>55 Cancri e</td>\n",
       "      <td>31.0</td>\n",
       "      <td>False</td>\n",
       "      <td>0.0</td>\n",
       "      <td>0.0</td>\n",
       "      <td>0.0</td>\n",
       "      <td>0.0</td>\n",
       "      <td>0.0</td>\n",
       "      <td>Sabih Unhearfus</td>\n",
       "      <td>False</td>\n",
       "    </tr>\n",
       "    <tr>\n",
       "      <th>3</th>\n",
       "      <td>0021_01</td>\n",
       "      <td>Europa</td>\n",
       "      <td>False</td>\n",
       "      <td>C/1/S</td>\n",
       "      <td>TRAPPIST-1e</td>\n",
       "      <td>38.0</td>\n",
       "      <td>False</td>\n",
       "      <td>0.0</td>\n",
       "      <td>6652.0</td>\n",
       "      <td>0.0</td>\n",
       "      <td>181.0</td>\n",
       "      <td>585.0</td>\n",
       "      <td>Meratz Caltilter</td>\n",
       "      <td>False</td>\n",
       "    </tr>\n",
       "    <tr>\n",
       "      <th>4</th>\n",
       "      <td>0023_01</td>\n",
       "      <td>Earth</td>\n",
       "      <td>False</td>\n",
       "      <td>F/5/S</td>\n",
       "      <td>TRAPPIST-1e</td>\n",
       "      <td>20.0</td>\n",
       "      <td>False</td>\n",
       "      <td>10.0</td>\n",
       "      <td>0.0</td>\n",
       "      <td>635.0</td>\n",
       "      <td>0.0</td>\n",
       "      <td>0.0</td>\n",
       "      <td>Brence Harperez</td>\n",
       "      <td>False</td>\n",
       "    </tr>\n",
       "    <tr>\n",
       "      <th>...</th>\n",
       "      <td>...</td>\n",
       "      <td>...</td>\n",
       "      <td>...</td>\n",
       "      <td>...</td>\n",
       "      <td>...</td>\n",
       "      <td>...</td>\n",
       "      <td>...</td>\n",
       "      <td>...</td>\n",
       "      <td>...</td>\n",
       "      <td>...</td>\n",
       "      <td>...</td>\n",
       "      <td>...</td>\n",
       "      <td>...</td>\n",
       "      <td>...</td>\n",
       "    </tr>\n",
       "    <tr>\n",
       "      <th>4272</th>\n",
       "      <td>9266_02</td>\n",
       "      <td>Earth</td>\n",
       "      <td>True</td>\n",
       "      <td>G/1496/S</td>\n",
       "      <td>TRAPPIST-1e</td>\n",
       "      <td>34.0</td>\n",
       "      <td>False</td>\n",
       "      <td>0.0</td>\n",
       "      <td>0.0</td>\n",
       "      <td>0.0</td>\n",
       "      <td>0.0</td>\n",
       "      <td>0.0</td>\n",
       "      <td>Jeron Peter</td>\n",
       "      <td>False</td>\n",
       "    </tr>\n",
       "    <tr>\n",
       "      <th>4273</th>\n",
       "      <td>9269_01</td>\n",
       "      <td>Earth</td>\n",
       "      <td>False</td>\n",
       "      <td>NaN</td>\n",
       "      <td>TRAPPIST-1e</td>\n",
       "      <td>42.0</td>\n",
       "      <td>False</td>\n",
       "      <td>0.0</td>\n",
       "      <td>847.0</td>\n",
       "      <td>17.0</td>\n",
       "      <td>10.0</td>\n",
       "      <td>144.0</td>\n",
       "      <td>Matty Scheron</td>\n",
       "      <td>False</td>\n",
       "    </tr>\n",
       "    <tr>\n",
       "      <th>4274</th>\n",
       "      <td>9271_01</td>\n",
       "      <td>Mars</td>\n",
       "      <td>True</td>\n",
       "      <td>D/296/P</td>\n",
       "      <td>55 Cancri e</td>\n",
       "      <td>NaN</td>\n",
       "      <td>False</td>\n",
       "      <td>0.0</td>\n",
       "      <td>0.0</td>\n",
       "      <td>0.0</td>\n",
       "      <td>0.0</td>\n",
       "      <td>0.0</td>\n",
       "      <td>Jayrin Pore</td>\n",
       "      <td>False</td>\n",
       "    </tr>\n",
       "    <tr>\n",
       "      <th>4275</th>\n",
       "      <td>9273_01</td>\n",
       "      <td>Europa</td>\n",
       "      <td>False</td>\n",
       "      <td>D/297/P</td>\n",
       "      <td>NaN</td>\n",
       "      <td>NaN</td>\n",
       "      <td>False</td>\n",
       "      <td>0.0</td>\n",
       "      <td>2680.0</td>\n",
       "      <td>0.0</td>\n",
       "      <td>0.0</td>\n",
       "      <td>523.0</td>\n",
       "      <td>Kitakan Conale</td>\n",
       "      <td>False</td>\n",
       "    </tr>\n",
       "    <tr>\n",
       "      <th>4276</th>\n",
       "      <td>9277_01</td>\n",
       "      <td>Earth</td>\n",
       "      <td>True</td>\n",
       "      <td>G/1498/S</td>\n",
       "      <td>PSO J318.5-22</td>\n",
       "      <td>43.0</td>\n",
       "      <td>False</td>\n",
       "      <td>0.0</td>\n",
       "      <td>0.0</td>\n",
       "      <td>0.0</td>\n",
       "      <td>0.0</td>\n",
       "      <td>0.0</td>\n",
       "      <td>Lilace Leonzaley</td>\n",
       "      <td>False</td>\n",
       "    </tr>\n",
       "  </tbody>\n",
       "</table>\n",
       "<p>4277 rows × 14 columns</p>\n",
       "</div>"
      ],
      "text/plain": [
       "     PassengerId HomePlanet CryoSleep     Cabin    Destination   Age    VIP  \\\n",
       "0        0013_01      Earth      True     G/3/S    TRAPPIST-1e  27.0  False   \n",
       "1        0018_01      Earth     False     F/4/S    TRAPPIST-1e  19.0  False   \n",
       "2        0019_01     Europa      True     C/0/S    55 Cancri e  31.0  False   \n",
       "3        0021_01     Europa     False     C/1/S    TRAPPIST-1e  38.0  False   \n",
       "4        0023_01      Earth     False     F/5/S    TRAPPIST-1e  20.0  False   \n",
       "...          ...        ...       ...       ...            ...   ...    ...   \n",
       "4272     9266_02      Earth      True  G/1496/S    TRAPPIST-1e  34.0  False   \n",
       "4273     9269_01      Earth     False       NaN    TRAPPIST-1e  42.0  False   \n",
       "4274     9271_01       Mars      True   D/296/P    55 Cancri e   NaN  False   \n",
       "4275     9273_01     Europa     False   D/297/P            NaN   NaN  False   \n",
       "4276     9277_01      Earth      True  G/1498/S  PSO J318.5-22  43.0  False   \n",
       "\n",
       "      RoomService  FoodCourt  ShoppingMall     Spa  VRDeck              Name  \\\n",
       "0             0.0        0.0           0.0     0.0     0.0   Nelly Carsoning   \n",
       "1             0.0        9.0           0.0  2823.0     0.0    Lerome Peckers   \n",
       "2             0.0        0.0           0.0     0.0     0.0   Sabih Unhearfus   \n",
       "3             0.0     6652.0           0.0   181.0   585.0  Meratz Caltilter   \n",
       "4            10.0        0.0         635.0     0.0     0.0   Brence Harperez   \n",
       "...           ...        ...           ...     ...     ...               ...   \n",
       "4272          0.0        0.0           0.0     0.0     0.0       Jeron Peter   \n",
       "4273          0.0      847.0          17.0    10.0   144.0     Matty Scheron   \n",
       "4274          0.0        0.0           0.0     0.0     0.0       Jayrin Pore   \n",
       "4275          0.0     2680.0           0.0     0.0   523.0    Kitakan Conale   \n",
       "4276          0.0        0.0           0.0     0.0     0.0  Lilace Leonzaley   \n",
       "\n",
       "      isChild  \n",
       "0       False  \n",
       "1       False  \n",
       "2       False  \n",
       "3       False  \n",
       "4       False  \n",
       "...       ...  \n",
       "4272    False  \n",
       "4273    False  \n",
       "4274    False  \n",
       "4275    False  \n",
       "4276    False  \n",
       "\n",
       "[4277 rows x 14 columns]"
      ]
     },
     "execution_count": 82,
     "metadata": {},
     "output_type": "execute_result"
    }
   ],
   "source": [
    "df_validation"
   ]
  },
  {
   "cell_type": "code",
   "execution_count": 83,
   "id": "4414faba",
   "metadata": {
    "execution": {
     "iopub.execute_input": "2022-05-17T08:37:06.472104Z",
     "iopub.status.busy": "2022-05-17T08:37:06.471241Z",
     "iopub.status.idle": "2022-05-17T08:37:06.810911Z",
     "shell.execute_reply": "2022-05-17T08:37:06.811457Z",
     "shell.execute_reply.started": "2022-05-17T08:29:32.574444Z"
    },
    "papermill": {
     "duration": 0.496151,
     "end_time": "2022-05-17T08:37:06.811665",
     "exception": false,
     "start_time": "2022-05-17T08:37:06.315514",
     "status": "completed"
    },
    "tags": []
   },
   "outputs": [
    {
     "data": {
      "text/plain": [
       "4277"
      ]
     },
     "execution_count": 83,
     "metadata": {},
     "output_type": "execute_result"
    }
   ],
   "source": [
    "y_pred = final_model_forest.predict(df_validation[features])\n",
    "len(df_validation)\n",
    "len(y_pred)"
   ]
  },
  {
   "cell_type": "code",
   "execution_count": 84,
   "id": "5ad08862",
   "metadata": {
    "execution": {
     "iopub.execute_input": "2022-05-17T08:37:07.240608Z",
     "iopub.status.busy": "2022-05-17T08:37:07.239818Z",
     "iopub.status.idle": "2022-05-17T08:37:07.242702Z",
     "shell.execute_reply": "2022-05-17T08:37:07.243279Z",
     "shell.execute_reply.started": "2022-05-17T08:29:33.016799Z"
    },
    "papermill": {
     "duration": 0.217987,
     "end_time": "2022-05-17T08:37:07.243462",
     "exception": false,
     "start_time": "2022-05-17T08:37:07.025475",
     "status": "completed"
    },
    "tags": []
   },
   "outputs": [
    {
     "data": {
      "text/plain": [
       "array([1, 0, 1, ..., 1, 1, 1])"
      ]
     },
     "execution_count": 84,
     "metadata": {},
     "output_type": "execute_result"
    }
   ],
   "source": [
    "y_pred"
   ]
  },
  {
   "cell_type": "markdown",
   "id": "488ccb66",
   "metadata": {
    "papermill": {
     "duration": 0.21008,
     "end_time": "2022-05-17T08:37:07.663915",
     "exception": false,
     "start_time": "2022-05-17T08:37:07.453835",
     "status": "completed"
    },
    "tags": []
   },
   "source": [
    "# Create CSV"
   ]
  },
  {
   "cell_type": "code",
   "execution_count": 85,
   "id": "c87cbdc1",
   "metadata": {
    "execution": {
     "iopub.execute_input": "2022-05-17T08:37:08.092780Z",
     "iopub.status.busy": "2022-05-17T08:37:08.091990Z",
     "iopub.status.idle": "2022-05-17T08:37:08.105571Z",
     "shell.execute_reply": "2022-05-17T08:37:08.104889Z",
     "shell.execute_reply.started": "2022-05-17T08:29:33.024966Z"
    },
    "papermill": {
     "duration": 0.22986,
     "end_time": "2022-05-17T08:37:08.105766",
     "exception": false,
     "start_time": "2022-05-17T08:37:07.875906",
     "status": "completed"
    },
    "tags": []
   },
   "outputs": [],
   "source": [
    "my_submission = pd.DataFrame({'PassengerId': df_validation.PassengerId, 'Transported': y_pred.astype('bool')})\n",
    "# you could use any filename. We choose submission here\n",
    "my_submission.to_csv('submission.csv', index=False)"
   ]
  },
  {
   "cell_type": "code",
   "execution_count": 86,
   "id": "85d7ab19",
   "metadata": {
    "execution": {
     "iopub.execute_input": "2022-05-17T08:37:08.540923Z",
     "iopub.status.busy": "2022-05-17T08:37:08.540190Z",
     "iopub.status.idle": "2022-05-17T08:37:08.543753Z",
     "shell.execute_reply": "2022-05-17T08:37:08.543058Z",
     "shell.execute_reply.started": "2022-05-17T08:29:33.048578Z"
    },
    "papermill": {
     "duration": 0.226822,
     "end_time": "2022-05-17T08:37:08.543902",
     "exception": false,
     "start_time": "2022-05-17T08:37:08.317080",
     "status": "completed"
    },
    "tags": []
   },
   "outputs": [
    {
     "data": {
      "text/html": [
       "<div>\n",
       "<style scoped>\n",
       "    .dataframe tbody tr th:only-of-type {\n",
       "        vertical-align: middle;\n",
       "    }\n",
       "\n",
       "    .dataframe tbody tr th {\n",
       "        vertical-align: top;\n",
       "    }\n",
       "\n",
       "    .dataframe thead th {\n",
       "        text-align: right;\n",
       "    }\n",
       "</style>\n",
       "<table border=\"1\" class=\"dataframe\">\n",
       "  <thead>\n",
       "    <tr style=\"text-align: right;\">\n",
       "      <th></th>\n",
       "      <th>PassengerId</th>\n",
       "      <th>Transported</th>\n",
       "    </tr>\n",
       "  </thead>\n",
       "  <tbody>\n",
       "    <tr>\n",
       "      <th>0</th>\n",
       "      <td>0013_01</td>\n",
       "      <td>True</td>\n",
       "    </tr>\n",
       "    <tr>\n",
       "      <th>1</th>\n",
       "      <td>0018_01</td>\n",
       "      <td>False</td>\n",
       "    </tr>\n",
       "    <tr>\n",
       "      <th>2</th>\n",
       "      <td>0019_01</td>\n",
       "      <td>True</td>\n",
       "    </tr>\n",
       "    <tr>\n",
       "      <th>3</th>\n",
       "      <td>0021_01</td>\n",
       "      <td>True</td>\n",
       "    </tr>\n",
       "    <tr>\n",
       "      <th>4</th>\n",
       "      <td>0023_01</td>\n",
       "      <td>True</td>\n",
       "    </tr>\n",
       "    <tr>\n",
       "      <th>...</th>\n",
       "      <td>...</td>\n",
       "      <td>...</td>\n",
       "    </tr>\n",
       "    <tr>\n",
       "      <th>4272</th>\n",
       "      <td>9266_02</td>\n",
       "      <td>True</td>\n",
       "    </tr>\n",
       "    <tr>\n",
       "      <th>4273</th>\n",
       "      <td>9269_01</td>\n",
       "      <td>False</td>\n",
       "    </tr>\n",
       "    <tr>\n",
       "      <th>4274</th>\n",
       "      <td>9271_01</td>\n",
       "      <td>True</td>\n",
       "    </tr>\n",
       "    <tr>\n",
       "      <th>4275</th>\n",
       "      <td>9273_01</td>\n",
       "      <td>True</td>\n",
       "    </tr>\n",
       "    <tr>\n",
       "      <th>4276</th>\n",
       "      <td>9277_01</td>\n",
       "      <td>True</td>\n",
       "    </tr>\n",
       "  </tbody>\n",
       "</table>\n",
       "<p>4277 rows × 2 columns</p>\n",
       "</div>"
      ],
      "text/plain": [
       "     PassengerId  Transported\n",
       "0        0013_01         True\n",
       "1        0018_01        False\n",
       "2        0019_01         True\n",
       "3        0021_01         True\n",
       "4        0023_01         True\n",
       "...          ...          ...\n",
       "4272     9266_02         True\n",
       "4273     9269_01        False\n",
       "4274     9271_01         True\n",
       "4275     9273_01         True\n",
       "4276     9277_01         True\n",
       "\n",
       "[4277 rows x 2 columns]"
      ]
     },
     "execution_count": 86,
     "metadata": {},
     "output_type": "execute_result"
    }
   ],
   "source": [
    "my_submission"
   ]
  },
  {
   "cell_type": "code",
   "execution_count": null,
   "id": "3869f125",
   "metadata": {
    "papermill": {
     "duration": 0.212009,
     "end_time": "2022-05-17T08:37:08.966899",
     "exception": false,
     "start_time": "2022-05-17T08:37:08.754890",
     "status": "completed"
    },
    "tags": []
   },
   "outputs": [],
   "source": []
  },
  {
   "cell_type": "code",
   "execution_count": null,
   "id": "9eb079ac",
   "metadata": {
    "papermill": {
     "duration": 0.210315,
     "end_time": "2022-05-17T08:37:09.388244",
     "exception": false,
     "start_time": "2022-05-17T08:37:09.177929",
     "status": "completed"
    },
    "tags": []
   },
   "outputs": [],
   "source": []
  },
  {
   "cell_type": "code",
   "execution_count": null,
   "id": "91039c3e",
   "metadata": {
    "papermill": {
     "duration": 0.210598,
     "end_time": "2022-05-17T08:37:09.811248",
     "exception": false,
     "start_time": "2022-05-17T08:37:09.600650",
     "status": "completed"
    },
    "tags": []
   },
   "outputs": [],
   "source": []
  }
 ],
 "metadata": {
  "kernelspec": {
   "display_name": "Python 3",
   "language": "python",
   "name": "python3"
  },
  "language_info": {
   "codemirror_mode": {
    "name": "ipython",
    "version": 3
   },
   "file_extension": ".py",
   "mimetype": "text/x-python",
   "name": "python",
   "nbconvert_exporter": "python",
   "pygments_lexer": "ipython3",
   "version": "3.7.12"
  },
  "papermill": {
   "default_parameters": {},
   "duration": 327.489454,
   "end_time": "2022-05-17T08:37:12.919783",
   "environment_variables": {},
   "exception": null,
   "input_path": "__notebook__.ipynb",
   "output_path": "__notebook__.ipynb",
   "parameters": {},
   "start_time": "2022-05-17T08:31:45.430329",
   "version": "2.3.3"
  }
 },
 "nbformat": 4,
 "nbformat_minor": 5
}
